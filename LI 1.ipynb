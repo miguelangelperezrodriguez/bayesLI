{
 "cells": [
  {
   "cell_type": "raw",
   "id": "90494d22-16ca-4bbb-8a2d-d10b0386c8bb",
   "metadata": {
    "editable": true,
    "raw_mimetype": "",
    "slideshow": {
     "slide_type": ""
    },
    "tags": []
   },
   "source": [
    "PROYECTO DE LI EN REDES BAYESIANAS."
   ]
  },
  {
   "cell_type": "raw",
   "id": "d909074b-d68e-4b00-8226-8235fda4a751",
   "metadata": {},
   "source": [
    "Importamos la librería pyagrum"
   ]
  },
  {
   "cell_type": "code",
   "execution_count": 2,
   "id": "a90d2a99-b4fa-47e7-aada-a57feaca07ca",
   "metadata": {},
   "outputs": [],
   "source": [
    "import pyAgrum as gum"
   ]
  },
  {
   "cell_type": "code",
   "execution_count": null,
   "id": "4491eebc-2522-4893-b728-2396a7eed62c",
   "metadata": {},
   "outputs": [],
   "source": [
    "Creamos la red bayesiana"
   ]
  },
  {
   "cell_type": "code",
   "execution_count": 3,
   "id": "333ced83-84a8-46eb-ae09-392a788935d5",
   "metadata": {},
   "outputs": [],
   "source": [
    "bnLI=gum.BayesNet('Red Bayesiana LI Universo')"
   ]
  },
  {
   "cell_type": "code",
   "execution_count": null,
   "id": "6ed1d93a-73f1-46f2-97b2-5bdb0820b510",
   "metadata": {},
   "outputs": [],
   "source": [
    "Creamos los arcos."
   ]
  },
  {
   "cell_type": "code",
   "execution_count": 4,
   "id": "54145305-0455-49cf-a97d-f8851721bd36",
   "metadata": {},
   "outputs": [
    {
     "name": "stdout",
     "output_type": "stream",
     "text": [
      "0\n"
     ]
    }
   ],
   "source": [
    "id_clase=bnLI.add(gum.LabelizedVariable('c','c?',2))\n",
    "print(id_clase)"
   ]
  },
  {
   "cell_type": "code",
   "execution_count": 5,
   "id": "fc4c94d0-8244-4208-8146-491ddbbb59ee",
   "metadata": {},
   "outputs": [],
   "source": [
    "id_objetoEL, id_objetoTU, id_advrecordNOS, id_advrecordYO, id_nada, id_recordELLA = [ bnLI.add(name, 2) for name in \"otsyar\" ]"
   ]
  },
  {
   "cell_type": "code",
   "execution_count": null,
   "id": "28cce13f-224f-4244-887f-a8e71bcebc98",
   "metadata": {},
   "outputs": [],
   "source": [
    "Mostramos los datos de las variables"
   ]
  },
  {
   "cell_type": "code",
   "execution_count": 6,
   "id": "5150dae8-3d4c-459e-b6b8-96e556722f73",
   "metadata": {},
   "outputs": [
    {
     "name": "stdout",
     "output_type": "stream",
     "text": [
      "BN{nodes: 7, arcs: 0, domainSize: 128, dim: 7, mem: 112o}\n"
     ]
    }
   ],
   "source": [
    "print ( bnLI )"
   ]
  },
  {
   "cell_type": "code",
   "execution_count": null,
   "id": "4d7132d8-9e47-4729-a59c-020c9686bad7",
   "metadata": {},
   "outputs": [],
   "source": [
    "INSERTAMOS LOS ARCOS"
   ]
  },
  {
   "cell_type": "code",
   "execution_count": 7,
   "id": "edc172b8-c42f-41b1-84b0-74be4d422aa7",
   "metadata": {},
   "outputs": [
    {
     "name": "stdout",
     "output_type": "stream",
     "text": [
      "BN{nodes: 7, arcs: 2, domainSize: 128, dim: 9, mem: 144o}\n"
     ]
    }
   ],
   "source": [
    "for link in [(id_clase,id_objetoEL), (id_clase,id_objetoTU)] : \n",
    "    bnLI.addArc(*link)\n",
    "print(bnLI)"
   ]
  },
  {
   "cell_type": "code",
   "execution_count": 8,
   "id": "cde074c5-2666-46e2-967b-f84568511cf2",
   "metadata": {},
   "outputs": [
    {
     "name": "stdout",
     "output_type": "stream",
     "text": [
      "BN{nodes: 7, arcs: 3, domainSize: 128, dim: 10, mem: 160o}\n"
     ]
    }
   ],
   "source": [
    "for link in [(id_objetoEL,id_advrecordNOS)] : \n",
    "    bnLI.addArc(*link)\n",
    "print(bnLI)"
   ]
  },
  {
   "cell_type": "code",
   "execution_count": 9,
   "id": "d7d863cf-7392-4ee9-b55a-3e9f75894e5c",
   "metadata": {},
   "outputs": [
    {
     "name": "stdout",
     "output_type": "stream",
     "text": [
      "BN{nodes: 7, arcs: 4, domainSize: 128, dim: 11, mem: 176o}\n"
     ]
    }
   ],
   "source": [
    "for link in [(id_objetoTU,id_nada)] : \n",
    "    bnLI.addArc(*link)\n",
    "print(bnLI)"
   ]
  },
  {
   "cell_type": "code",
   "execution_count": 10,
   "id": "cbc3f112-3a54-44e3-a895-f4a59b9017df",
   "metadata": {},
   "outputs": [
    {
     "name": "stdout",
     "output_type": "stream",
     "text": [
      "BN{nodes: 7, arcs: 5, domainSize: 128, dim: 12, mem: 192o}\n"
     ]
    }
   ],
   "source": [
    "for link in [  (id_advrecordNOS,id_recordELLA)] : \n",
    "    bnLI.addArc(*link)\n",
    "print(bnLI)"
   ]
  },
  {
   "cell_type": "code",
   "execution_count": null,
   "id": "f033d2c9-123c-4a15-b624-6bfbb8bf1ee7",
   "metadata": {},
   "outputs": [],
   "source": []
  },
  {
   "cell_type": "code",
   "execution_count": 11,
   "id": "df48d612-6015-4ada-891e-c3891c9a53d4",
   "metadata": {},
   "outputs": [
    {
     "name": "stdout",
     "output_type": "stream",
     "text": [
      "BN{nodes: 7, arcs: 6, domainSize: 128, dim: 13, mem: 208o}\n"
     ]
    }
   ],
   "source": [
    "for link in [ (id_recordELLA,id_advrecordYO)] : \n",
    "    bnLI.addArc(*link)\n",
    "print(bnLI)"
   ]
  },
  {
   "cell_type": "code",
   "execution_count": 12,
   "id": "bd738600-14f8-4a2c-b8a8-0c524792fc35",
   "metadata": {},
   "outputs": [
    {
     "name": "stdout",
     "output_type": "stream",
     "text": [
      "BN{nodes: 7, arcs: 7, domainSize: 128, dim: 15, mem: 240o}\n"
     ]
    }
   ],
   "source": [
    "for link in [(id_advrecordYO,id_nada)] : \n",
    "    bnLI.addArc(*link)\n",
    "print(bnLI)"
   ]
  },
  {
   "cell_type": "code",
   "execution_count": null,
   "id": "0cec6081-6eab-4801-b7ad-72c9aa492512",
   "metadata": {},
   "outputs": [],
   "source": [
    "GRAFICAMOS LA RED BAYESIANA"
   ]
  },
  {
   "cell_type": "code",
   "execution_count": null,
   "id": "a8d7c5e6-bc31-47b9-8147-f8ac0c03d6b0",
   "metadata": {},
   "outputs": [],
   "source": [
    "CARACTERIZADA POR :\n",
    "\"e\" (Espiral) => \"n\" (Nucleo) => \"v\" (Vacío)\n",
    "\n",
    "QUEREMOS AMPLIAR \"s\" (Nucleo Vacío sin Espiral)    11\n",
    "QUEREMOS AMPLIAR \"r\" (Entre s(11) e y (YO))        12\n",
    "\n",
    "Se deduce que     \"a\" (Vacío) es el 13 => Insertamos el esquema Universo. :\n",
    "    1->5 (1)\n",
    "    6->9 (2)\n",
    "    15   (3)\n",
    "    16   (4)\n",
    "    17   (5)\n",
    "    18   (6)\n",
    "    19   (7)\n",
    "    20   (8)\n",
    "    21   (9)   Enlazaría red bayesiana con otra.\n",
    "Tenemos 11 nodos: En la lista no está ni el primero ni el último. \"c\" (CLASE) ; \"v\" (Vacío). [Virtual]\n",
    "\n",
    "Se deduce que     \"v\" ; es 14 (Sitio) que deriva en significado de Vacío.\n"
   ]
  },
  {
   "cell_type": "code",
   "execution_count": 13,
   "id": "9925d637-a8fe-4c59-83b5-22a02c8e0c9d",
   "metadata": {},
   "outputs": [
    {
     "data": {
      "text/html": [
       "<svg xmlns=\"http://www.w3.org/2000/svg\" xmlns:xlink=\"http://www.w3.org/1999/xlink\" width=\"119pt\" height=\"360pt\" viewBox=\"0.00 0.00 119.41 360.00\">\n",
       "<g id=\"graph0\" class=\"graph\" transform=\"scale(0.891089 0.891089) rotate(0) translate(4 400)\">\n",
       "<title>G</title>\n",
       "<!-- a -->\n",
       "<g id=\"node1\" class=\"node\">\n",
       "<title>a</title>\n",
       "<g id=\"a_node1\"><a xlink:title=\"(5) a\">\n",
       "<ellipse fill=\"#404040\" stroke=\"#4a4a4a\" cx=\"62\" cy=\"-18\" rx=\"27\" ry=\"18\"/>\n",
       "<text text-anchor=\"middle\" x=\"62\" y=\"-13.32\" font-family=\"Times,serif\" font-size=\"14.00\" fill=\"white\">a</text>\n",
       "</a>\n",
       "</g>\n",
       "</g>\n",
       "<!-- o -->\n",
       "<g id=\"node2\" class=\"node\">\n",
       "<title>o</title>\n",
       "<g id=\"a_node2\"><a xlink:title=\"(1) o\">\n",
       "<ellipse fill=\"#404040\" stroke=\"#4a4a4a\" cx=\"35\" cy=\"-306\" rx=\"27\" ry=\"18\"/>\n",
       "<text text-anchor=\"middle\" x=\"35\" y=\"-301.32\" font-family=\"Times,serif\" font-size=\"14.00\" fill=\"white\">o</text>\n",
       "</a>\n",
       "</g>\n",
       "</g>\n",
       "<!-- s -->\n",
       "<g id=\"node3\" class=\"node\">\n",
       "<title>s</title>\n",
       "<g id=\"a_node3\"><a xlink:title=\"(3) s\">\n",
       "<ellipse fill=\"#404040\" stroke=\"#4a4a4a\" cx=\"27\" cy=\"-234\" rx=\"27\" ry=\"18\"/>\n",
       "<text text-anchor=\"middle\" x=\"27\" y=\"-229.32\" font-family=\"Times,serif\" font-size=\"14.00\" fill=\"white\">s</text>\n",
       "</a>\n",
       "</g>\n",
       "</g>\n",
       "<!-- o&#45;&gt;s -->\n",
       "<g id=\"edge7\" class=\"edge\">\n",
       "<title>o-&gt;s</title>\n",
       "<g id=\"a_edge7\"><a xlink:title=\"1 → 3\">\n",
       "<path fill=\"none\" stroke=\"#4a4a4a\" d=\"M33.02,-287.7C32.19,-280.41 31.2,-271.73 30.26,-263.54\"/>\n",
       "<polygon fill=\"#4a4a4a\" stroke=\"#4a4a4a\" points=\"33.74,-263.15 29.13,-253.61 26.78,-263.94 33.74,-263.15\"/>\n",
       "</a>\n",
       "</g>\n",
       "</g>\n",
       "<!-- r -->\n",
       "<g id=\"node7\" class=\"node\">\n",
       "<title>r</title>\n",
       "<g id=\"a_node7\"><a xlink:title=\"(6) r\">\n",
       "<ellipse fill=\"#404040\" stroke=\"#4a4a4a\" cx=\"35\" cy=\"-162\" rx=\"27\" ry=\"18\"/>\n",
       "<text text-anchor=\"middle\" x=\"35\" y=\"-157.32\" font-family=\"Times,serif\" font-size=\"14.00\" fill=\"white\">r</text>\n",
       "</a>\n",
       "</g>\n",
       "</g>\n",
       "<!-- s&#45;&gt;r -->\n",
       "<g id=\"edge5\" class=\"edge\">\n",
       "<title>s-&gt;r</title>\n",
       "<g id=\"a_edge5\"><a xlink:title=\"3 → 6\">\n",
       "<path fill=\"none\" stroke=\"#4a4a4a\" d=\"M28.98,-215.7C29.81,-208.41 30.8,-199.73 31.74,-191.54\"/>\n",
       "<polygon fill=\"#4a4a4a\" stroke=\"#4a4a4a\" points=\"35.22,-191.94 32.87,-181.61 28.26,-191.15 35.22,-191.94\"/>\n",
       "</a>\n",
       "</g>\n",
       "</g>\n",
       "<!-- c -->\n",
       "<g id=\"node4\" class=\"node\">\n",
       "<title>c</title>\n",
       "<g id=\"a_node4\"><a xlink:title=\"(0) c\">\n",
       "<ellipse fill=\"#404040\" stroke=\"#4a4a4a\" cx=\"62\" cy=\"-378\" rx=\"27\" ry=\"18\"/>\n",
       "<text text-anchor=\"middle\" x=\"62\" y=\"-373.32\" font-family=\"Times,serif\" font-size=\"14.00\" fill=\"white\">c</text>\n",
       "</a>\n",
       "</g>\n",
       "</g>\n",
       "<!-- c&#45;&gt;o -->\n",
       "<g id=\"edge1\" class=\"edge\">\n",
       "<title>c-&gt;o</title>\n",
       "<g id=\"a_edge1\"><a xlink:title=\"0 → 1\">\n",
       "<path fill=\"none\" stroke=\"#4a4a4a\" d=\"M55.46,-360.05C52.48,-352.32 48.87,-342.96 45.52,-334.27\"/>\n",
       "<polygon fill=\"#4a4a4a\" stroke=\"#4a4a4a\" points=\"48.88,-333.27 42.02,-325.2 42.35,-335.79 48.88,-333.27\"/>\n",
       "</a>\n",
       "</g>\n",
       "</g>\n",
       "<!-- t -->\n",
       "<g id=\"node6\" class=\"node\">\n",
       "<title>t</title>\n",
       "<g id=\"a_node6\"><a xlink:title=\"(2) t\">\n",
       "<ellipse fill=\"#404040\" stroke=\"#4a4a4a\" cx=\"99\" cy=\"-234\" rx=\"27\" ry=\"18\"/>\n",
       "<text text-anchor=\"middle\" x=\"99\" y=\"-229.32\" font-family=\"Times,serif\" font-size=\"14.00\" fill=\"white\">t</text>\n",
       "</a>\n",
       "</g>\n",
       "</g>\n",
       "<!-- c&#45;&gt;t -->\n",
       "<g id=\"edge4\" class=\"edge\">\n",
       "<title>c-&gt;t</title>\n",
       "<g id=\"a_edge4\"><a xlink:title=\"0 → 2\">\n",
       "<path fill=\"none\" stroke=\"#4a4a4a\" d=\"M66.46,-359.87C72.71,-335.88 84.15,-291.99 91.66,-263.16\"/>\n",
       "<polygon fill=\"#4a4a4a\" stroke=\"#4a4a4a\" points=\"95,-264.21 94.14,-253.65 88.23,-262.45 95,-264.21\"/>\n",
       "</a>\n",
       "</g>\n",
       "</g>\n",
       "<!-- y -->\n",
       "<g id=\"node5\" class=\"node\">\n",
       "<title>y</title>\n",
       "<g id=\"a_node5\"><a xlink:title=\"(4) y\">\n",
       "<ellipse fill=\"#404040\" stroke=\"#4a4a4a\" cx=\"35\" cy=\"-90\" rx=\"27\" ry=\"18\"/>\n",
       "<text text-anchor=\"middle\" x=\"35\" y=\"-85.33\" font-family=\"Times,serif\" font-size=\"14.00\" fill=\"white\">y</text>\n",
       "</a>\n",
       "</g>\n",
       "</g>\n",
       "<!-- y&#45;&gt;a -->\n",
       "<g id=\"edge3\" class=\"edge\">\n",
       "<title>y-&gt;a</title>\n",
       "<g id=\"a_edge3\"><a xlink:title=\"4 → 5\">\n",
       "<path fill=\"none\" stroke=\"#4a4a4a\" d=\"M41.54,-72.05C44.52,-64.32 48.13,-54.96 51.48,-46.27\"/>\n",
       "<polygon fill=\"#4a4a4a\" stroke=\"#4a4a4a\" points=\"54.65,-47.79 54.98,-37.2 48.12,-45.27 54.65,-47.79\"/>\n",
       "</a>\n",
       "</g>\n",
       "</g>\n",
       "<!-- t&#45;&gt;a -->\n",
       "<g id=\"edge6\" class=\"edge\">\n",
       "<title>t-&gt;a</title>\n",
       "<g id=\"a_edge6\"><a xlink:title=\"2 → 5\">\n",
       "<path fill=\"none\" stroke=\"#4a4a4a\" d=\"M96.03,-215.85C89.69,-179.14 74.74,-92.66 66.93,-47.53\"/>\n",
       "<polygon fill=\"#4a4a4a\" stroke=\"#4a4a4a\" points=\"70.39,-46.98 65.24,-37.72 63.49,-48.17 70.39,-46.98\"/>\n",
       "</a>\n",
       "</g>\n",
       "</g>\n",
       "<!-- r&#45;&gt;y -->\n",
       "<g id=\"edge2\" class=\"edge\">\n",
       "<title>r-&gt;y</title>\n",
       "<g id=\"a_edge2\"><a xlink:title=\"6 → 4\">\n",
       "<path fill=\"none\" stroke=\"#4a4a4a\" d=\"M35,-143.7C35,-136.41 35,-127.73 35,-119.54\"/>\n",
       "<polygon fill=\"#4a4a4a\" stroke=\"#4a4a4a\" points=\"38.5,-119.62 35,-109.62 31.5,-119.62 38.5,-119.62\"/>\n",
       "</a>\n",
       "</g>\n",
       "</g>\n",
       "</g>\n",
       "</svg>"
      ],
      "text/plain": [
       "(pyAgrum.BayesNet@0x641a2451ebc0) BN{nodes: 7, arcs: 7, domainSize: 128, dim: 15, mem: 240o}"
      ]
     },
     "execution_count": 13,
     "metadata": {},
     "output_type": "execute_result"
    }
   ],
   "source": [
    "import pyAgrum.lib.notebook as gnb\n",
    "bnLI"
   ]
  },
  {
   "cell_type": "code",
   "execution_count": 20,
   "id": "b34ca81e-3dc7-4bc3-af16-9c5861c2550d",
   "metadata": {},
   "outputs": [
    {
     "ename": "SyntaxError",
     "evalue": "invalid syntax (1835226293.py, line 1)",
     "output_type": "error",
     "traceback": [
      "\u001b[0;36m  Cell \u001b[0;32mIn[20], line 1\u001b[0;36m\u001b[0m\n\u001b[0;31m    Observamos nro. de arcos a los nodos hoja :\u001b[0m\n\u001b[0m               ^\u001b[0m\n\u001b[0;31mSyntaxError\u001b[0m\u001b[0;31m:\u001b[0m invalid syntax\n"
     ]
    }
   ],
   "source": [
    "Observamos nro. de arcos a los nodos hoja :\n",
    "En bnLI ,       2 (e), 3 (n), 3 (v)\n",
    "En bnLIViajes,  3 (e), 3 (a), 3 (v) "
   ]
  },
  {
   "cell_type": "code",
   "execution_count": null,
   "id": "1e0de2f1-ecff-4b86-9942-278f05afd90b",
   "metadata": {},
   "outputs": [],
   "source": [
    "BUSCAMOS DESARROLLAR \"s\".    "
   ]
  },
  {
   "cell_type": "code",
   "execution_count": 14,
   "id": "057ff7ea-61f2-432e-9b20-967eaa8c4b2c",
   "metadata": {},
   "outputs": [
    {
     "data": {
      "text/html": [
       "<table style=\"border:1px solid black;border-collapse: collapse;\">\n",
       "<tr style='border:1px solid black;color:black;background-color:#808080'>\n",
       "      <th colspan='2'><center>c</center></th></tr>\n",
       "<tr><th style='border:1px solid black;border-bottom-style: double;color:black;background-color:#BBBBBB'>\n",
       "      <center>0</center></th><th style='border:1px solid black;border-bottom-style: double;color:black;background-color:#BBBBBB'>\n",
       "      <center>1</center></th></tr>\n",
       "<tr><td style='color:black;background-color:#bfbf64;text-align:right;padding: 3px;'>0.5000</td><td style='color:black;background-color:#bfbf64;text-align:right;padding: 3px;'>0.5000</td></tr>\n",
       "</table>"
      ],
      "text/plain": [
       "(pyAgrum.Potential@0x641a244e66b0) \n",
       "  c                |\n",
       "0        |1        |\n",
       "---------|---------|\n",
       " 0.5000  | 0.5000  |"
      ]
     },
     "execution_count": 14,
     "metadata": {},
     "output_type": "execute_result"
    }
   ],
   "source": [
    "bnLI.cpt(\"c\").fillWith([0.5,0.5])"
   ]
  },
  {
   "cell_type": "code",
   "execution_count": 15,
   "id": "953945f6-872c-422c-9692-9e3f55c7da56",
   "metadata": {},
   "outputs": [
    {
     "data": {
      "text/plain": [
       "('o', 'c')"
      ]
     },
     "execution_count": 15,
     "metadata": {},
     "output_type": "execute_result"
    }
   ],
   "source": [
    "bnLI.cpt(\"o\").names"
   ]
  },
  {
   "cell_type": "code",
   "execution_count": null,
   "id": "36fc473e-f966-47ee-832a-7273e4038ed6",
   "metadata": {},
   "outputs": [],
   "source": [
    "VALORES TATTWAS \"YO SOY 1\". y \"YO SOY 2\".      55        27"
   ]
  },
  {
   "cell_type": "code",
   "execution_count": 16,
   "id": "d713c242-ad26-4878-92a7-70d8aeea7b7a",
   "metadata": {},
   "outputs": [],
   "source": [
    "bnLI.cpt(\"o\")[:]=[ [0.55,0.45],[0.27,0.73]]"
   ]
  },
  {
   "cell_type": "code",
   "execution_count": 17,
   "id": "3ad824f8-1a94-4782-97c0-3909bb8520e1",
   "metadata": {},
   "outputs": [
    {
     "data": {
      "text/plain": [
       "('s', 'o')"
      ]
     },
     "execution_count": 17,
     "metadata": {},
     "output_type": "execute_result"
    }
   ],
   "source": [
    "bnLI.cpt(\"s\").names"
   ]
  },
  {
   "cell_type": "code",
   "execution_count": null,
   "id": "25891420-42d8-47c1-a3d8-658ccca99815",
   "metadata": {},
   "outputs": [],
   "source": [
    "VALORES TATTWAS \"YO SOY 2\" y \"YO SOY 3\".        27        45"
   ]
  },
  {
   "cell_type": "code",
   "execution_count": 18,
   "id": "ccb1c087-280b-4fd4-a1bc-96740f261eca",
   "metadata": {},
   "outputs": [],
   "source": [
    "bnLI.cpt(\"s\")[:]=[ [0.27,0.73],[0.45,0.55]]"
   ]
  },
  {
   "cell_type": "code",
   "execution_count": 19,
   "id": "59188634-dad8-4cc2-a286-8c21bb7a757e",
   "metadata": {},
   "outputs": [
    {
     "data": {
      "text/html": [
       "<table style=\"border:1px solid black;border-collapse: collapse;\">\n",
       "<tr><th colspan='1'></th>\n",
       "      <th colspan='2' style='border:1px solid black;color:black;background-color:#808080;'><center>s</center>\n",
       "      </th></tr>\n",
       "<tr><th style='border:1px solid black;color:black;background-color:#808080'><center>o</center></th><th style='border:1px solid black;border-bottom-style: double;color:black;background-color:#BBBBBB'>\n",
       "      <center>0</center></th><th style='border:1px solid black;border-bottom-style: double;color:black;background-color:#BBBBBB'>\n",
       "      <center>1</center></th></tr>\n",
       "<tr><th style='border:1px solid black;color:black;background-color:#BBBBBB'><center>0</center></th><td style='color:black;background-color:#dca164;text-align:right;padding: 3px;'>0.2700</td><td style='color:black;background-color:#a1dc64;text-align:right;padding: 3px;'>0.7300</td></tr>\n",
       "<tr><th style='border:1px solid black;color:black;background-color:#BBBBBB'><center>1</center></th><td style='color:black;background-color:#c5b864;text-align:right;padding: 3px;'>0.4500</td><td style='color:black;background-color:#b8c564;text-align:right;padding: 3px;'>0.5500</td></tr>\n",
       "</table>"
      ],
      "text/plain": [
       "(pyAgrum.Potential@0x641a24629ed0) \n",
       "      ||  s                |\n",
       "o     ||0        |1        |\n",
       "------||---------|---------|\n",
       "0     || 0.2700  | 0.7300  |\n",
       "1     || 0.4500  | 0.5500  |"
      ]
     },
     "execution_count": 19,
     "metadata": {},
     "output_type": "execute_result"
    }
   ],
   "source": [
    "bnLI.cpt(\"s\")"
   ]
  },
  {
   "cell_type": "code",
   "execution_count": null,
   "id": "47cc57af-a64f-4fe8-b7bf-350831c07da7",
   "metadata": {},
   "outputs": [],
   "source": [
    "BUSCAMOS DESARROLLAR \"r\". VALORES TATTWAS \"YO SOY 4\". \"YO SOY 2\".  52 y 27"
   ]
  },
  {
   "cell_type": "code",
   "execution_count": 20,
   "id": "3d11cee7-2c99-48ef-81c4-4d1ef120a9e5",
   "metadata": {},
   "outputs": [
    {
     "data": {
      "text/plain": [
       "('r', 's')"
      ]
     },
     "execution_count": 20,
     "metadata": {},
     "output_type": "execute_result"
    }
   ],
   "source": [
    "bnLI.cpt(\"r\").names"
   ]
  },
  {
   "cell_type": "code",
   "execution_count": 21,
   "id": "b46672ea-8061-48c1-9cbb-e10c8184e559",
   "metadata": {},
   "outputs": [],
   "source": [
    "bnLI.cpt(\"r\")[:]=[ [0.52,0.48],[0.27,0.73]]"
   ]
  },
  {
   "cell_type": "code",
   "execution_count": 22,
   "id": "eba37121-ebc0-4097-8908-d0dccd33ec34",
   "metadata": {},
   "outputs": [
    {
     "data": {
      "text/html": [
       "<table style=\"border:1px solid black;border-collapse: collapse;\">\n",
       "<tr><th colspan='1'></th>\n",
       "      <th colspan='2' style='border:1px solid black;color:black;background-color:#808080;'><center>r</center>\n",
       "      </th></tr>\n",
       "<tr><th style='border:1px solid black;color:black;background-color:#808080'><center>s</center></th><th style='border:1px solid black;border-bottom-style: double;color:black;background-color:#BBBBBB'>\n",
       "      <center>0</center></th><th style='border:1px solid black;border-bottom-style: double;color:black;background-color:#BBBBBB'>\n",
       "      <center>1</center></th></tr>\n",
       "<tr><th style='border:1px solid black;color:black;background-color:#BBBBBB'><center>0</center></th><td style='color:black;background-color:#bcc164;text-align:right;padding: 3px;'>0.5200</td><td style='color:black;background-color:#c1bc64;text-align:right;padding: 3px;'>0.4800</td></tr>\n",
       "<tr><th style='border:1px solid black;color:black;background-color:#BBBBBB'><center>1</center></th><td style='color:black;background-color:#dca164;text-align:right;padding: 3px;'>0.2700</td><td style='color:black;background-color:#a1dc64;text-align:right;padding: 3px;'>0.7300</td></tr>\n",
       "</table>"
      ],
      "text/plain": [
       "(pyAgrum.Potential@0x641a23fb2330) \n",
       "      ||  r                |\n",
       "s     ||0        |1        |\n",
       "------||---------|---------|\n",
       "0     || 0.5200  | 0.4800  |\n",
       "1     || 0.2700  | 0.7300  |"
      ]
     },
     "execution_count": 22,
     "metadata": {},
     "output_type": "execute_result"
    }
   ],
   "source": [
    "bnLI.cpt(\"r\")"
   ]
  },
  {
   "cell_type": "code",
   "execution_count": null,
   "id": "4f049dcd-2930-4e7b-939f-b4e29eb540c9",
   "metadata": {},
   "outputs": [],
   "source": [
    "38-39   39-67   38-67   YO PIENSO."
   ]
  },
  {
   "cell_type": "code",
   "execution_count": 23,
   "id": "9fd0dde7-a4dd-44f3-8536-9125d9f2c5f4",
   "metadata": {},
   "outputs": [],
   "source": [
    "bnLI.cpt(\"r\")[:]=[ [0.38,0.62],[0.39,0.61]]"
   ]
  },
  {
   "cell_type": "code",
   "execution_count": 24,
   "id": "15c13771-2719-442c-97a2-9725dba63e23",
   "metadata": {},
   "outputs": [
    {
     "data": {
      "text/plain": [
       "('t', 'c')"
      ]
     },
     "execution_count": 24,
     "metadata": {},
     "output_type": "execute_result"
    }
   ],
   "source": [
    "bnLI.cpt(\"t\").names"
   ]
  },
  {
   "cell_type": "code",
   "execution_count": 25,
   "id": "cd91ae21-bc15-4e74-b5d6-d4cc28404d31",
   "metadata": {},
   "outputs": [],
   "source": [
    "bnLI.cpt(\"t\")[:]=[ [0.39,0.61],[0.67,0.33]]"
   ]
  },
  {
   "cell_type": "code",
   "execution_count": null,
   "id": "c6d2fd55-48a5-488b-b55d-dc0ed6bcbf71",
   "metadata": {},
   "outputs": [],
   "source": [
    "NROS. CENTRADOS : 35 - 60. \"YO SOY\""
   ]
  },
  {
   "cell_type": "code",
   "execution_count": 26,
   "id": "079f488e-51c0-4ab3-8493-ea672c8d8042",
   "metadata": {},
   "outputs": [
    {
     "data": {
      "text/plain": [
       "('y', 'r')"
      ]
     },
     "execution_count": 26,
     "metadata": {},
     "output_type": "execute_result"
    }
   ],
   "source": [
    "bnLI.cpt(\"y\").names"
   ]
  },
  {
   "cell_type": "code",
   "execution_count": 27,
   "id": "0fc718d0-c07d-46ab-999d-ba4df3b2a41b",
   "metadata": {},
   "outputs": [],
   "source": [
    "bnLI.cpt(\"y\")[:]=[ [0.35,0.65],[0.60,0.40]]"
   ]
  },
  {
   "cell_type": "code",
   "execution_count": 28,
   "id": "f3132175-3303-4c8e-85b6-0bbff55d6ede",
   "metadata": {},
   "outputs": [
    {
     "data": {
      "text/html": [
       "<table style=\"border:1px solid black;border-collapse: collapse;\">\n",
       "<tr><th colspan='1'></th>\n",
       "      <th colspan='2' style='border:1px solid black;color:black;background-color:#808080;'><center>y</center>\n",
       "      </th></tr>\n",
       "<tr><th style='border:1px solid black;color:black;background-color:#808080'><center>r</center></th><th style='border:1px solid black;border-bottom-style: double;color:black;background-color:#BBBBBB'>\n",
       "      <center>0</center></th><th style='border:1px solid black;border-bottom-style: double;color:black;background-color:#BBBBBB'>\n",
       "      <center>1</center></th></tr>\n",
       "<tr><th style='border:1px solid black;color:black;background-color:#BBBBBB'><center>0</center></th><td style='color:black;background-color:#d2ab64;text-align:right;padding: 3px;'>0.3500</td><td style='color:black;background-color:#abd264;text-align:right;padding: 3px;'>0.6500</td></tr>\n",
       "<tr><th style='border:1px solid black;color:black;background-color:#BBBBBB'><center>1</center></th><td style='color:black;background-color:#b2cb64;text-align:right;padding: 3px;'>0.6000</td><td style='color:black;background-color:#cbb264;text-align:right;padding: 3px;'>0.4000</td></tr>\n",
       "</table>"
      ],
      "text/plain": [
       "(pyAgrum.Potential@0x641a23d83120) \n",
       "      ||  y                |\n",
       "r     ||0        |1        |\n",
       "------||---------|---------|\n",
       "0     || 0.3500  | 0.6500  |\n",
       "1     || 0.6000  | 0.4000  |"
      ]
     },
     "execution_count": 28,
     "metadata": {},
     "output_type": "execute_result"
    }
   ],
   "source": [
    "bnLI.cpt(\"y\")"
   ]
  },
  {
   "cell_type": "code",
   "execution_count": 29,
   "id": "0d5359b3-519e-40d3-aba1-101feea24321",
   "metadata": {},
   "outputs": [
    {
     "data": {
      "text/plain": [
       "('a', 't', 'y')"
      ]
     },
     "execution_count": 29,
     "metadata": {},
     "output_type": "execute_result"
    }
   ],
   "source": [
    "bnLI.cpt(\"a\").names"
   ]
  },
  {
   "cell_type": "code",
   "execution_count": null,
   "id": "9ccb8d98-e65d-4349-80ef-abc17fef3c27",
   "metadata": {},
   "outputs": [],
   "source": [
    "!!! FALTAN 2 VALORES PARA DAR A \"a\". USAMOS EL YO EQUILIBRO CON TEJAS. >>> 18 . 85. De momento hecho para t . y.\n",
    "FALTA seguda parte de la matriz. HAY QUE USAR \"YO SE ANALIZAR LO QUE SIENTO\". (36, 65) Y "
   ]
  },
  {
   "cell_type": "code",
   "execution_count": null,
   "id": "f174fb6b-470b-4024-9c11-8b15046a9d43",
   "metadata": {},
   "outputs": [],
   "source": [
    "TABLA DE \"A\" : \"NADA\" => \"O\" EL ; \"S\" NOS."
   ]
  },
  {
   "cell_type": "code",
   "execution_count": 31,
   "id": "b0d6e47b-5825-4fb6-a12c-6a74600dcedb",
   "metadata": {},
   "outputs": [
    {
     "data": {
      "text/html": [
       "<table style=\"border:1px solid black;border-collapse: collapse;\">\n",
       "<tr><th colspan='2'></th>\n",
       "      <th colspan='2' style='border:1px solid black;color:black;background-color:#808080;'><center>a</center>\n",
       "      </th></tr>\n",
       "<tr><th style='border:1px solid black;color:black;background-color:#808080'><center>y</center></th><th style='border:1px solid black;color:black;background-color:#808080'><center>t</center></th><th style='border:1px solid black;border-bottom-style: double;color:black;background-color:#BBBBBB'>\n",
       "      <center>0</center></th><th style='border:1px solid black;border-bottom-style: double;color:black;background-color:#BBBBBB'>\n",
       "      <center>1</center></th></tr>\n",
       "<tr><th style='border:1px solid black;color:black;background-color:#BBBBBB;' rowspan = '2'>\n",
       "            <center>0</center></th><th style='border:1px solid black;color:black;background-color:#BBBBBB'><center>0</center></th><td style='color:black;background-color:#e79664;text-align:right;padding: 3px;'>0.1800</td><td style='color:black;background-color:#96e764;text-align:right;padding: 3px;'>0.8200</td></tr>\n",
       "<tr><th style='border:1px solid black;color:black;background-color:#BBBBBB'><center>1</center></th><td style='color:black;background-color:#d0ad64;text-align:right;padding: 3px;'>0.3600</td><td style='color:black;background-color:#add064;text-align:right;padding: 3px;'>0.6400</td></tr>\n",
       "<tr><th style='border:1px solid black;color:black;background-color:#BBBBBB;' rowspan = '2'>\n",
       "            <center>1</center></th><th style='border:1px solid black;color:black;background-color:#BBBBBB'><center>0</center></th><td style='color:black;background-color:#92eb64;text-align:right;padding: 3px;'>0.8500</td><td style='color:black;background-color:#eb9264;text-align:right;padding: 3px;'>0.1500</td></tr>\n",
       "<tr><th style='border:1px solid black;color:black;background-color:#BBBBBB'><center>1</center></th><td style='color:black;background-color:#abd264;text-align:right;padding: 3px;'>0.6500</td><td style='color:black;background-color:#d2ab64;text-align:right;padding: 3px;'>0.3500</td></tr>\n",
       "</table>"
      ],
      "text/plain": [
       "(pyAgrum.Potential@0x641a23da0e50) \n",
       "             ||  a                |\n",
       "t     |y     ||0        |1        |\n",
       "------|------||---------|---------|\n",
       "0     |0     || 0.1800  | 0.8200  |\n",
       "1     |0     || 0.3600  | 0.6400  |\n",
       "0     |1     || 0.8500  | 0.1500  |\n",
       "1     |1     || 0.6500  | 0.3500  |"
      ]
     },
     "execution_count": 31,
     "metadata": {},
     "output_type": "execute_result"
    }
   ],
   "source": [
    "bnLI.cpt(\"a\")[{'t': 0, 'y': 0}] = [0.18,0.82]\n",
    "bnLI.cpt(\"a\")[{'t': 0, 'y': 1}] = [0.85, 0.15]\n",
    "bnLI.cpt(\"a\")[{'t': 1, 'y': 0}] = [0.36, 0.64] \n",
    "bnLI.cpt(\"a\")[{'t': 1, 'y': 1}] = [0.65, 0.35]\n",
    "bnLI.cpt(\"a\")"
   ]
  },
  {
   "cell_type": "code",
   "execution_count": 32,
   "id": "7ddc418c-1948-46bf-963f-21a9678604ef",
   "metadata": {},
   "outputs": [],
   "source": [
    "ie=gum.LazyPropagation(bnLI)"
   ]
  },
  {
   "cell_type": "code",
   "execution_count": null,
   "id": "c689a569-3943-465c-ac99-0587ae1c51d3",
   "metadata": {},
   "outputs": [],
   "source": [
    "X, XI, XII, XIII, XIV, XV y XVI. Esquema Universo.  \n",
    "c, o , t, s, r, y, a"
   ]
  },
  {
   "cell_type": "code",
   "execution_count": 33,
   "id": "b7649824-aea8-4582-8c74-ce75e90e0428",
   "metadata": {},
   "outputs": [
    {
     "name": "stdout",
     "output_type": "stream",
     "text": [
      "\n",
      "  c                |\n",
      "0        |1        |\n",
      "---------|---------|\n",
      " 0.5000  | 0.5000  |\n",
      "\n"
     ]
    }
   ],
   "source": [
    "ie.makeInference()\n",
    "print (ie.posterior(\"c\"))"
   ]
  },
  {
   "cell_type": "code",
   "execution_count": 34,
   "id": "9b71b4fb-59e7-40e4-a145-e22f13b39de2",
   "metadata": {},
   "outputs": [
    {
     "name": "stdout",
     "output_type": "stream",
     "text": [
      "\n",
      "  o                |\n",
      "0        |1        |\n",
      "---------|---------|\n",
      " 0.4100  | 0.5900  |\n",
      "\n"
     ]
    }
   ],
   "source": [
    "print (ie.posterior(\"o\"))"
   ]
  },
  {
   "cell_type": "code",
   "execution_count": 35,
   "id": "dff35ce3-b4ce-43e2-a621-717a24058586",
   "metadata": {},
   "outputs": [
    {
     "name": "stdout",
     "output_type": "stream",
     "text": [
      "\n",
      "  t                |\n",
      "0        |1        |\n",
      "---------|---------|\n",
      " 0.5300  | 0.4700  |\n",
      "\n"
     ]
    }
   ],
   "source": [
    "print (ie.posterior(\"t\"))"
   ]
  },
  {
   "cell_type": "code",
   "execution_count": 36,
   "id": "9dd4d982-472b-4662-9de7-f053788c226f",
   "metadata": {},
   "outputs": [
    {
     "name": "stdout",
     "output_type": "stream",
     "text": [
      "\n",
      "  s                |\n",
      "0        |1        |\n",
      "---------|---------|\n",
      " 0.3762  | 0.6238  |\n",
      "\n"
     ]
    }
   ],
   "source": [
    "print (ie.posterior(\"s\"))"
   ]
  },
  {
   "cell_type": "code",
   "execution_count": 37,
   "id": "56c4f942-fa46-4836-a109-c1f13331d3cc",
   "metadata": {},
   "outputs": [
    {
     "name": "stdout",
     "output_type": "stream",
     "text": [
      "\n",
      "  r                |\n",
      "0        |1        |\n",
      "---------|---------|\n",
      " 0.3862  | 0.6138  |\n",
      "\n"
     ]
    }
   ],
   "source": [
    "print (ie.posterior(\"r\"))"
   ]
  },
  {
   "cell_type": "code",
   "execution_count": 38,
   "id": "b9275435-ef8d-41c3-8cec-c63193aad727",
   "metadata": {},
   "outputs": [
    {
     "name": "stdout",
     "output_type": "stream",
     "text": [
      "\n",
      "  y                |\n",
      "0        |1        |\n",
      "---------|---------|\n",
      " 0.5034  | 0.4966  |\n",
      "\n"
     ]
    }
   ],
   "source": [
    "print (ie.posterior(\"y\"))"
   ]
  },
  {
   "cell_type": "code",
   "execution_count": 39,
   "id": "5ab3f8d7-6550-4cb3-86fb-59860c73ab24",
   "metadata": {},
   "outputs": [
    {
     "name": "stdout",
     "output_type": "stream",
     "text": [
      "\n",
      "  a                |\n",
      "0        |1        |\n",
      "---------|---------|\n",
      " 0.5086  | 0.4914  |\n",
      "\n"
     ]
    }
   ],
   "source": [
    "print (ie.posterior(\"a\"))"
   ]
  },
  {
   "cell_type": "code",
   "execution_count": 73,
   "id": "6e509c85-2ad9-4619-8e6d-1a4968b4b41b",
   "metadata": {},
   "outputs": [
    {
     "data": {
      "text/html": [
       "<table style=\"border:1px solid black;border-collapse: collapse;\">\n",
       "<tr style='border:1px solid black;color:black;background-color:#808080'>\n",
       "      <th colspan='2'><center>r</center></th></tr>\n",
       "<tr><th style='border:1px solid black;border-bottom-style: double;color:black;background-color:#BBBBBB'>\n",
       "      <center>0</center></th><th style='border:1px solid black;border-bottom-style: double;color:black;background-color:#BBBBBB'>\n",
       "      <center>1</center></th></tr>\n",
       "<tr><td style='color:black;background-color:#c6b764;text-align:right;padding: 3px;'>0.4377</td><td style='color:black;background-color:#b7c664;text-align:right;padding: 3px;'>0.5623</td></tr>\n",
       "</table>"
      ],
      "text/plain": [
       "(pyAgrum.Potential@0x641a24c129f0) \n",
       "  r                |\n",
       "0        |1        |\n",
       "---------|---------|\n",
       " 0.4377  | 0.5623  |"
      ]
     },
     "execution_count": 73,
     "metadata": {},
     "output_type": "execute_result"
    }
   ],
   "source": [
    "ie.setEvidence({'c':0, 'a' : 0})\n",
    "ie.makeInference()\n",
    "ie.posterior(\"r\")"
   ]
  },
  {
   "cell_type": "code",
   "execution_count": 74,
   "id": "5483fff2-45b7-4738-af5d-2bcb633e3220",
   "metadata": {},
   "outputs": [
    {
     "data": {
      "text/html": [
       "<table style=\"border:1px solid black;border-collapse: collapse;\">\n",
       "<tr style='border:1px solid black;color:black;background-color:#808080'>\n",
       "      <th colspan='2'><center>r</center></th></tr>\n",
       "<tr><th style='border:1px solid black;border-bottom-style: double;color:black;background-color:#BBBBBB'>\n",
       "      <center>0</center></th><th style='border:1px solid black;border-bottom-style: double;color:black;background-color:#BBBBBB'>\n",
       "      <center>1</center></th></tr>\n",
       "<tr><td style='color:black;background-color:#d4a964;text-align:right;padding: 3px;'>0.3338</td><td style='color:black;background-color:#a9d464;text-align:right;padding: 3px;'>0.6662</td></tr>\n",
       "</table>"
      ],
      "text/plain": [
       "(pyAgrum.Potential@0x641a246943a0) \n",
       "  r                |\n",
       "0        |1        |\n",
       "---------|---------|\n",
       " 0.3338  | 0.6662  |"
      ]
     },
     "execution_count": 74,
     "metadata": {},
     "output_type": "execute_result"
    }
   ],
   "source": [
    "ie.setEvidence({'c':0, 'a' : 1})\n",
    "ie.makeInference()\n",
    "ie.posterior(\"r\")"
   ]
  },
  {
   "cell_type": "code",
   "execution_count": 66,
   "id": "a88d8d58-8303-47f2-9726-b5a4b9093259",
   "metadata": {},
   "outputs": [
    {
     "data": {
      "text/html": [
       "<table style=\"border:1px solid black;border-collapse: collapse;\">\n",
       "<tr style='border:1px solid black;color:black;background-color:#808080'>\n",
       "      <th colspan='2'><center>a</center></th></tr>\n",
       "<tr><th style='border:1px solid black;border-bottom-style: double;color:black;background-color:#BBBBBB'>\n",
       "      <center>0</center></th><th style='border:1px solid black;border-bottom-style: double;color:black;background-color:#BBBBBB'>\n",
       "      <center>1</center></th></tr>\n",
       "<tr><td style='color:black;background-color:#abd264;text-align:right;padding: 3px;'>0.6500</td><td style='color:black;background-color:#d2ab64;text-align:right;padding: 3px;'>0.3500</td></tr>\n",
       "</table>"
      ],
      "text/plain": [
       "(pyAgrum.Potential@0x641a24ec52b0) \n",
       "  a                |\n",
       "0        |1        |\n",
       "---------|---------|\n",
       " 0.6500  | 0.3500  |"
      ]
     },
     "execution_count": 66,
     "metadata": {},
     "output_type": "execute_result"
    }
   ],
   "source": [
    "ie.setEvidence({'t' : 1,'r' : 1, 'y' : '1'})\n",
    "ie.makeInference()\n",
    "ie.posterior(\"a\")"
   ]
  },
  {
   "cell_type": "code",
   "execution_count": 67,
   "id": "26400c94-dec5-4c37-8e68-2fbb0896abd1",
   "metadata": {},
   "outputs": [
    {
     "data": {
      "text/html": [
       "<table style=\"border:1px solid black;border-collapse: collapse;\">\n",
       "<tr style='border:1px solid black;color:black;background-color:#808080'>\n",
       "      <th colspan='2'><center>a</center></th></tr>\n",
       "<tr><th style='border:1px solid black;border-bottom-style: double;color:black;background-color:#BBBBBB'>\n",
       "      <center>0</center></th><th style='border:1px solid black;border-bottom-style: double;color:black;background-color:#BBBBBB'>\n",
       "      <center>1</center></th></tr>\n",
       "<tr><td style='color:black;background-color:#d0ad64;text-align:right;padding: 3px;'>0.3600</td><td style='color:black;background-color:#add064;text-align:right;padding: 3px;'>0.6400</td></tr>\n",
       "</table>"
      ],
      "text/plain": [
       "(pyAgrum.Potential@0x641a24b3fe90) \n",
       "  a                |\n",
       "0        |1        |\n",
       "---------|---------|\n",
       " 0.3600  | 0.6400  |"
      ]
     },
     "execution_count": 67,
     "metadata": {},
     "output_type": "execute_result"
    }
   ],
   "source": [
    "ie.setEvidence({'t' : 1,'r' : 1, 'y' : '0'})\n",
    "ie.makeInference()\n",
    "ie.posterior(\"a\")"
   ]
  },
  {
   "cell_type": "code",
   "execution_count": null,
   "id": "b6152638-201b-4eb4-bc70-ede589ed920c",
   "metadata": {},
   "outputs": [],
   "source": [
    "CAMBIAMOS LAS PROBABILIDADES DE c :  0.65 Y t : 0.4377 0.3600 "
   ]
  },
  {
   "cell_type": "code",
   "execution_count": 79,
   "id": "827721bb-5f28-4f6a-bd79-b9ff3e0dbd3e",
   "metadata": {},
   "outputs": [
    {
     "name": "stdout",
     "output_type": "stream",
     "text": [
      "\n",
      "  c                |\n",
      "0        |1        |\n",
      "---------|---------|\n",
      " 0.6500  | 0.3500  |\n",
      "\n"
     ]
    }
   ],
   "source": [
    "ie=gum.LazyPropagation(bnLI)\n",
    "bnLI.cpt(\"c\").fillWith([0.65,0.35])\n",
    "bnLI.cpt(\"t\")[:]=[ [0.4377,0.5623],[0.36,0.64]]\n",
    "ie.makeInference()\n",
    "print (ie.posterior(\"c\"))"
   ]
  },
  {
   "cell_type": "code",
   "execution_count": 83,
   "id": "c6e16764-6189-4181-9b4c-b5f4e597ab5b",
   "metadata": {},
   "outputs": [
    {
     "name": "stdout",
     "output_type": "stream",
     "text": [
      "\n",
      "  o                |\n",
      "0        |1        |\n",
      "---------|---------|\n",
      " 0.4429  | 0.5571  |\n",
      "\n"
     ]
    }
   ],
   "source": [
    "print (ie.posterior(\"o\"))"
   ]
  },
  {
   "cell_type": "code",
   "execution_count": 84,
   "id": "109b34d0-b327-4d2c-972f-24479f7e7adf",
   "metadata": {},
   "outputs": [
    {
     "name": "stdout",
     "output_type": "stream",
     "text": [
      "\n",
      "  t                |\n",
      "0        |1        |\n",
      "---------|---------|\n",
      " 0.0000  | 1.0000  |\n",
      "\n"
     ]
    }
   ],
   "source": [
    "print (ie.posterior(\"t\"))"
   ]
  },
  {
   "cell_type": "code",
   "execution_count": 85,
   "id": "35e557ad-aa7e-47d9-9f74-9d622f8eab68",
   "metadata": {},
   "outputs": [
    {
     "name": "stdout",
     "output_type": "stream",
     "text": [
      "\n",
      "  s                |\n",
      "0        |1        |\n",
      "---------|---------|\n",
      " 0.3740  | 0.6260  |\n",
      "\n"
     ]
    }
   ],
   "source": [
    "print (ie.posterior(\"s\"))"
   ]
  },
  {
   "cell_type": "code",
   "execution_count": 86,
   "id": "1a575e0f-96b0-4755-ac26-a625480728dc",
   "metadata": {},
   "outputs": [
    {
     "name": "stdout",
     "output_type": "stream",
     "text": [
      "\n",
      "  r                |\n",
      "0        |1        |\n",
      "---------|---------|\n",
      " 0.0000  | 1.0000  |\n",
      "\n"
     ]
    }
   ],
   "source": [
    "print (ie.posterior(\"r\"))"
   ]
  },
  {
   "cell_type": "code",
   "execution_count": 87,
   "id": "e581a9fb-5241-4a37-a80c-464ce8d9e92a",
   "metadata": {},
   "outputs": [
    {
     "name": "stdout",
     "output_type": "stream",
     "text": [
      "\n",
      "  y                |\n",
      "0        |1        |\n",
      "---------|---------|\n",
      " 0.0000  | 1.0000  |\n",
      "\n"
     ]
    }
   ],
   "source": [
    "print (ie.posterior(\"y\"))"
   ]
  },
  {
   "cell_type": "code",
   "execution_count": 88,
   "id": "85519c33-a5d0-4875-a489-ef6af9294df4",
   "metadata": {},
   "outputs": [
    {
     "name": "stdout",
     "output_type": "stream",
     "text": [
      "\n",
      "  a                |\n",
      "0        |1        |\n",
      "---------|---------|\n",
      " 0.6500  | 0.3500  |\n",
      "\n"
     ]
    }
   ],
   "source": [
    "print (ie.posterior(\"a\"))"
   ]
  },
  {
   "cell_type": "code",
   "execution_count": null,
   "id": "fbf095f5-2361-4a0f-881b-e1c3eadd3fd4",
   "metadata": {},
   "outputs": [],
   "source": []
  }
 ],
 "metadata": {
  "kernelspec": {
   "display_name": "Python 3 (ipykernel)",
   "language": "python",
   "name": "python3"
  },
  "language_info": {
   "codemirror_mode": {
    "name": "ipython",
    "version": 3
   },
   "file_extension": ".py",
   "mimetype": "text/x-python",
   "name": "python",
   "nbconvert_exporter": "python",
   "pygments_lexer": "ipython3",
   "version": "3.12.7"
  }
 },
 "nbformat": 4,
 "nbformat_minor": 5
}
