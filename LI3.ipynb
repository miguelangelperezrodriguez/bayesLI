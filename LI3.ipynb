{
 "cells": [
  {
   "cell_type": "code",
   "execution_count": null,
   "id": "6180d44b-7d91-43f0-b918-dbc0cdc3be0b",
   "metadata": {},
   "outputs": [],
   "source": [
    "MUNDO DERIVADO DE LI 1."
   ]
  },
  {
   "cell_type": "code",
   "execution_count": null,
   "id": "8da6f467-9efe-4718-b6ab-2dcfeb002b13",
   "metadata": {},
   "outputs": [],
   "source": [
    "Importamos la librería pyagrum"
   ]
  },
  {
   "cell_type": "code",
   "execution_count": 1,
   "id": "24136ef9-5ae6-412e-b559-7e8459782c5d",
   "metadata": {},
   "outputs": [],
   "source": [
    "import pyAgrum as gum"
   ]
  },
  {
   "cell_type": "code",
   "execution_count": null,
   "id": "ed7d865a-16dd-4a78-a763-6da293c7e8c5",
   "metadata": {},
   "outputs": [],
   "source": [
    "bnLIZ : 26     Influye más hacia el 17\n",
    "bnLIX : 24     Influye más hacia el 18\n",
    "bnLIV : 22     Influye más hacia el 19"
   ]
  },
  {
   "cell_type": "code",
   "execution_count": 2,
   "id": "9e47513c-c6a5-435c-adb4-09f48124a225",
   "metadata": {},
   "outputs": [],
   "source": [
    "bnLIX=gum.BayesNet('Red Bayesiana LI MUNDO X')"
   ]
  },
  {
   "cell_type": "code",
   "execution_count": 4,
   "id": "8a78f54e-1e7c-4326-b66e-3551aaa1e3eb",
   "metadata": {},
   "outputs": [
    {
     "name": "stdout",
     "output_type": "stream",
     "text": [
      "0\n"
     ]
    }
   ],
   "source": [
    "id_clase=bnLIX.add(gum.LabelizedVariable('c','c?',2))\n",
    "print(id_clase)"
   ]
  },
  {
   "cell_type": "code",
   "execution_count": 6,
   "id": "34c1fa7c-6437-4b51-8aa1-ae7d32b936cd",
   "metadata": {},
   "outputs": [],
   "source": [
    "id_objetoEL, id_advrecordNOS, id_nada = [ bnLIX.add(name, 2) for name in \"osa\" ]"
   ]
  },
  {
   "cell_type": "code",
   "execution_count": null,
   "id": "43282814-d90f-40f1-b5ce-339ac41eadca",
   "metadata": {},
   "outputs": [],
   "source": [
    "o , (17)\n",
    "s , (18)\n",
    "a , (19)"
   ]
  },
  {
   "cell_type": "code",
   "execution_count": null,
   "id": "282d7652-41e5-4016-9a2b-139a7ccabd02",
   "metadata": {},
   "outputs": [],
   "source": [
    "Mostramos los datos de las variables"
   ]
  },
  {
   "cell_type": "code",
   "execution_count": 7,
   "id": "70eaef72-02e2-4493-ad72-81037b0906eb",
   "metadata": {},
   "outputs": [
    {
     "name": "stdout",
     "output_type": "stream",
     "text": [
      "BN{nodes: 4, arcs: 0, domainSize: 16, dim: 4, mem: 64o}\n"
     ]
    }
   ],
   "source": [
    "print ( bnLIX )"
   ]
  },
  {
   "cell_type": "code",
   "execution_count": null,
   "id": "8a716f48-7ca5-4bd0-a58a-e490c8aa757a",
   "metadata": {},
   "outputs": [],
   "source": [
    "INSERTAMOS LOS ARCOS PARA FORMA EN X DE MUNDO."
   ]
  },
  {
   "cell_type": "code",
   "execution_count": 10,
   "id": "4d872ecf-ec5e-4443-891c-13619318fa18",
   "metadata": {},
   "outputs": [
    {
     "name": "stdout",
     "output_type": "stream",
     "text": [
      "BN{nodes: 4, arcs: 3, domainSize: 16, dim: 7, mem: 112o}\n"
     ]
    }
   ],
   "source": [
    "for link in [(id_clase,id_objetoEL),(id_clase,id_advrecordNOS)] : \n",
    "    bnLIX.addArc(*link)\n",
    "print(bnLIX)"
   ]
  },
  {
   "cell_type": "code",
   "execution_count": 11,
   "id": "19555bcd-264c-46b4-b1f0-e79179cca8fd",
   "metadata": {},
   "outputs": [
    {
     "ename": "DuplicateElement",
     "evalue": "[pyAgrum] Duplicate element: The arc (1,3) already exists.",
     "output_type": "error",
     "traceback": [
      "\u001b[0;31m---------------------------------------------------------------------------\u001b[0m",
      "\u001b[0;31mDuplicateElement\u001b[0m                          Traceback (most recent call last)",
      "\u001b[0;32m/tmp/ipykernel_8239/2806324702.py\u001b[0m in \u001b[0;36m?\u001b[0;34m()\u001b[0m\n\u001b[1;32m      1\u001b[0m \u001b[0;32mfor\u001b[0m \u001b[0mlink\u001b[0m \u001b[0;32min\u001b[0m \u001b[0;34m[\u001b[0m\u001b[0;34m(\u001b[0m\u001b[0mid_objetoEL\u001b[0m\u001b[0;34m,\u001b[0m\u001b[0mid_nada\u001b[0m\u001b[0;34m)\u001b[0m\u001b[0;34m]\u001b[0m \u001b[0;34m:\u001b[0m\u001b[0;34m\u001b[0m\u001b[0;34m\u001b[0m\u001b[0m\n\u001b[0;32m----> 2\u001b[0;31m     \u001b[0mbnLIX\u001b[0m\u001b[0;34m.\u001b[0m\u001b[0maddArc\u001b[0m\u001b[0;34m(\u001b[0m\u001b[0;34m*\u001b[0m\u001b[0mlink\u001b[0m\u001b[0;34m)\u001b[0m\u001b[0;34m\u001b[0m\u001b[0;34m\u001b[0m\u001b[0m\n\u001b[0m\u001b[1;32m      3\u001b[0m \u001b[0mprint\u001b[0m\u001b[0;34m(\u001b[0m\u001b[0mbnLIX\u001b[0m\u001b[0;34m)\u001b[0m\u001b[0;34m\u001b[0m\u001b[0;34m\u001b[0m\u001b[0m\n",
      "\u001b[0;32m~/.local/lib/python3.12/site-packages/pyAgrum/pyAgrum.py\u001b[0m in \u001b[0;36m?\u001b[0;34m(self, *args)\u001b[0m\n\u001b[1;32m  11324\u001b[0m         \u001b[0mpyAgrum\u001b[0m\u001b[0;34m.\u001b[0m\u001b[0mDuplicateElement\u001b[0m\u001b[0;34m\u001b[0m\u001b[0;34m\u001b[0m\u001b[0m\n\u001b[1;32m  11325\u001b[0m             \u001b[0mIf\u001b[0m \u001b[0mthe\u001b[0m \u001b[0marc\u001b[0m \u001b[0malready\u001b[0m \u001b[0mexists\u001b[0m\u001b[0;34m.\u001b[0m\u001b[0;34m\u001b[0m\u001b[0;34m\u001b[0m\u001b[0m\n\u001b[1;32m  11326\u001b[0m \u001b[0;34m\u001b[0m\u001b[0m\n\u001b[1;32m  11327\u001b[0m         \"\"\"\n\u001b[0;32m> 11328\u001b[0;31m         \u001b[0;32mreturn\u001b[0m \u001b[0m_pyAgrum\u001b[0m\u001b[0;34m.\u001b[0m\u001b[0mBayesNet_addArc\u001b[0m\u001b[0;34m(\u001b[0m\u001b[0mself\u001b[0m\u001b[0;34m,\u001b[0m \u001b[0;34m*\u001b[0m\u001b[0margs\u001b[0m\u001b[0;34m)\u001b[0m\u001b[0;34m\u001b[0m\u001b[0;34m\u001b[0m\u001b[0m\n\u001b[0m",
      "\u001b[0;31mDuplicateElement\u001b[0m: [pyAgrum] Duplicate element: The arc (1,3) already exists."
     ]
    }
   ],
   "source": [
    "for link in [(id_objetoEL,id_nada)] : \n",
    "    bnLIX.addArc(*link)\n",
    "print(bnLIX)"
   ]
  },
  {
   "cell_type": "code",
   "execution_count": 13,
   "id": "cb7ebd7b-dfa3-4576-8bef-90022b69d2a1",
   "metadata": {},
   "outputs": [
    {
     "ename": "DuplicateElement",
     "evalue": "[pyAgrum] Duplicate element: The arc (2,3) already exists.",
     "output_type": "error",
     "traceback": [
      "\u001b[0;31m---------------------------------------------------------------------------\u001b[0m",
      "\u001b[0;31mDuplicateElement\u001b[0m                          Traceback (most recent call last)",
      "\u001b[0;32m/tmp/ipykernel_8239/2186592339.py\u001b[0m in \u001b[0;36m?\u001b[0;34m()\u001b[0m\n\u001b[1;32m      1\u001b[0m \u001b[0;32mfor\u001b[0m \u001b[0mlink\u001b[0m \u001b[0;32min\u001b[0m \u001b[0;34m[\u001b[0m\u001b[0;34m(\u001b[0m\u001b[0mid_advrecordNOS\u001b[0m\u001b[0;34m,\u001b[0m \u001b[0mid_nada\u001b[0m\u001b[0;34m)\u001b[0m\u001b[0;34m]\u001b[0m \u001b[0;34m:\u001b[0m\u001b[0;34m\u001b[0m\u001b[0;34m\u001b[0m\u001b[0m\n\u001b[0;32m----> 2\u001b[0;31m     \u001b[0mbnLIX\u001b[0m\u001b[0;34m.\u001b[0m\u001b[0maddArc\u001b[0m\u001b[0;34m(\u001b[0m\u001b[0;34m*\u001b[0m\u001b[0mlink\u001b[0m\u001b[0;34m)\u001b[0m\u001b[0;34m\u001b[0m\u001b[0;34m\u001b[0m\u001b[0m\n\u001b[0m\u001b[1;32m      3\u001b[0m \u001b[0mprint\u001b[0m\u001b[0;34m(\u001b[0m\u001b[0mbnLIX\u001b[0m\u001b[0;34m)\u001b[0m\u001b[0;34m\u001b[0m\u001b[0;34m\u001b[0m\u001b[0m\n",
      "\u001b[0;32m~/.local/lib/python3.12/site-packages/pyAgrum/pyAgrum.py\u001b[0m in \u001b[0;36m?\u001b[0;34m(self, *args)\u001b[0m\n\u001b[1;32m  11324\u001b[0m         \u001b[0mpyAgrum\u001b[0m\u001b[0;34m.\u001b[0m\u001b[0mDuplicateElement\u001b[0m\u001b[0;34m\u001b[0m\u001b[0;34m\u001b[0m\u001b[0m\n\u001b[1;32m  11325\u001b[0m             \u001b[0mIf\u001b[0m \u001b[0mthe\u001b[0m \u001b[0marc\u001b[0m \u001b[0malready\u001b[0m \u001b[0mexists\u001b[0m\u001b[0;34m.\u001b[0m\u001b[0;34m\u001b[0m\u001b[0;34m\u001b[0m\u001b[0m\n\u001b[1;32m  11326\u001b[0m \u001b[0;34m\u001b[0m\u001b[0m\n\u001b[1;32m  11327\u001b[0m         \"\"\"\n\u001b[0;32m> 11328\u001b[0;31m         \u001b[0;32mreturn\u001b[0m \u001b[0m_pyAgrum\u001b[0m\u001b[0;34m.\u001b[0m\u001b[0mBayesNet_addArc\u001b[0m\u001b[0;34m(\u001b[0m\u001b[0mself\u001b[0m\u001b[0;34m,\u001b[0m \u001b[0;34m*\u001b[0m\u001b[0margs\u001b[0m\u001b[0;34m)\u001b[0m\u001b[0;34m\u001b[0m\u001b[0;34m\u001b[0m\u001b[0m\n\u001b[0m",
      "\u001b[0;31mDuplicateElement\u001b[0m: [pyAgrum] Duplicate element: The arc (2,3) already exists."
     ]
    }
   ],
   "source": [
    "for link in [(id_advrecordNOS, id_nada)] : \n",
    "    bnLIX.addArc(*link)\n",
    "print(bnLIX)"
   ]
  },
  {
   "cell_type": "code",
   "execution_count": null,
   "id": "c30d3e2a-64fd-4c75-9281-d5917c8fd0af",
   "metadata": {},
   "outputs": [],
   "source": [
    "GRAFICAMOS EL MUNDO \"X\""
   ]
  },
  {
   "cell_type": "code",
   "execution_count": 14,
   "id": "2f77e25e-12e8-4186-9eac-09e60647504c",
   "metadata": {},
   "outputs": [
    {
     "data": {
      "text/html": [
       "<svg xmlns=\"http://www.w3.org/2000/svg\" xmlns:xlink=\"http://www.w3.org/1999/xlink\" width=\"134pt\" height=\"188pt\" viewBox=\"0.00 0.00 134.00 188.00\">\n",
       "<g id=\"graph0\" class=\"graph\" transform=\"scale(1 1) rotate(0) translate(4 184)\">\n",
       "<title>G</title>\n",
       "<!-- a -->\n",
       "<g id=\"node1\" class=\"node\">\n",
       "<title>a</title>\n",
       "<g id=\"a_node1\"><a xlink:title=\"(3) a\">\n",
       "<ellipse fill=\"#404040\" stroke=\"#4a4a4a\" cx=\"63\" cy=\"-18\" rx=\"27\" ry=\"18\"/>\n",
       "<text text-anchor=\"middle\" x=\"63\" y=\"-13.32\" font-family=\"Times,serif\" font-size=\"14.00\" fill=\"white\">a</text>\n",
       "</a>\n",
       "</g>\n",
       "</g>\n",
       "<!-- s -->\n",
       "<g id=\"node2\" class=\"node\">\n",
       "<title>s</title>\n",
       "<g id=\"a_node2\"><a xlink:title=\"(2) s\">\n",
       "<ellipse fill=\"#404040\" stroke=\"#4a4a4a\" cx=\"27\" cy=\"-90\" rx=\"27\" ry=\"18\"/>\n",
       "<text text-anchor=\"middle\" x=\"27\" y=\"-85.33\" font-family=\"Times,serif\" font-size=\"14.00\" fill=\"white\">s</text>\n",
       "</a>\n",
       "</g>\n",
       "</g>\n",
       "<!-- s&#45;&gt;a -->\n",
       "<g id=\"edge3\" class=\"edge\">\n",
       "<title>s-&gt;a</title>\n",
       "<g id=\"a_edge3\"><a xlink:title=\"2 → 3\">\n",
       "<path fill=\"none\" stroke=\"#4a4a4a\" d=\"M35.35,-72.76C39.58,-64.55 44.81,-54.37 49.58,-45.09\"/>\n",
       "<polygon fill=\"#4a4a4a\" stroke=\"#4a4a4a\" points=\"52.54,-46.99 54,-36.49 46.32,-43.79 52.54,-46.99\"/>\n",
       "</a>\n",
       "</g>\n",
       "</g>\n",
       "<!-- o -->\n",
       "<g id=\"node3\" class=\"node\">\n",
       "<title>o</title>\n",
       "<g id=\"a_node3\"><a xlink:title=\"(1) o\">\n",
       "<ellipse fill=\"#404040\" stroke=\"#4a4a4a\" cx=\"99\" cy=\"-90\" rx=\"27\" ry=\"18\"/>\n",
       "<text text-anchor=\"middle\" x=\"99\" y=\"-85.33\" font-family=\"Times,serif\" font-size=\"14.00\" fill=\"white\">o</text>\n",
       "</a>\n",
       "</g>\n",
       "</g>\n",
       "<!-- o&#45;&gt;a -->\n",
       "<g id=\"edge4\" class=\"edge\">\n",
       "<title>o-&gt;a</title>\n",
       "<g id=\"a_edge4\"><a xlink:title=\"1 → 3\">\n",
       "<path fill=\"none\" stroke=\"#4a4a4a\" d=\"M90.65,-72.76C86.42,-64.55 81.19,-54.37 76.42,-45.09\"/>\n",
       "<polygon fill=\"#4a4a4a\" stroke=\"#4a4a4a\" points=\"79.68,-43.79 72,-36.49 73.46,-46.99 79.68,-43.79\"/>\n",
       "</a>\n",
       "</g>\n",
       "</g>\n",
       "<!-- c -->\n",
       "<g id=\"node4\" class=\"node\">\n",
       "<title>c</title>\n",
       "<g id=\"a_node4\"><a xlink:title=\"(0) c\">\n",
       "<ellipse fill=\"#404040\" stroke=\"#4a4a4a\" cx=\"63\" cy=\"-162\" rx=\"27\" ry=\"18\"/>\n",
       "<text text-anchor=\"middle\" x=\"63\" y=\"-157.32\" font-family=\"Times,serif\" font-size=\"14.00\" fill=\"white\">c</text>\n",
       "</a>\n",
       "</g>\n",
       "</g>\n",
       "<!-- c&#45;&gt;s -->\n",
       "<g id=\"edge2\" class=\"edge\">\n",
       "<title>c-&gt;s</title>\n",
       "<g id=\"a_edge2\"><a xlink:title=\"0 → 2\">\n",
       "<path fill=\"none\" stroke=\"#4a4a4a\" d=\"M54.65,-144.76C50.42,-136.55 45.19,-126.37 40.42,-117.09\"/>\n",
       "<polygon fill=\"#4a4a4a\" stroke=\"#4a4a4a\" points=\"43.68,-115.79 36,-108.49 37.46,-118.99 43.68,-115.79\"/>\n",
       "</a>\n",
       "</g>\n",
       "</g>\n",
       "<!-- c&#45;&gt;o -->\n",
       "<g id=\"edge1\" class=\"edge\">\n",
       "<title>c-&gt;o</title>\n",
       "<g id=\"a_edge1\"><a xlink:title=\"0 → 1\">\n",
       "<path fill=\"none\" stroke=\"#4a4a4a\" d=\"M71.35,-144.76C75.58,-136.55 80.81,-126.37 85.58,-117.09\"/>\n",
       "<polygon fill=\"#4a4a4a\" stroke=\"#4a4a4a\" points=\"88.54,-118.99 90,-108.49 82.32,-115.79 88.54,-118.99\"/>\n",
       "</a>\n",
       "</g>\n",
       "</g>\n",
       "</g>\n",
       "</svg>"
      ],
      "text/plain": [
       "(pyAgrum.BayesNet@0x62b976a7cfa0) BN{nodes: 4, arcs: 4, domainSize: 16, dim: 9, mem: 144o}"
      ]
     },
     "execution_count": 14,
     "metadata": {},
     "output_type": "execute_result"
    }
   ],
   "source": [
    "import pyAgrum.lib.notebook as gnb\n",
    "bnLIX"
   ]
  },
  {
   "cell_type": "code",
   "execution_count": 20,
   "id": "c5f32b4f-79f4-4158-b8dc-16e327efa85f",
   "metadata": {},
   "outputs": [
    {
     "data": {
      "text/html": [
       "<table style=\"border:1px solid black;border-collapse: collapse;\">\n",
       "<tr style='border:1px solid black;color:black;background-color:#808080'>\n",
       "      <th colspan='2'><center>c</center></th></tr>\n",
       "<tr><th style='border:1px solid black;border-bottom-style: double;color:black;background-color:#BBBBBB'>\n",
       "      <center>0</center></th><th style='border:1px solid black;border-bottom-style: double;color:black;background-color:#BBBBBB'>\n",
       "      <center>1</center></th></tr>\n",
       "<tr><td style='color:black;background-color:#abd264;text-align:right;padding: 3px;'>0.6500</td><td style='color:black;background-color:#d2ab64;text-align:right;padding: 3px;'>0.3500</td></tr>\n",
       "</table>"
      ],
      "text/plain": [
       "(pyAgrum.Potential@0x6550e071cbe0) \n",
       "  c                |\n",
       "0        |1        |\n",
       "---------|---------|\n",
       " 0.6500  | 0.3500  |"
      ]
     },
     "execution_count": 20,
     "metadata": {},
     "output_type": "execute_result"
    }
   ],
   "source": [
    "bnLIZ.cpt(\"c\").fillWith([0.65,0.35])"
   ]
  },
  {
   "cell_type": "code",
   "execution_count": null,
   "id": "861c0b81-7b81-4227-af71-ccaff4fa9ead",
   "metadata": {},
   "outputs": [],
   "source": [
    "La probabilidad 0.41 viene del primer análisis de las variables."
   ]
  },
  {
   "cell_type": "code",
   "execution_count": 26,
   "id": "a261790b-7ab3-40ac-ac22-33d9bb1613cf",
   "metadata": {},
   "outputs": [],
   "source": [
    "bnLIZ.cpt(\"o\")[:]=[ [0.4429,0.5571],[0.41,0.59]]"
   ]
  },
  {
   "cell_type": "code",
   "execution_count": 27,
   "id": "f9ba6f42-ab8b-4d8f-bf4e-6f47c54cc723",
   "metadata": {},
   "outputs": [
    {
     "data": {
      "text/html": [
       "<table style=\"border:1px solid black;border-collapse: collapse;\">\n",
       "<tr><th colspan='1'></th>\n",
       "      <th colspan='2' style='border:1px solid black;color:black;background-color:#808080;'><center>o</center>\n",
       "      </th></tr>\n",
       "<tr><th style='border:1px solid black;color:black;background-color:#808080'><center>c</center></th><th style='border:1px solid black;border-bottom-style: double;color:black;background-color:#BBBBBB'>\n",
       "      <center>0</center></th><th style='border:1px solid black;border-bottom-style: double;color:black;background-color:#BBBBBB'>\n",
       "      <center>1</center></th></tr>\n",
       "<tr><th style='border:1px solid black;color:black;background-color:#BBBBBB'><center>0</center></th><td style='color:black;background-color:#c6b764;text-align:right;padding: 3px;'>0.4429</td><td style='color:black;background-color:#b7c664;text-align:right;padding: 3px;'>0.5571</td></tr>\n",
       "<tr><th style='border:1px solid black;color:black;background-color:#BBBBBB'><center>1</center></th><td style='color:black;background-color:#cab364;text-align:right;padding: 3px;'>0.4100</td><td style='color:black;background-color:#b3ca64;text-align:right;padding: 3px;'>0.5900</td></tr>\n",
       "</table>"
      ],
      "text/plain": [
       "(pyAgrum.Potential@0x6550e06e3ea0) \n",
       "      ||  o                |\n",
       "c     ||0        |1        |\n",
       "------||---------|---------|\n",
       "0     || 0.4429  | 0.5571  |\n",
       "1     || 0.4100  | 0.5900  |"
      ]
     },
     "execution_count": 27,
     "metadata": {},
     "output_type": "execute_result"
    }
   ],
   "source": [
    "bnLIZ.cpt(\"o\")"
   ]
  },
  {
   "cell_type": "code",
   "execution_count": 29,
   "id": "dde131f4-c1b6-4757-b684-b78bda9504d3",
   "metadata": {},
   "outputs": [],
   "source": [
    "bnLIZ.cpt(\"s\")[:]=[ [0.3740,0.6260],[0.3762,0.6238] ]"
   ]
  },
  {
   "cell_type": "code",
   "execution_count": 30,
   "id": "d6cd6fce-b708-4795-9c6a-1fe320edf84f",
   "metadata": {},
   "outputs": [
    {
     "data": {
      "text/html": [
       "<table style=\"border:1px solid black;border-collapse: collapse;\">\n",
       "<tr><th colspan='1'></th>\n",
       "      <th colspan='2' style='border:1px solid black;color:black;background-color:#808080;'><center>s</center>\n",
       "      </th></tr>\n",
       "<tr><th style='border:1px solid black;color:black;background-color:#808080'><center>o</center></th><th style='border:1px solid black;border-bottom-style: double;color:black;background-color:#BBBBBB'>\n",
       "      <center>0</center></th><th style='border:1px solid black;border-bottom-style: double;color:black;background-color:#BBBBBB'>\n",
       "      <center>1</center></th></tr>\n",
       "<tr><th style='border:1px solid black;color:black;background-color:#BBBBBB'><center>0</center></th><td style='color:black;background-color:#cfae64;text-align:right;padding: 3px;'>0.3740</td><td style='color:black;background-color:#aecf64;text-align:right;padding: 3px;'>0.6260</td></tr>\n",
       "<tr><th style='border:1px solid black;color:black;background-color:#BBBBBB'><center>1</center></th><td style='color:black;background-color:#ceaf64;text-align:right;padding: 3px;'>0.3762</td><td style='color:black;background-color:#afce64;text-align:right;padding: 3px;'>0.6238</td></tr>\n",
       "</table>"
      ],
      "text/plain": [
       "(pyAgrum.Potential@0x6550e05f95b0) \n",
       "      ||  s                |\n",
       "o     ||0        |1        |\n",
       "------||---------|---------|\n",
       "0     || 0.3740  | 0.6260  |\n",
       "1     || 0.3762  | 0.6238  |"
      ]
     },
     "execution_count": 30,
     "metadata": {},
     "output_type": "execute_result"
    }
   ],
   "source": [
    "bnLIZ.cpt(\"s\")"
   ]
  },
  {
   "cell_type": "code",
   "execution_count": 31,
   "id": "470fd7eb-fe43-4138-9108-5046d79a3d13",
   "metadata": {},
   "outputs": [],
   "source": [
    "// EVALUAR DATOS QUE FALTAN PARA \"a\". Fijarse en LI2.  "
   ]
  }
 ],
 "metadata": {
  "kernelspec": {
   "display_name": "Python 3 (ipykernel)",
   "language": "python",
   "name": "python3"
  },
  "language_info": {
   "codemirror_mode": {
    "name": "ipython",
    "version": 3
   },
   "file_extension": ".py",
   "mimetype": "text/x-python",
   "name": "python",
   "nbconvert_exporter": "python",
   "pygments_lexer": "ipython3",
   "version": "3.12.7"
  }
 },
 "nbformat": 4,
 "nbformat_minor": 5
}
