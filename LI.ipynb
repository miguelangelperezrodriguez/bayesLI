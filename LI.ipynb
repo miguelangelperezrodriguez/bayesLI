{
 "cells": [
  {
   "cell_type": "raw",
   "id": "90494d22-16ca-4bbb-8a2d-d10b0386c8bb",
   "metadata": {
    "editable": true,
    "raw_mimetype": "",
    "slideshow": {
     "slide_type": ""
    },
    "tags": []
   },
   "source": [
    "PROYECTO DE LI EN REDES BAYESIANAS."
   ]
  },
  {
   "cell_type": "raw",
   "id": "d909074b-d68e-4b00-8226-8235fda4a751",
   "metadata": {},
   "source": [
    "Importamos la librería pyagrum"
   ]
  },
  {
   "cell_type": "code",
   "execution_count": 1,
   "id": "a90d2a99-b4fa-47e7-aada-a57feaca07ca",
   "metadata": {},
   "outputs": [],
   "source": [
    "import pyAgrum as gum"
   ]
  },
  {
   "cell_type": "code",
   "execution_count": null,
   "id": "4491eebc-2522-4893-b728-2396a7eed62c",
   "metadata": {},
   "outputs": [],
   "source": [
    "Creamos la red bayesiana"
   ]
  },
  {
   "cell_type": "code",
   "execution_count": 2,
   "id": "333ced83-84a8-46eb-ae09-392a788935d5",
   "metadata": {},
   "outputs": [],
   "source": [
    "bnLI=gum.BayesNet('Red Bayesiana LI Universo')"
   ]
  },
  {
   "cell_type": "code",
   "execution_count": null,
   "id": "6ed1d93a-73f1-46f2-97b2-5bdb0820b510",
   "metadata": {},
   "outputs": [],
   "source": [
    "Creamos los arcos."
   ]
  },
  {
   "cell_type": "code",
   "execution_count": 3,
   "id": "54145305-0455-49cf-a97d-f8851721bd36",
   "metadata": {},
   "outputs": [
    {
     "name": "stdout",
     "output_type": "stream",
     "text": [
      "0\n"
     ]
    }
   ],
   "source": [
    "id_clase=bnLI.add(gum.LabelizedVariable('c','c?',2))\n",
    "print(id_clase)"
   ]
  },
  {
   "cell_type": "code",
   "execution_count": 4,
   "id": "fc4c94d0-8244-4208-8146-491ddbbb59ee",
   "metadata": {},
   "outputs": [],
   "source": [
    "id_espiral, id_fractal, id_objetoEL, id_nucleo, id_objetoTU, id_advrecordNOS, id_advrecordYO, id_nada, id_vacio, id_recordELLA = [ bnLI.add(name, 2) for name in \"efontsyavr\" ]"
   ]
  },
  {
   "cell_type": "code",
   "execution_count": null,
   "id": "28cce13f-224f-4244-887f-a8e71bcebc98",
   "metadata": {},
   "outputs": [],
   "source": [
    "Mostramos los datos de las variables"
   ]
  },
  {
   "cell_type": "code",
   "execution_count": 5,
   "id": "5150dae8-3d4c-459e-b6b8-96e556722f73",
   "metadata": {},
   "outputs": [
    {
     "name": "stdout",
     "output_type": "stream",
     "text": [
      "BN{nodes: 11, arcs: 0, domainSize: 2048, dim: 11, mem: 176o}\n"
     ]
    }
   ],
   "source": [
    "print ( bnLI )"
   ]
  },
  {
   "cell_type": "code",
   "execution_count": null,
   "id": "4d7132d8-9e47-4729-a59c-020c9686bad7",
   "metadata": {},
   "outputs": [],
   "source": [
    "INSERTAMOS LOS ARCOS"
   ]
  },
  {
   "cell_type": "code",
   "execution_count": 6,
   "id": "edc172b8-c42f-41b1-84b0-74be4d422aa7",
   "metadata": {},
   "outputs": [
    {
     "name": "stdout",
     "output_type": "stream",
     "text": [
      "BN{nodes: 11, arcs: 3, domainSize: 2048, dim: 14, mem: 224o}\n"
     ]
    }
   ],
   "source": [
    "for link in [(id_clase,id_espiral), (id_clase,id_objetoEL), (id_clase,id_objetoTU)] : \n",
    "    bnLI.addArc(*link)\n",
    "print(bnLI)"
   ]
  },
  {
   "cell_type": "code",
   "execution_count": 7,
   "id": "cde074c5-2666-46e2-967b-f84568511cf2",
   "metadata": {},
   "outputs": [
    {
     "name": "stdout",
     "output_type": "stream",
     "text": [
      "BN{nodes: 11, arcs: 5, domainSize: 2048, dim: 16, mem: 256o}\n"
     ]
    }
   ],
   "source": [
    "for link in [(id_objetoEL,id_fractal), (id_objetoEL,id_advrecordNOS)] : \n",
    "    bnLI.addArc(*link)\n",
    "print(bnLI)"
   ]
  },
  {
   "cell_type": "code",
   "execution_count": 8,
   "id": "5c0a9784-23d0-4925-8461-7632c2387b0f",
   "metadata": {},
   "outputs": [
    {
     "name": "stdout",
     "output_type": "stream",
     "text": [
      "BN{nodes: 11, arcs: 7, domainSize: 2048, dim: 19, mem: 304o}\n"
     ]
    }
   ],
   "source": [
    "for link in [(id_fractal,id_espiral), (id_fractal,id_nucleo)] : \n",
    "    bnLI.addArc(*link)\n",
    "print(bnLI)"
   ]
  },
  {
   "cell_type": "code",
   "execution_count": 9,
   "id": "d7d863cf-7392-4ee9-b55a-3e9f75894e5c",
   "metadata": {},
   "outputs": [
    {
     "name": "stdout",
     "output_type": "stream",
     "text": [
      "BN{nodes: 11, arcs: 9, domainSize: 2048, dim: 22, mem: 352o}\n"
     ]
    }
   ],
   "source": [
    "for link in [(id_objetoTU,id_nucleo), (id_objetoTU,id_nada)] : \n",
    "    bnLI.addArc(*link)\n",
    "print(bnLI)"
   ]
  },
  {
   "cell_type": "code",
   "execution_count": 10,
   "id": "cbc3f112-3a54-44e3-a895-f4a59b9017df",
   "metadata": {},
   "outputs": [
    {
     "name": "stdout",
     "output_type": "stream",
     "text": [
      "BN{nodes: 11, arcs: 12, domainSize: 2048, dim: 28, mem: 448o}\n"
     ]
    }
   ],
   "source": [
    "for link in [(id_advrecordNOS,id_nucleo), (id_advrecordNOS,id_vacio), (id_advrecordNOS,id_recordELLA)] : \n",
    "    bnLI.addArc(*link)\n",
    "print(bnLI)"
   ]
  },
  {
   "cell_type": "code",
   "execution_count": 11,
   "id": "f033d2c9-123c-4a15-b624-6bfbb8bf1ee7",
   "metadata": {},
   "outputs": [
    {
     "name": "stdout",
     "output_type": "stream",
     "text": [
      "BN{nodes: 11, arcs: 13, domainSize: 2048, dim: 30, mem: 480o}\n"
     ]
    }
   ],
   "source": [
    "for link in [(id_nada,id_vacio)] : \n",
    "    bnLI.addArc(*link)\n",
    "print(bnLI)"
   ]
  },
  {
   "cell_type": "code",
   "execution_count": 12,
   "id": "df48d612-6015-4ada-891e-c3891c9a53d4",
   "metadata": {},
   "outputs": [
    {
     "name": "stdout",
     "output_type": "stream",
     "text": [
      "BN{nodes: 11, arcs: 15, domainSize: 2048, dim: 35, mem: 560o}\n"
     ]
    }
   ],
   "source": [
    "for link in [(id_recordELLA,id_vacio), (id_recordELLA,id_advrecordYO)] : \n",
    "    bnLI.addArc(*link)\n",
    "print(bnLI)"
   ]
  },
  {
   "cell_type": "code",
   "execution_count": 13,
   "id": "bd738600-14f8-4a2c-b8a8-0c524792fc35",
   "metadata": {},
   "outputs": [
    {
     "name": "stdout",
     "output_type": "stream",
     "text": [
      "BN{nodes: 11, arcs: 16, domainSize: 2048, dim: 37, mem: 592o}\n"
     ]
    }
   ],
   "source": [
    "for link in [(id_advrecordYO,id_nada)] : \n",
    "    bnLI.addArc(*link)\n",
    "print(bnLI)"
   ]
  },
  {
   "cell_type": "code",
   "execution_count": null,
   "id": "0cec6081-6eab-4801-b7ad-72c9aa492512",
   "metadata": {},
   "outputs": [],
   "source": [
    "GRAFICAMOS LA RED BAYESIANA"
   ]
  },
  {
   "cell_type": "code",
   "execution_count": null,
   "id": "a8d7c5e6-bc31-47b9-8147-f8ac0c03d6b0",
   "metadata": {},
   "outputs": [],
   "source": [
    "CARACTERIZADA POR :\n",
    "\"e\" (Espiral) => \"n\" (Nucleo) => \"v\" (Vacío)\n",
    "\n",
    "QUEREMOS AMPLIAR \"s\" (Nucleo Vacío sin Espiral)    11\n",
    "QUEREMOS AMPLIAR \"r\" (Entre s(11) e y (YO))        12\n",
    "\n",
    "Se deduce que     \"a\" (Vacío) es el 13 => Insertamos el esquema Universo. :\n",
    "    1->5 (1)\n",
    "    6->9 (2)\n",
    "    15   (3)\n",
    "    16   (4)\n",
    "    17   (5)\n",
    "    18   (6)\n",
    "    19   (7)\n",
    "    20   (8)\n",
    "    21   (9)   Enlazaría red bayesiana con otra.\n",
    "Tenemos 11 nodos: En la lista no está ni el primero ni el último. \"c\" (CLASE) ; \"v\" (Vacío). [Virtual]\n",
    "\n",
    "Se deduce que     \"v\" ; es 14 (Sitio) que deriva en significado de Vacío.\n"
   ]
  },
  {
   "cell_type": "code",
   "execution_count": 14,
   "id": "9925d637-a8fe-4c59-83b5-22a02c8e0c9d",
   "metadata": {},
   "outputs": [
    {
     "data": {
      "text/html": [
       "<svg xmlns=\"http://www.w3.org/2000/svg\" xmlns:xlink=\"http://www.w3.org/1999/xlink\" width=\"208pt\" height=\"360pt\" viewBox=\"0.00 0.00 208.38 360.00\">\n",
       "<g id=\"graph0\" class=\"graph\" transform=\"scale(0.756303 0.756303) rotate(0) translate(4 472)\">\n",
       "<title>G</title>\n",
       "<!-- f -->\n",
       "<g id=\"node1\" class=\"node\">\n",
       "<title>f</title>\n",
       "<g id=\"a_node1\"><a xlink:title=\"(2) f\">\n",
       "<ellipse fill=\"#404040\" stroke=\"#4a4a4a\" cx=\"122.53\" cy=\"-306\" rx=\"27\" ry=\"18\"/>\n",
       "<text text-anchor=\"middle\" x=\"122.53\" y=\"-301.32\" font-family=\"Times,serif\" font-size=\"14.00\" fill=\"white\">f</text>\n",
       "</a>\n",
       "</g>\n",
       "</g>\n",
       "<!-- e -->\n",
       "<g id=\"node4\" class=\"node\">\n",
       "<title>e</title>\n",
       "<g id=\"a_node4\"><a xlink:title=\"(1) e\">\n",
       "<ellipse fill=\"#404040\" stroke=\"#4a4a4a\" cx=\"190.53\" cy=\"-234\" rx=\"27\" ry=\"18\"/>\n",
       "<text text-anchor=\"middle\" x=\"190.53\" y=\"-229.32\" font-family=\"Times,serif\" font-size=\"14.00\" fill=\"white\">e</text>\n",
       "</a>\n",
       "</g>\n",
       "</g>\n",
       "<!-- f&#45;&gt;e -->\n",
       "<g id=\"edge3\" class=\"edge\">\n",
       "<title>f-&gt;e</title>\n",
       "<g id=\"a_edge3\"><a xlink:title=\"2 → 1\">\n",
       "<path fill=\"none\" stroke=\"#4a4a4a\" d=\"M136.62,-290.5C145.83,-281.02 158.04,-268.44 168.52,-257.66\"/>\n",
       "<polygon fill=\"#4a4a4a\" stroke=\"#4a4a4a\" points=\"170.94,-260.18 175.4,-250.57 165.92,-255.31 170.94,-260.18\"/>\n",
       "</a>\n",
       "</g>\n",
       "</g>\n",
       "<!-- n -->\n",
       "<g id=\"node7\" class=\"node\">\n",
       "<title>n</title>\n",
       "<g id=\"a_node7\"><a xlink:title=\"(4) n\">\n",
       "<ellipse fill=\"#404040\" stroke=\"#4a4a4a\" cx=\"118.53\" cy=\"-234\" rx=\"27\" ry=\"18\"/>\n",
       "<text text-anchor=\"middle\" x=\"118.53\" y=\"-229.32\" font-family=\"Times,serif\" font-size=\"14.00\" fill=\"white\">n</text>\n",
       "</a>\n",
       "</g>\n",
       "</g>\n",
       "<!-- f&#45;&gt;n -->\n",
       "<g id=\"edge2\" class=\"edge\">\n",
       "<title>f-&gt;n</title>\n",
       "<g id=\"a_edge2\"><a xlink:title=\"2 → 4\">\n",
       "<path fill=\"none\" stroke=\"#4a4a4a\" d=\"M121.54,-287.7C121.12,-280.41 120.63,-271.73 120.16,-263.54\"/>\n",
       "<polygon fill=\"#4a4a4a\" stroke=\"#4a4a4a\" points=\"123.66,-263.4 119.59,-253.62 116.67,-263.8 123.66,-263.4\"/>\n",
       "</a>\n",
       "</g>\n",
       "</g>\n",
       "<!-- a -->\n",
       "<g id=\"node2\" class=\"node\">\n",
       "<title>a</title>\n",
       "<g id=\"a_node2\"><a xlink:title=\"(8) a\">\n",
       "<ellipse fill=\"#404040\" stroke=\"#4a4a4a\" cx=\"92.53\" cy=\"-90\" rx=\"27\" ry=\"18\"/>\n",
       "<text text-anchor=\"middle\" x=\"92.53\" y=\"-85.33\" font-family=\"Times,serif\" font-size=\"14.00\" fill=\"white\">a</text>\n",
       "</a>\n",
       "</g>\n",
       "</g>\n",
       "<!-- v -->\n",
       "<g id=\"node9\" class=\"node\">\n",
       "<title>v</title>\n",
       "<g id=\"a_node9\"><a xlink:title=\"(9) v\">\n",
       "<ellipse fill=\"#404040\" stroke=\"#4a4a4a\" cx=\"37.53\" cy=\"-18\" rx=\"27\" ry=\"18\"/>\n",
       "<text text-anchor=\"middle\" x=\"37.53\" y=\"-13.32\" font-family=\"Times,serif\" font-size=\"14.00\" fill=\"white\">v</text>\n",
       "</a>\n",
       "</g>\n",
       "</g>\n",
       "<!-- a&#45;&gt;v -->\n",
       "<g id=\"edge9\" class=\"edge\">\n",
       "<title>a-&gt;v</title>\n",
       "<g id=\"a_edge9\"><a xlink:title=\"8 → 9\">\n",
       "<path fill=\"none\" stroke=\"#4a4a4a\" d=\"M80.32,-73.46C73.41,-64.67 64.62,-53.48 56.8,-43.53\"/>\n",
       "<polygon fill=\"#4a4a4a\" stroke=\"#4a4a4a\" points=\"59.56,-41.38 50.63,-35.68 54.06,-45.71 59.56,-41.38\"/>\n",
       "</a>\n",
       "</g>\n",
       "</g>\n",
       "<!-- c -->\n",
       "<g id=\"node3\" class=\"node\">\n",
       "<title>c</title>\n",
       "<g id=\"a_node3\"><a xlink:title=\"(0) c\">\n",
       "<ellipse fill=\"#404040\" stroke=\"#4a4a4a\" cx=\"185.53\" cy=\"-450\" rx=\"27\" ry=\"18\"/>\n",
       "<text text-anchor=\"middle\" x=\"185.53\" y=\"-445.32\" font-family=\"Times,serif\" font-size=\"14.00\" fill=\"white\">c</text>\n",
       "</a>\n",
       "</g>\n",
       "</g>\n",
       "<!-- c&#45;&gt;e -->\n",
       "<g id=\"edge1\" class=\"edge\">\n",
       "<title>c-&gt;e</title>\n",
       "<g id=\"a_edge1\"><a xlink:title=\"0 → 1\">\n",
       "<path fill=\"none\" stroke=\"#4a4a4a\" d=\"M185.93,-431.85C186.79,-395.14 188.81,-308.66 189.86,-263.53\"/>\n",
       "<polygon fill=\"#4a4a4a\" stroke=\"#4a4a4a\" points=\"193.35,-263.82 190.09,-253.75 186.36,-263.66 193.35,-263.82\"/>\n",
       "</a>\n",
       "</g>\n",
       "</g>\n",
       "<!-- t -->\n",
       "<g id=\"node8\" class=\"node\">\n",
       "<title>t</title>\n",
       "<g id=\"a_node8\"><a xlink:title=\"(5) t\">\n",
       "<ellipse fill=\"#404040\" stroke=\"#4a4a4a\" cx=\"240.53\" cy=\"-306\" rx=\"27\" ry=\"18\"/>\n",
       "<text text-anchor=\"middle\" x=\"240.53\" y=\"-301.32\" font-family=\"Times,serif\" font-size=\"14.00\" fill=\"white\">t</text>\n",
       "</a>\n",
       "</g>\n",
       "</g>\n",
       "<!-- c&#45;&gt;t -->\n",
       "<g id=\"edge11\" class=\"edge\">\n",
       "<title>c-&gt;t</title>\n",
       "<g id=\"a_edge11\"><a xlink:title=\"0 → 5\">\n",
       "<path fill=\"none\" stroke=\"#4a4a4a\" d=\"M192.05,-432.15C201.4,-408.03 218.7,-363.36 229.9,-334.43\"/>\n",
       "<polygon fill=\"#4a4a4a\" stroke=\"#4a4a4a\" points=\"233.12,-335.83 233.46,-325.24 226.59,-333.3 233.12,-335.83\"/>\n",
       "</a>\n",
       "</g>\n",
       "</g>\n",
       "<!-- o -->\n",
       "<g id=\"node10\" class=\"node\">\n",
       "<title>o</title>\n",
       "<g id=\"a_node10\"><a xlink:title=\"(3) o\">\n",
       "<ellipse fill=\"#404040\" stroke=\"#4a4a4a\" cx=\"122.53\" cy=\"-378\" rx=\"27\" ry=\"18\"/>\n",
       "<text text-anchor=\"middle\" x=\"122.53\" y=\"-373.32\" font-family=\"Times,serif\" font-size=\"14.00\" fill=\"white\">o</text>\n",
       "</a>\n",
       "</g>\n",
       "</g>\n",
       "<!-- c&#45;&gt;o -->\n",
       "<g id=\"edge6\" class=\"edge\">\n",
       "<title>c-&gt;o</title>\n",
       "<g id=\"a_edge6\"><a xlink:title=\"0 → 3\">\n",
       "<path fill=\"none\" stroke=\"#4a4a4a\" d=\"M172.17,-434.15C163.81,-424.87 152.88,-412.73 143.4,-402.19\"/>\n",
       "<polygon fill=\"#4a4a4a\" stroke=\"#4a4a4a\" points=\"146.17,-400.04 136.88,-394.95 140.97,-404.72 146.17,-400.04\"/>\n",
       "</a>\n",
       "</g>\n",
       "</g>\n",
       "<!-- s -->\n",
       "<g id=\"node5\" class=\"node\">\n",
       "<title>s</title>\n",
       "<g id=\"a_node5\"><a xlink:title=\"(6) s\">\n",
       "<ellipse fill=\"#404040\" stroke=\"#4a4a4a\" cx=\"50.53\" cy=\"-306\" rx=\"27\" ry=\"18\"/>\n",
       "<text text-anchor=\"middle\" x=\"50.53\" y=\"-301.32\" font-family=\"Times,serif\" font-size=\"14.00\" fill=\"white\">s</text>\n",
       "</a>\n",
       "</g>\n",
       "</g>\n",
       "<!-- s&#45;&gt;n -->\n",
       "<g id=\"edge8\" class=\"edge\">\n",
       "<title>s-&gt;n</title>\n",
       "<g id=\"a_edge8\"><a xlink:title=\"6 → 4\">\n",
       "<path fill=\"none\" stroke=\"#4a4a4a\" d=\"M64.62,-290.5C73.83,-281.02 86.04,-268.44 96.52,-257.66\"/>\n",
       "<polygon fill=\"#4a4a4a\" stroke=\"#4a4a4a\" points=\"98.94,-260.18 103.4,-250.57 93.92,-255.31 98.94,-260.18\"/>\n",
       "</a>\n",
       "</g>\n",
       "</g>\n",
       "<!-- s&#45;&gt;v -->\n",
       "<g id=\"edge15\" class=\"edge\">\n",
       "<title>s-&gt;v</title>\n",
       "<g id=\"a_edge15\"><a xlink:title=\"6 → 9\">\n",
       "<path fill=\"none\" stroke=\"#4a4a4a\" d=\"M35.68,-290.78C26.49,-280.89 15.51,-266.87 10.53,-252 -13.34,-180.75 11.22,-91.17 26.8,-46.69\"/>\n",
       "<polygon fill=\"#4a4a4a\" stroke=\"#4a4a4a\" points=\"30.08,-47.91 30.21,-37.32 23.5,-45.52 30.08,-47.91\"/>\n",
       "</a>\n",
       "</g>\n",
       "</g>\n",
       "<!-- r -->\n",
       "<g id=\"node11\" class=\"node\">\n",
       "<title>r</title>\n",
       "<g id=\"a_node11\"><a xlink:title=\"(10) r\">\n",
       "<ellipse fill=\"#404040\" stroke=\"#4a4a4a\" cx=\"46.53\" cy=\"-234\" rx=\"27\" ry=\"18\"/>\n",
       "<text text-anchor=\"middle\" x=\"46.53\" y=\"-229.32\" font-family=\"Times,serif\" font-size=\"14.00\" fill=\"white\">r</text>\n",
       "</a>\n",
       "</g>\n",
       "</g>\n",
       "<!-- s&#45;&gt;r -->\n",
       "<g id=\"edge10\" class=\"edge\">\n",
       "<title>s-&gt;r</title>\n",
       "<g id=\"a_edge10\"><a xlink:title=\"6 → 10\">\n",
       "<path fill=\"none\" stroke=\"#4a4a4a\" d=\"M49.54,-287.7C49.12,-280.41 48.63,-271.73 48.16,-263.54\"/>\n",
       "<polygon fill=\"#4a4a4a\" stroke=\"#4a4a4a\" points=\"51.66,-263.4 47.59,-253.62 44.67,-263.8 51.66,-263.4\"/>\n",
       "</a>\n",
       "</g>\n",
       "</g>\n",
       "<!-- y -->\n",
       "<g id=\"node6\" class=\"node\">\n",
       "<title>y</title>\n",
       "<g id=\"a_node6\"><a xlink:title=\"(7) y\">\n",
       "<ellipse fill=\"#404040\" stroke=\"#4a4a4a\" cx=\"92.53\" cy=\"-162\" rx=\"27\" ry=\"18\"/>\n",
       "<text text-anchor=\"middle\" x=\"92.53\" y=\"-157.32\" font-family=\"Times,serif\" font-size=\"14.00\" fill=\"white\">y</text>\n",
       "</a>\n",
       "</g>\n",
       "</g>\n",
       "<!-- y&#45;&gt;a -->\n",
       "<g id=\"edge16\" class=\"edge\">\n",
       "<title>y-&gt;a</title>\n",
       "<g id=\"a_edge16\"><a xlink:title=\"7 → 8\">\n",
       "<path fill=\"none\" stroke=\"#4a4a4a\" d=\"M92.53,-143.7C92.53,-136.41 92.53,-127.73 92.53,-119.54\"/>\n",
       "<polygon fill=\"#4a4a4a\" stroke=\"#4a4a4a\" points=\"96.03,-119.62 92.53,-109.62 89.03,-119.62 96.03,-119.62\"/>\n",
       "</a>\n",
       "</g>\n",
       "</g>\n",
       "<!-- t&#45;&gt;a -->\n",
       "<g id=\"edge4\" class=\"edge\">\n",
       "<title>t-&gt;a</title>\n",
       "<g id=\"a_edge4\"><a xlink:title=\"5 → 8\">\n",
       "<path fill=\"none\" stroke=\"#4a4a4a\" d=\"M241.06,-287.56C240.92,-268.81 238.56,-238.66 226.53,-216 201.76,-169.35 152.75,-130.63 121.37,-109.18\"/>\n",
       "<polygon fill=\"#4a4a4a\" stroke=\"#4a4a4a\" points=\"123.37,-106.31 113.11,-103.67 119.49,-112.13 123.37,-106.31\"/>\n",
       "</a>\n",
       "</g>\n",
       "</g>\n",
       "<!-- t&#45;&gt;n -->\n",
       "<g id=\"edge5\" class=\"edge\">\n",
       "<title>t-&gt;n</title>\n",
       "<g id=\"a_edge5\"><a xlink:title=\"5 → 4\">\n",
       "<path fill=\"none\" stroke=\"#4a4a4a\" d=\"M220.38,-293.44C200.75,-282.18 170.67,-264.92 148.28,-252.07\"/>\n",
       "<polygon fill=\"#4a4a4a\" stroke=\"#4a4a4a\" points=\"150.03,-249.04 139.61,-247.1 146.54,-255.11 150.03,-249.04\"/>\n",
       "</a>\n",
       "</g>\n",
       "</g>\n",
       "<!-- o&#45;&gt;f -->\n",
       "<g id=\"edge14\" class=\"edge\">\n",
       "<title>o-&gt;f</title>\n",
       "<g id=\"a_edge14\"><a xlink:title=\"3 → 2\">\n",
       "<path fill=\"none\" stroke=\"#4a4a4a\" d=\"M122.53,-359.7C122.53,-352.41 122.53,-343.73 122.53,-335.54\"/>\n",
       "<polygon fill=\"#4a4a4a\" stroke=\"#4a4a4a\" points=\"126.03,-335.62 122.53,-325.62 119.03,-335.62 126.03,-335.62\"/>\n",
       "</a>\n",
       "</g>\n",
       "</g>\n",
       "<!-- o&#45;&gt;s -->\n",
       "<g id=\"edge12\" class=\"edge\">\n",
       "<title>o-&gt;s</title>\n",
       "<g id=\"a_edge12\"><a xlink:title=\"3 → 6\">\n",
       "<path fill=\"none\" stroke=\"#4a4a4a\" d=\"M107.61,-362.5C97.76,-352.92 84.67,-340.19 73.5,-329.34\"/>\n",
       "<polygon fill=\"#4a4a4a\" stroke=\"#4a4a4a\" points=\"76.12,-327 66.51,-322.54 71.24,-332.02 76.12,-327\"/>\n",
       "</a>\n",
       "</g>\n",
       "</g>\n",
       "<!-- r&#45;&gt;y -->\n",
       "<g id=\"edge7\" class=\"edge\">\n",
       "<title>r-&gt;y</title>\n",
       "<g id=\"a_edge7\"><a xlink:title=\"10 → 7\">\n",
       "<path fill=\"none\" stroke=\"#4a4a4a\" d=\"M56.97,-217.12C62.55,-208.61 69.57,-197.94 75.89,-188.32\"/>\n",
       "<polygon fill=\"#4a4a4a\" stroke=\"#4a4a4a\" points=\"78.73,-190.37 81.3,-180.09 72.88,-186.52 78.73,-190.37\"/>\n",
       "</a>\n",
       "</g>\n",
       "</g>\n",
       "<!-- r&#45;&gt;v -->\n",
       "<g id=\"edge13\" class=\"edge\">\n",
       "<title>r-&gt;v</title>\n",
       "<g id=\"a_edge13\"><a xlink:title=\"10 → 9\">\n",
       "<path fill=\"none\" stroke=\"#4a4a4a\" d=\"M45.81,-215.85C44.26,-179.14 40.63,-92.66 38.73,-47.53\"/>\n",
       "<polygon fill=\"#4a4a4a\" stroke=\"#4a4a4a\" points=\"42.23,-47.59 38.32,-37.74 35.24,-47.88 42.23,-47.59\"/>\n",
       "</a>\n",
       "</g>\n",
       "</g>\n",
       "</g>\n",
       "</svg>"
      ],
      "text/plain": [
       "(pyAgrum.BayesNet@0x57029b865830) BN{nodes: 11, arcs: 16, domainSize: 2048, dim: 37, mem: 592o}"
      ]
     },
     "execution_count": 14,
     "metadata": {},
     "output_type": "execute_result"
    }
   ],
   "source": [
    "import pyAgrum.lib.notebook as gnb\n",
    "bnLI"
   ]
  },
  {
   "cell_type": "code",
   "execution_count": null,
   "id": "833b90df-0691-4f84-a055-2181c9f1169e",
   "metadata": {},
   "outputs": [],
   "source": [
    "Incorporamos otro arco para \"Viajes Estelares\""
   ]
  },
  {
   "cell_type": "code",
   "execution_count": 15,
   "id": "1c55ce88-4e18-4403-b22d-9d95de090548",
   "metadata": {},
   "outputs": [],
   "source": [
    "bnLIViajes = bnLI"
   ]
  },
  {
   "cell_type": "code",
   "execution_count": 16,
   "id": "c8454639-f69b-4b08-a1b3-ce24d826c5c5",
   "metadata": {},
   "outputs": [
    {
     "name": "stdout",
     "output_type": "stream",
     "text": [
      "BN{nodes: 11, arcs: 18, domainSize: 2048, dim: 45, mem: 720o}\n"
     ]
    }
   ],
   "source": [
    "for link in [(id_nucleo,id_nada), (id_nucleo,id_espiral)] : \n",
    "    bnLIViajes.addArc(*link)\n",
    "print(bnLIViajes)"
   ]
  },
  {
   "cell_type": "code",
   "execution_count": 17,
   "id": "2f6ca60c-6ecd-4e19-90ca-869142892449",
   "metadata": {},
   "outputs": [
    {
     "data": {
      "text/html": [
       "<svg xmlns=\"http://www.w3.org/2000/svg\" xmlns:xlink=\"http://www.w3.org/1999/xlink\" width=\"210pt\" height=\"360pt\" viewBox=\"0.00 0.00 209.63 360.00\">\n",
       "<g id=\"graph0\" class=\"graph\" transform=\"scale(0.756303 0.756303) rotate(0) translate(4 472)\">\n",
       "<title>G</title>\n",
       "<!-- f -->\n",
       "<g id=\"node1\" class=\"node\">\n",
       "<title>f</title>\n",
       "<g id=\"a_node1\"><a xlink:title=\"(2) f\">\n",
       "<ellipse fill=\"#404040\" stroke=\"#4a4a4a\" cx=\"154\" cy=\"-306\" rx=\"27\" ry=\"18\"/>\n",
       "<text text-anchor=\"middle\" x=\"154\" y=\"-301.32\" font-family=\"Times,serif\" font-size=\"14.00\" fill=\"white\">f</text>\n",
       "</a>\n",
       "</g>\n",
       "</g>\n",
       "<!-- e -->\n",
       "<g id=\"node4\" class=\"node\">\n",
       "<title>e</title>\n",
       "<g id=\"a_node4\"><a xlink:title=\"(1) e\">\n",
       "<ellipse fill=\"#404040\" stroke=\"#4a4a4a\" cx=\"192\" cy=\"-162\" rx=\"27\" ry=\"18\"/>\n",
       "<text text-anchor=\"middle\" x=\"192\" y=\"-157.32\" font-family=\"Times,serif\" font-size=\"14.00\" fill=\"white\">e</text>\n",
       "</a>\n",
       "</g>\n",
       "</g>\n",
       "<!-- f&#45;&gt;e -->\n",
       "<g id=\"edge3\" class=\"edge\">\n",
       "<title>f-&gt;e</title>\n",
       "<g id=\"a_edge3\"><a xlink:title=\"2 → 1\">\n",
       "<path fill=\"none\" stroke=\"#4a4a4a\" d=\"M164.5,-288.98C170.64,-278.81 177.95,-265.13 182,-252 188.03,-232.44 190.5,-209.47 191.48,-191.76\"/>\n",
       "<polygon fill=\"#4a4a4a\" stroke=\"#4a4a4a\" points=\"194.97,-192.1 191.88,-181.96 187.98,-191.81 194.97,-192.1\"/>\n",
       "</a>\n",
       "</g>\n",
       "</g>\n",
       "<!-- n -->\n",
       "<g id=\"node7\" class=\"node\">\n",
       "<title>n</title>\n",
       "<g id=\"a_node7\"><a xlink:title=\"(4) n\">\n",
       "<ellipse fill=\"#404040\" stroke=\"#4a4a4a\" cx=\"146\" cy=\"-234\" rx=\"27\" ry=\"18\"/>\n",
       "<text text-anchor=\"middle\" x=\"146\" y=\"-229.32\" font-family=\"Times,serif\" font-size=\"14.00\" fill=\"white\">n</text>\n",
       "</a>\n",
       "</g>\n",
       "</g>\n",
       "<!-- f&#45;&gt;n -->\n",
       "<g id=\"edge2\" class=\"edge\">\n",
       "<title>f-&gt;n</title>\n",
       "<g id=\"a_edge2\"><a xlink:title=\"2 → 4\">\n",
       "<path fill=\"none\" stroke=\"#4a4a4a\" d=\"M152.02,-287.7C151.19,-280.41 150.2,-271.73 149.26,-263.54\"/>\n",
       "<polygon fill=\"#4a4a4a\" stroke=\"#4a4a4a\" points=\"152.74,-263.15 148.13,-253.61 145.78,-263.94 152.74,-263.15\"/>\n",
       "</a>\n",
       "</g>\n",
       "</g>\n",
       "<!-- a -->\n",
       "<g id=\"node2\" class=\"node\">\n",
       "<title>a</title>\n",
       "<g id=\"a_node2\"><a xlink:title=\"(8) a\">\n",
       "<ellipse fill=\"#404040\" stroke=\"#4a4a4a\" cx=\"109\" cy=\"-90\" rx=\"27\" ry=\"18\"/>\n",
       "<text text-anchor=\"middle\" x=\"109\" y=\"-85.33\" font-family=\"Times,serif\" font-size=\"14.00\" fill=\"white\">a</text>\n",
       "</a>\n",
       "</g>\n",
       "</g>\n",
       "<!-- v -->\n",
       "<g id=\"node9\" class=\"node\">\n",
       "<title>v</title>\n",
       "<g id=\"a_node9\"><a xlink:title=\"(9) v\">\n",
       "<ellipse fill=\"#404040\" stroke=\"#4a4a4a\" cx=\"27\" cy=\"-18\" rx=\"27\" ry=\"18\"/>\n",
       "<text text-anchor=\"middle\" x=\"27\" y=\"-13.32\" font-family=\"Times,serif\" font-size=\"14.00\" fill=\"white\">v</text>\n",
       "</a>\n",
       "</g>\n",
       "</g>\n",
       "<!-- a&#45;&gt;v -->\n",
       "<g id=\"edge10\" class=\"edge\">\n",
       "<title>a-&gt;v</title>\n",
       "<g id=\"a_edge10\"><a xlink:title=\"8 → 9\">\n",
       "<path fill=\"none\" stroke=\"#4a4a4a\" d=\"M92.8,-75.17C81.12,-65.2 65.14,-51.56 51.85,-40.21\"/>\n",
       "<polygon fill=\"#4a4a4a\" stroke=\"#4a4a4a\" points=\"54.2,-37.61 44.32,-33.78 49.65,-42.94 54.2,-37.61\"/>\n",
       "</a>\n",
       "</g>\n",
       "</g>\n",
       "<!-- c -->\n",
       "<g id=\"node3\" class=\"node\">\n",
       "<title>c</title>\n",
       "<g id=\"a_node3\"><a xlink:title=\"(0) c\">\n",
       "<ellipse fill=\"#404040\" stroke=\"#4a4a4a\" cx=\"229\" cy=\"-450\" rx=\"27\" ry=\"18\"/>\n",
       "<text text-anchor=\"middle\" x=\"229\" y=\"-445.32\" font-family=\"Times,serif\" font-size=\"14.00\" fill=\"white\">c</text>\n",
       "</a>\n",
       "</g>\n",
       "</g>\n",
       "<!-- c&#45;&gt;e -->\n",
       "<g id=\"edge1\" class=\"edge\">\n",
       "<title>c-&gt;e</title>\n",
       "<g id=\"a_edge1\"><a xlink:title=\"0 → 1\">\n",
       "<path fill=\"none\" stroke=\"#4a4a4a\" d=\"M237.78,-432.89C252.5,-403.77 279.22,-340.53 265,-288 254.67,-249.84 229.47,-211.37 211.57,-187.39\"/>\n",
       "<polygon fill=\"#4a4a4a\" stroke=\"#4a4a4a\" points=\"214.43,-185.36 205.57,-179.54 208.87,-189.61 214.43,-185.36\"/>\n",
       "</a>\n",
       "</g>\n",
       "</g>\n",
       "<!-- t -->\n",
       "<g id=\"node8\" class=\"node\">\n",
       "<title>t</title>\n",
       "<g id=\"a_node8\"><a xlink:title=\"(5) t\">\n",
       "<ellipse fill=\"#404040\" stroke=\"#4a4a4a\" cx=\"229\" cy=\"-306\" rx=\"27\" ry=\"18\"/>\n",
       "<text text-anchor=\"middle\" x=\"229\" y=\"-301.32\" font-family=\"Times,serif\" font-size=\"14.00\" fill=\"white\">t</text>\n",
       "</a>\n",
       "</g>\n",
       "</g>\n",
       "<!-- c&#45;&gt;t -->\n",
       "<g id=\"edge12\" class=\"edge\">\n",
       "<title>c-&gt;t</title>\n",
       "<g id=\"a_edge12\"><a xlink:title=\"0 → 5\">\n",
       "<path fill=\"none\" stroke=\"#4a4a4a\" d=\"M229,-431.59C229,-407.61 229,-364.14 229,-335.42\"/>\n",
       "<polygon fill=\"#4a4a4a\" stroke=\"#4a4a4a\" points=\"232.5,-335.62 229,-325.62 225.5,-335.62 232.5,-335.62\"/>\n",
       "</a>\n",
       "</g>\n",
       "</g>\n",
       "<!-- o -->\n",
       "<g id=\"node10\" class=\"node\">\n",
       "<title>o</title>\n",
       "<g id=\"a_node10\"><a xlink:title=\"(3) o\">\n",
       "<ellipse fill=\"#404040\" stroke=\"#4a4a4a\" cx=\"154\" cy=\"-378\" rx=\"27\" ry=\"18\"/>\n",
       "<text text-anchor=\"middle\" x=\"154\" y=\"-373.32\" font-family=\"Times,serif\" font-size=\"14.00\" fill=\"white\">o</text>\n",
       "</a>\n",
       "</g>\n",
       "</g>\n",
       "<!-- c&#45;&gt;o -->\n",
       "<g id=\"edge7\" class=\"edge\">\n",
       "<title>c-&gt;o</title>\n",
       "<g id=\"a_edge7\"><a xlink:title=\"0 → 3\">\n",
       "<path fill=\"none\" stroke=\"#4a4a4a\" d=\"M213.82,-434.83C203.35,-425.06 189.23,-411.88 177.34,-400.78\"/>\n",
       "<polygon fill=\"#4a4a4a\" stroke=\"#4a4a4a\" points=\"179.96,-398.44 170.26,-394.18 175.18,-403.56 179.96,-398.44\"/>\n",
       "</a>\n",
       "</g>\n",
       "</g>\n",
       "<!-- s -->\n",
       "<g id=\"node5\" class=\"node\">\n",
       "<title>s</title>\n",
       "<g id=\"a_node5\"><a xlink:title=\"(6) s\">\n",
       "<ellipse fill=\"#404040\" stroke=\"#4a4a4a\" cx=\"76\" cy=\"-306\" rx=\"27\" ry=\"18\"/>\n",
       "<text text-anchor=\"middle\" x=\"76\" y=\"-301.32\" font-family=\"Times,serif\" font-size=\"14.00\" fill=\"white\">s</text>\n",
       "</a>\n",
       "</g>\n",
       "</g>\n",
       "<!-- s&#45;&gt;n -->\n",
       "<g id=\"edge9\" class=\"edge\">\n",
       "<title>s-&gt;n</title>\n",
       "<g id=\"a_edge9\"><a xlink:title=\"6 → 4\">\n",
       "<path fill=\"none\" stroke=\"#4a4a4a\" d=\"M90.5,-290.5C100.08,-280.92 112.81,-268.19 123.66,-257.34\"/>\n",
       "<polygon fill=\"#4a4a4a\" stroke=\"#4a4a4a\" points=\"125.85,-260.1 130.44,-250.56 120.9,-255.15 125.85,-260.1\"/>\n",
       "</a>\n",
       "</g>\n",
       "</g>\n",
       "<!-- s&#45;&gt;v -->\n",
       "<g id=\"edge17\" class=\"edge\">\n",
       "<title>s-&gt;v</title>\n",
       "<g id=\"a_edge17\"><a xlink:title=\"6 → 9\">\n",
       "<path fill=\"none\" stroke=\"#4a4a4a\" d=\"M62.35,-290.48C53.8,-280.47 43.42,-266.41 38,-252 11.84,-182.38 17.55,-92.73 22.87,-47.62\"/>\n",
       "<polygon fill=\"#4a4a4a\" stroke=\"#4a4a4a\" points=\"26.32,-48.25 24.11,-37.89 19.38,-47.37 26.32,-48.25\"/>\n",
       "</a>\n",
       "</g>\n",
       "</g>\n",
       "<!-- r -->\n",
       "<g id=\"node11\" class=\"node\">\n",
       "<title>r</title>\n",
       "<g id=\"a_node11\"><a xlink:title=\"(10) r\">\n",
       "<ellipse fill=\"#404040\" stroke=\"#4a4a4a\" cx=\"74\" cy=\"-234\" rx=\"27\" ry=\"18\"/>\n",
       "<text text-anchor=\"middle\" x=\"74\" y=\"-229.32\" font-family=\"Times,serif\" font-size=\"14.00\" fill=\"white\">r</text>\n",
       "</a>\n",
       "</g>\n",
       "</g>\n",
       "<!-- s&#45;&gt;r -->\n",
       "<g id=\"edge11\" class=\"edge\">\n",
       "<title>s-&gt;r</title>\n",
       "<g id=\"a_edge11\"><a xlink:title=\"6 → 10\">\n",
       "<path fill=\"none\" stroke=\"#4a4a4a\" d=\"M75.51,-287.7C75.3,-280.41 75.05,-271.73 74.82,-263.54\"/>\n",
       "<polygon fill=\"#4a4a4a\" stroke=\"#4a4a4a\" points=\"78.32,-263.51 74.53,-253.62 71.32,-263.71 78.32,-263.51\"/>\n",
       "</a>\n",
       "</g>\n",
       "</g>\n",
       "<!-- y -->\n",
       "<g id=\"node6\" class=\"node\">\n",
       "<title>y</title>\n",
       "<g id=\"a_node6\"><a xlink:title=\"(7) y\">\n",
       "<ellipse fill=\"#404040\" stroke=\"#4a4a4a\" cx=\"82\" cy=\"-162\" rx=\"27\" ry=\"18\"/>\n",
       "<text text-anchor=\"middle\" x=\"82\" y=\"-157.32\" font-family=\"Times,serif\" font-size=\"14.00\" fill=\"white\">y</text>\n",
       "</a>\n",
       "</g>\n",
       "</g>\n",
       "<!-- y&#45;&gt;a -->\n",
       "<g id=\"edge18\" class=\"edge\">\n",
       "<title>y-&gt;a</title>\n",
       "<g id=\"a_edge18\"><a xlink:title=\"7 → 8\">\n",
       "<path fill=\"none\" stroke=\"#4a4a4a\" d=\"M88.54,-144.05C91.52,-136.32 95.13,-126.96 98.48,-118.27\"/>\n",
       "<polygon fill=\"#4a4a4a\" stroke=\"#4a4a4a\" points=\"101.65,-119.79 101.98,-109.2 95.12,-117.27 101.65,-119.79\"/>\n",
       "</a>\n",
       "</g>\n",
       "</g>\n",
       "<!-- n&#45;&gt;a -->\n",
       "<g id=\"edge15\" class=\"edge\">\n",
       "<title>n-&gt;a</title>\n",
       "<g id=\"a_edge15\"><a xlink:title=\"4 → 8\">\n",
       "<path fill=\"none\" stroke=\"#4a4a4a\" d=\"M141.54,-215.87C135.29,-191.88 123.85,-147.99 116.34,-119.16\"/>\n",
       "<polygon fill=\"#4a4a4a\" stroke=\"#4a4a4a\" points=\"119.77,-118.45 113.86,-109.65 113,-120.21 119.77,-118.45\"/>\n",
       "</a>\n",
       "</g>\n",
       "</g>\n",
       "<!-- n&#45;&gt;e -->\n",
       "<g id=\"edge4\" class=\"edge\">\n",
       "<title>n-&gt;e</title>\n",
       "<g id=\"a_edge4\"><a xlink:title=\"4 → 1\">\n",
       "<path fill=\"none\" stroke=\"#4a4a4a\" d=\"M156.44,-217.12C162.03,-208.61 169.04,-197.94 175.36,-188.32\"/>\n",
       "<polygon fill=\"#4a4a4a\" stroke=\"#4a4a4a\" points=\"178.21,-190.37 180.77,-180.09 172.36,-186.52 178.21,-190.37\"/>\n",
       "</a>\n",
       "</g>\n",
       "</g>\n",
       "<!-- t&#45;&gt;a -->\n",
       "<g id=\"edge5\" class=\"edge\">\n",
       "<title>t-&gt;a</title>\n",
       "<g id=\"a_edge5\"><a xlink:title=\"5 → 8\">\n",
       "<path fill=\"none\" stroke=\"#4a4a4a\" d=\"M234.35,-288.27C243.25,-257.02 257.37,-188.92 228,-144 210,-116.46 174.04,-103.11 146.33,-96.71\"/>\n",
       "<polygon fill=\"#4a4a4a\" stroke=\"#4a4a4a\" points=\"147.41,-93.36 136.9,-94.75 145.98,-100.21 147.41,-93.36\"/>\n",
       "</a>\n",
       "</g>\n",
       "</g>\n",
       "<!-- t&#45;&gt;n -->\n",
       "<g id=\"edge6\" class=\"edge\">\n",
       "<title>t-&gt;n</title>\n",
       "<g id=\"a_edge6\"><a xlink:title=\"5 → 4\">\n",
       "<path fill=\"none\" stroke=\"#4a4a4a\" d=\"M212.6,-291.17C200.78,-281.2 184.6,-267.56 171.15,-256.21\"/>\n",
       "<polygon fill=\"#4a4a4a\" stroke=\"#4a4a4a\" points=\"173.42,-253.55 163.52,-249.78 168.91,-258.9 173.42,-253.55\"/>\n",
       "</a>\n",
       "</g>\n",
       "</g>\n",
       "<!-- o&#45;&gt;f -->\n",
       "<g id=\"edge16\" class=\"edge\">\n",
       "<title>o-&gt;f</title>\n",
       "<g id=\"a_edge16\"><a xlink:title=\"3 → 2\">\n",
       "<path fill=\"none\" stroke=\"#4a4a4a\" d=\"M154,-359.7C154,-352.41 154,-343.73 154,-335.54\"/>\n",
       "<polygon fill=\"#4a4a4a\" stroke=\"#4a4a4a\" points=\"157.5,-335.62 154,-325.62 150.5,-335.62 157.5,-335.62\"/>\n",
       "</a>\n",
       "</g>\n",
       "</g>\n",
       "<!-- o&#45;&gt;s -->\n",
       "<g id=\"edge13\" class=\"edge\">\n",
       "<title>o-&gt;s</title>\n",
       "<g id=\"a_edge13\"><a xlink:title=\"3 → 6\">\n",
       "<path fill=\"none\" stroke=\"#4a4a4a\" d=\"M138.59,-363.17C127.55,-353.26 112.47,-339.73 99.88,-328.43\"/>\n",
       "<polygon fill=\"#4a4a4a\" stroke=\"#4a4a4a\" points=\"102.55,-326.13 92.77,-322.05 97.88,-331.34 102.55,-326.13\"/>\n",
       "</a>\n",
       "</g>\n",
       "</g>\n",
       "<!-- r&#45;&gt;y -->\n",
       "<g id=\"edge8\" class=\"edge\">\n",
       "<title>r-&gt;y</title>\n",
       "<g id=\"a_edge8\"><a xlink:title=\"10 → 7\">\n",
       "<path fill=\"none\" stroke=\"#4a4a4a\" d=\"M75.98,-215.7C76.81,-208.41 77.8,-199.73 78.74,-191.54\"/>\n",
       "<polygon fill=\"#4a4a4a\" stroke=\"#4a4a4a\" points=\"82.22,-191.94 79.87,-181.61 75.26,-191.15 82.22,-191.94\"/>\n",
       "</a>\n",
       "</g>\n",
       "</g>\n",
       "<!-- r&#45;&gt;v -->\n",
       "<g id=\"edge14\" class=\"edge\">\n",
       "<title>r-&gt;v</title>\n",
       "<g id=\"a_edge14\"><a xlink:title=\"10 → 9\">\n",
       "<path fill=\"none\" stroke=\"#4a4a4a\" d=\"M63.53,-216.97C57.4,-206.8 50.08,-193.12 46,-180 32.06,-135.2 28.22,-80.48 27.23,-47.75\"/>\n",
       "<polygon fill=\"#4a4a4a\" stroke=\"#4a4a4a\" points=\"30.73,-47.78 27.01,-37.86 23.74,-47.94 30.73,-47.78\"/>\n",
       "</a>\n",
       "</g>\n",
       "</g>\n",
       "</g>\n",
       "</svg>"
      ],
      "text/plain": [
       "(pyAgrum.BayesNet@0x57029b865830) BN{nodes: 11, arcs: 18, domainSize: 2048, dim: 45, mem: 720o}"
      ]
     },
     "execution_count": 17,
     "metadata": {},
     "output_type": "execute_result"
    }
   ],
   "source": [
    "bnLIViajes"
   ]
  },
  {
   "cell_type": "code",
   "execution_count": 20,
   "id": "b34ca81e-3dc7-4bc3-af16-9c5861c2550d",
   "metadata": {},
   "outputs": [
    {
     "ename": "SyntaxError",
     "evalue": "invalid syntax (1835226293.py, line 1)",
     "output_type": "error",
     "traceback": [
      "\u001b[0;36m  Cell \u001b[0;32mIn[20], line 1\u001b[0;36m\u001b[0m\n\u001b[0;31m    Observamos nro. de arcos a los nodos hoja :\u001b[0m\n\u001b[0m               ^\u001b[0m\n\u001b[0;31mSyntaxError\u001b[0m\u001b[0;31m:\u001b[0m invalid syntax\n"
     ]
    }
   ],
   "source": [
    "Observamos nro. de arcos a los nodos hoja :\n",
    "En bnLI ,       2 (e), 3 (n), 3 (v)\n",
    "En bnLIViajes,  3 (e), 3 (a), 3 (v) "
   ]
  },
  {
   "cell_type": "code",
   "execution_count": null,
   "id": "1e0de2f1-ecff-4b86-9942-278f05afd90b",
   "metadata": {},
   "outputs": [],
   "source": [
    "BUSCAMOS DESARROLLAR \"s\".    "
   ]
  },
  {
   "cell_type": "code",
   "execution_count": 18,
   "id": "057ff7ea-61f2-432e-9b20-967eaa8c4b2c",
   "metadata": {},
   "outputs": [
    {
     "data": {
      "text/html": [
       "<table style=\"border:1px solid black;border-collapse: collapse;\">\n",
       "<tr style='border:1px solid black;color:black;background-color:#808080'>\n",
       "      <th colspan='2'><center>c</center></th></tr>\n",
       "<tr><th style='border:1px solid black;border-bottom-style: double;color:black;background-color:#BBBBBB'>\n",
       "      <center>0</center></th><th style='border:1px solid black;border-bottom-style: double;color:black;background-color:#BBBBBB'>\n",
       "      <center>1</center></th></tr>\n",
       "<tr><td style='color:black;background-color:#bfbf64;text-align:right;padding: 3px;'>0.5000</td><td style='color:black;background-color:#bfbf64;text-align:right;padding: 3px;'>0.5000</td></tr>\n",
       "</table>"
      ],
      "text/plain": [
       "(pyAgrum.Potential@0x57029af6c7f0) \n",
       "  c                |\n",
       "0        |1        |\n",
       "---------|---------|\n",
       " 0.5000  | 0.5000  |"
      ]
     },
     "execution_count": 18,
     "metadata": {},
     "output_type": "execute_result"
    }
   ],
   "source": [
    "bnLI.cpt(\"c\").fillWith([0.5,0.5])"
   ]
  },
  {
   "cell_type": "code",
   "execution_count": 19,
   "id": "953945f6-872c-422c-9692-9e3f55c7da56",
   "metadata": {},
   "outputs": [
    {
     "data": {
      "text/plain": [
       "('o', 'c')"
      ]
     },
     "execution_count": 19,
     "metadata": {},
     "output_type": "execute_result"
    }
   ],
   "source": [
    "bnLI.cpt(\"o\").names"
   ]
  },
  {
   "cell_type": "code",
   "execution_count": null,
   "id": "36fc473e-f966-47ee-832a-7273e4038ed6",
   "metadata": {},
   "outputs": [],
   "source": [
    "VALORES TATTWAS \"YO SOY 1\". y \"YO SOY 2\".      55        27"
   ]
  },
  {
   "cell_type": "code",
   "execution_count": 20,
   "id": "d713c242-ad26-4878-92a7-70d8aeea7b7a",
   "metadata": {},
   "outputs": [],
   "source": [
    "bnLI.cpt(\"o\")[:]=[ [0.55,0.45],[0.27,0.73]]"
   ]
  },
  {
   "cell_type": "code",
   "execution_count": 21,
   "id": "3ad824f8-1a94-4782-97c0-3909bb8520e1",
   "metadata": {},
   "outputs": [
    {
     "data": {
      "text/plain": [
       "('s', 'o')"
      ]
     },
     "execution_count": 21,
     "metadata": {},
     "output_type": "execute_result"
    }
   ],
   "source": [
    "bnLI.cpt(\"s\").names"
   ]
  },
  {
   "cell_type": "code",
   "execution_count": null,
   "id": "25891420-42d8-47c1-a3d8-658ccca99815",
   "metadata": {},
   "outputs": [],
   "source": [
    "VALORES TATTWAS \"YO SOY 2\" y \"YO SOY 3\".        27        45"
   ]
  },
  {
   "cell_type": "code",
   "execution_count": 22,
   "id": "ccb1c087-280b-4fd4-a1bc-96740f261eca",
   "metadata": {},
   "outputs": [],
   "source": [
    "bnLI.cpt(\"s\")[:]=[ [0.27,0.73],[0.45,0.55]]"
   ]
  },
  {
   "cell_type": "code",
   "execution_count": 23,
   "id": "59188634-dad8-4cc2-a286-8c21bb7a757e",
   "metadata": {},
   "outputs": [
    {
     "data": {
      "text/html": [
       "<table style=\"border:1px solid black;border-collapse: collapse;\">\n",
       "<tr><th colspan='1'></th>\n",
       "      <th colspan='2' style='border:1px solid black;color:black;background-color:#808080;'><center>s</center>\n",
       "      </th></tr>\n",
       "<tr><th style='border:1px solid black;color:black;background-color:#808080'><center>o</center></th><th style='border:1px solid black;border-bottom-style: double;color:black;background-color:#BBBBBB'>\n",
       "      <center>0</center></th><th style='border:1px solid black;border-bottom-style: double;color:black;background-color:#BBBBBB'>\n",
       "      <center>1</center></th></tr>\n",
       "<tr><th style='border:1px solid black;color:black;background-color:#BBBBBB'><center>0</center></th><td style='color:black;background-color:#dca164;text-align:right;padding: 3px;'>0.2700</td><td style='color:black;background-color:#a1dc64;text-align:right;padding: 3px;'>0.7300</td></tr>\n",
       "<tr><th style='border:1px solid black;color:black;background-color:#BBBBBB'><center>1</center></th><td style='color:black;background-color:#c5b864;text-align:right;padding: 3px;'>0.4500</td><td style='color:black;background-color:#b8c564;text-align:right;padding: 3px;'>0.5500</td></tr>\n",
       "</table>"
      ],
      "text/plain": [
       "(pyAgrum.Potential@0x57029b605590) \n",
       "      ||  s                |\n",
       "o     ||0        |1        |\n",
       "------||---------|---------|\n",
       "0     || 0.2700  | 0.7300  |\n",
       "1     || 0.4500  | 0.5500  |"
      ]
     },
     "execution_count": 23,
     "metadata": {},
     "output_type": "execute_result"
    }
   ],
   "source": [
    "bnLI.cpt(\"s\")"
   ]
  },
  {
   "cell_type": "code",
   "execution_count": null,
   "id": "47cc57af-a64f-4fe8-b7bf-350831c07da7",
   "metadata": {},
   "outputs": [],
   "source": [
    "BUSCAMOS DESARROLLAR \"r\". VALORES TATTWAS \"YO SOY 4\". \"YO SOY 2\".  52 y 27"
   ]
  },
  {
   "cell_type": "code",
   "execution_count": 24,
   "id": "3d11cee7-2c99-48ef-81c4-4d1ef120a9e5",
   "metadata": {},
   "outputs": [
    {
     "data": {
      "text/plain": [
       "('r', 's')"
      ]
     },
     "execution_count": 24,
     "metadata": {},
     "output_type": "execute_result"
    }
   ],
   "source": [
    "bnLI.cpt(\"r\").names"
   ]
  },
  {
   "cell_type": "code",
   "execution_count": 25,
   "id": "b46672ea-8061-48c1-9cbb-e10c8184e559",
   "metadata": {},
   "outputs": [],
   "source": [
    "bnLI.cpt(\"r\")[:]=[ [0.52,0.48],[0.27,0.73]]"
   ]
  },
  {
   "cell_type": "code",
   "execution_count": 26,
   "id": "eba37121-ebc0-4097-8908-d0dccd33ec34",
   "metadata": {},
   "outputs": [
    {
     "data": {
      "text/html": [
       "<table style=\"border:1px solid black;border-collapse: collapse;\">\n",
       "<tr><th colspan='1'></th>\n",
       "      <th colspan='2' style='border:1px solid black;color:black;background-color:#808080;'><center>r</center>\n",
       "      </th></tr>\n",
       "<tr><th style='border:1px solid black;color:black;background-color:#808080'><center>s</center></th><th style='border:1px solid black;border-bottom-style: double;color:black;background-color:#BBBBBB'>\n",
       "      <center>0</center></th><th style='border:1px solid black;border-bottom-style: double;color:black;background-color:#BBBBBB'>\n",
       "      <center>1</center></th></tr>\n",
       "<tr><th style='border:1px solid black;color:black;background-color:#BBBBBB'><center>0</center></th><td style='color:black;background-color:#bcc164;text-align:right;padding: 3px;'>0.5200</td><td style='color:black;background-color:#c1bc64;text-align:right;padding: 3px;'>0.4800</td></tr>\n",
       "<tr><th style='border:1px solid black;color:black;background-color:#BBBBBB'><center>1</center></th><td style='color:black;background-color:#dca164;text-align:right;padding: 3px;'>0.2700</td><td style='color:black;background-color:#a1dc64;text-align:right;padding: 3px;'>0.7300</td></tr>\n",
       "</table>"
      ],
      "text/plain": [
       "(pyAgrum.Potential@0x57029b396690) \n",
       "      ||  r                |\n",
       "s     ||0        |1        |\n",
       "------||---------|---------|\n",
       "0     || 0.5200  | 0.4800  |\n",
       "1     || 0.2700  | 0.7300  |"
      ]
     },
     "execution_count": 26,
     "metadata": {},
     "output_type": "execute_result"
    }
   ],
   "source": [
    "bnLI.cpt(\"r\")"
   ]
  },
  {
   "cell_type": "code",
   "execution_count": null,
   "id": "4f049dcd-2930-4e7b-939f-b4e29eb540c9",
   "metadata": {},
   "outputs": [],
   "source": [
    "38-39   39-67   38-67   YO PIENSO."
   ]
  },
  {
   "cell_type": "code",
   "execution_count": 27,
   "id": "9fd0dde7-a4dd-44f3-8536-9125d9f2c5f4",
   "metadata": {},
   "outputs": [],
   "source": [
    "bnLI.cpt(\"r\")[:]=[ [0.38,0.62],[0.39,0.61]]"
   ]
  },
  {
   "cell_type": "code",
   "execution_count": 28,
   "id": "15c13771-2719-442c-97a2-9725dba63e23",
   "metadata": {},
   "outputs": [
    {
     "data": {
      "text/plain": [
       "('t', 'c')"
      ]
     },
     "execution_count": 28,
     "metadata": {},
     "output_type": "execute_result"
    }
   ],
   "source": [
    "bnLI.cpt(\"t\").names"
   ]
  },
  {
   "cell_type": "code",
   "execution_count": 29,
   "id": "cd91ae21-bc15-4e74-b5d6-d4cc28404d31",
   "metadata": {},
   "outputs": [],
   "source": [
    "bnLI.cpt(\"t\")[:]=[ [0.39,0.61],[0.67,0.33]]"
   ]
  },
  {
   "cell_type": "code",
   "execution_count": null,
   "id": "c6d2fd55-48a5-488b-b55d-dc0ed6bcbf71",
   "metadata": {},
   "outputs": [],
   "source": [
    "NROS. CENTRADOS : 35 - 60. \"YO SOY\""
   ]
  },
  {
   "cell_type": "code",
   "execution_count": 30,
   "id": "079f488e-51c0-4ab3-8493-ea672c8d8042",
   "metadata": {},
   "outputs": [
    {
     "data": {
      "text/plain": [
       "('y', 'r')"
      ]
     },
     "execution_count": 30,
     "metadata": {},
     "output_type": "execute_result"
    }
   ],
   "source": [
    "bnLI.cpt(\"y\").names"
   ]
  },
  {
   "cell_type": "code",
   "execution_count": 31,
   "id": "0fc718d0-c07d-46ab-999d-ba4df3b2a41b",
   "metadata": {},
   "outputs": [],
   "source": [
    "bnLI.cpt(\"y\")[:]=[ [0.35,0.65],[0.60,0.40]]"
   ]
  },
  {
   "cell_type": "code",
   "execution_count": 32,
   "id": "f3132175-3303-4c8e-85b6-0bbff55d6ede",
   "metadata": {},
   "outputs": [
    {
     "data": {
      "text/html": [
       "<table style=\"border:1px solid black;border-collapse: collapse;\">\n",
       "<tr><th colspan='1'></th>\n",
       "      <th colspan='2' style='border:1px solid black;color:black;background-color:#808080;'><center>y</center>\n",
       "      </th></tr>\n",
       "<tr><th style='border:1px solid black;color:black;background-color:#808080'><center>r</center></th><th style='border:1px solid black;border-bottom-style: double;color:black;background-color:#BBBBBB'>\n",
       "      <center>0</center></th><th style='border:1px solid black;border-bottom-style: double;color:black;background-color:#BBBBBB'>\n",
       "      <center>1</center></th></tr>\n",
       "<tr><th style='border:1px solid black;color:black;background-color:#BBBBBB'><center>0</center></th><td style='color:black;background-color:#d2ab64;text-align:right;padding: 3px;'>0.3500</td><td style='color:black;background-color:#abd264;text-align:right;padding: 3px;'>0.6500</td></tr>\n",
       "<tr><th style='border:1px solid black;color:black;background-color:#BBBBBB'><center>1</center></th><td style='color:black;background-color:#b2cb64;text-align:right;padding: 3px;'>0.6000</td><td style='color:black;background-color:#cbb264;text-align:right;padding: 3px;'>0.4000</td></tr>\n",
       "</table>"
      ],
      "text/plain": [
       "(pyAgrum.Potential@0x57029b835db0) \n",
       "      ||  y                |\n",
       "r     ||0        |1        |\n",
       "------||---------|---------|\n",
       "0     || 0.3500  | 0.6500  |\n",
       "1     || 0.6000  | 0.4000  |"
      ]
     },
     "execution_count": 32,
     "metadata": {},
     "output_type": "execute_result"
    }
   ],
   "source": [
    "bnLI.cpt(\"y\")"
   ]
  },
  {
   "cell_type": "code",
   "execution_count": 33,
   "id": "0d5359b3-519e-40d3-aba1-101feea24321",
   "metadata": {},
   "outputs": [
    {
     "data": {
      "text/plain": [
       "('a', 't', 'y', 'n')"
      ]
     },
     "execution_count": 33,
     "metadata": {},
     "output_type": "execute_result"
    }
   ],
   "source": [
    "bnLI.cpt(\"a\").names"
   ]
  },
  {
   "cell_type": "code",
   "execution_count": null,
   "id": "9ccb8d98-e65d-4349-80ef-abc17fef3c27",
   "metadata": {},
   "outputs": [],
   "source": [
    "!!! FALTAN 2 VALORES PARA DAR A \"a\". USAMOS EL YO EQUILIBRO CON TEJAS. >>> 18 . 85. De momento hecho para t . y.\n",
    "FALTA seguda parte de la matriz. HAY QUE USAR \"YO SE ANALIZAR LO QUE SIENTO\". (36, 65) Y \n",
    "(18+36 = 54 ; 85-65 = 20)."
   ]
  },
  {
   "cell_type": "code",
   "execution_count": null,
   "id": "f174fb6b-470b-4024-9c11-8b15046a9d43",
   "metadata": {},
   "outputs": [],
   "source": [
    "TABLA DE \"A\" : \"NADA\" => \"O\" EL ; \"S\" NOS."
   ]
  },
  {
   "cell_type": "code",
   "execution_count": 34,
   "id": "b0d6e47b-5825-4fb6-a12c-6a74600dcedb",
   "metadata": {},
   "outputs": [
    {
     "data": {
      "text/html": [
       "<table style=\"border:1px solid black;border-collapse: collapse;\">\n",
       "<tr><th colspan='3'></th>\n",
       "      <th colspan='2' style='border:1px solid black;color:black;background-color:#808080;'><center>a</center>\n",
       "      </th></tr>\n",
       "<tr><th style='border:1px solid black;color:black;background-color:#808080'><center>n</center></th><th style='border:1px solid black;color:black;background-color:#808080'><center>y</center></th><th style='border:1px solid black;color:black;background-color:#808080'><center>t</center></th><th style='border:1px solid black;border-bottom-style: double;color:black;background-color:#BBBBBB'>\n",
       "      <center>0</center></th><th style='border:1px solid black;border-bottom-style: double;color:black;background-color:#BBBBBB'>\n",
       "      <center>1</center></th></tr>\n",
       "<tr><th style='border:1px solid black;color:black;background-color:#BBBBBB;' rowspan = '4'>\n",
       "            <center>0</center></th><th style='border:1px solid black;color:black;background-color:#BBBBBB;' rowspan = '2'>\n",
       "            <center>0</center></th><th style='border:1px solid black;color:black;background-color:#BBBBBB'><center>0</center></th><td style='color:black;background-color:#ceaf64;text-align:right;padding: 3px;'>0.3800</td><td style='color:black;background-color:#afce64;text-align:right;padding: 3px;'>0.6200</td></tr>\n",
       "<tr><th style='border:1px solid black;color:black;background-color:#BBBBBB'><center>1</center></th><td style='color:black;background-color:#92eb64;text-align:right;padding: 3px;'>0.8500</td><td style='color:black;background-color:#eb9264;text-align:right;padding: 3px;'>0.1500</td></tr>\n",
       "<tr><th style='border:1px solid black;color:black;background-color:#BBBBBB;' rowspan = '2'>\n",
       "            <center>1</center></th><th style='border:1px solid black;color:black;background-color:#BBBBBB'><center>0</center></th><td style='color:black;background-color:#e79664;text-align:right;padding: 3px;'>0.1800</td><td style='color:black;background-color:#96e764;text-align:right;padding: 3px;'>0.8200</td></tr>\n",
       "<tr><th style='border:1px solid black;color:black;background-color:#BBBBBB'><center>1</center></th><td style='color:black;background-color:#a9d464;text-align:right;padding: 3px;'>0.6700</td><td style='color:black;background-color:#d4a964;text-align:right;padding: 3px;'>0.3300</td></tr>\n",
       "<tr><th style='border:1px solid black;color:black;background-color:#BBBBBB;' rowspan = '4'>\n",
       "            <center>1</center></th><th style='border:1px solid black;color:black;background-color:#BBBBBB;' rowspan = '2'>\n",
       "            <center>0</center></th><th style='border:1px solid black;color:black;background-color:#BBBBBB'><center>0</center></th><td style='color:black;background-color:#d0ad64;text-align:right;padding: 3px;'>0.3600</td><td style='color:black;background-color:#add064;text-align:right;padding: 3px;'>0.6400</td></tr>\n",
       "<tr><th style='border:1px solid black;color:black;background-color:#BBBBBB'><center>1</center></th><td style='color:black;background-color:#b9c464;text-align:right;padding: 3px;'>0.5400</td><td style='color:black;background-color:#c4b964;text-align:right;padding: 3px;'>0.4600</td></tr>\n",
       "<tr><th style='border:1px solid black;color:black;background-color:#BBBBBB;' rowspan = '2'>\n",
       "            <center>1</center></th><th style='border:1px solid black;color:black;background-color:#BBBBBB'><center>0</center></th><td style='color:black;background-color:#abd264;text-align:right;padding: 3px;'>0.6500</td><td style='color:black;background-color:#d2ab64;text-align:right;padding: 3px;'>0.3500</td></tr>\n",
       "<tr><th style='border:1px solid black;color:black;background-color:#BBBBBB'><center>1</center></th><td style='color:black;background-color:#e59864;text-align:right;padding: 3px;'>0.2000</td><td style='color:black;background-color:#98e564;text-align:right;padding: 3px;'>0.8000</td></tr>\n",
       "</table>"
      ],
      "text/plain": [
       "(pyAgrum.Potential@0x57029b122200) \n",
       "                    ||  a                |\n",
       "t     |y     |n     ||0        |1        |\n",
       "------|------|------||---------|---------|\n",
       "0     |0     |0     || 0.3800  | 0.6200  |\n",
       "1     |0     |0     || 0.8500  | 0.1500  |\n",
       "0     |1     |0     || 0.1800  | 0.8200  |\n",
       "1     |1     |0     || 0.6700  | 0.3300  |\n",
       "0     |0     |1     || 0.3600  | 0.6400  |\n",
       "1     |0     |1     || 0.5400  | 0.4600  |\n",
       "0     |1     |1     || 0.6500  | 0.3500  |\n",
       "1     |1     |1     || 0.2000  | 0.8000  |"
      ]
     },
     "execution_count": 34,
     "metadata": {},
     "output_type": "execute_result"
    }
   ],
   "source": [
    "bnLI.cpt(\"a\")[{'t': 0, 'y': 0}] = [0.18,0.82]\n",
    "bnLI.cpt(\"a\")[{'t': 0, 'y': 1}] = [0.85, 0.15]\n",
    "bnLI.cpt(\"a\")[{'t': 1, 'y': 0}] = [0.36, 0.63] \n",
    "bnLI.cpt(\"a\")[{'t': 1, 'y': 1}] = [0.65, 0.35]\n",
    "bnLI.cpt(\"a\")"
   ]
  },
  {
   "cell_type": "code",
   "execution_count": 35,
   "id": "7ddc418c-1948-46bf-963f-21a9678604ef",
   "metadata": {},
   "outputs": [],
   "source": [
    "ie=gum.LazyPropagation(bnLI)"
   ]
  },
  {
   "cell_type": "code",
   "execution_count": 37,
   "id": "b7649824-aea8-4582-8c74-ce75e90e0428",
   "metadata": {},
   "outputs": [
    {
     "ename": "Exception",
     "evalue": "[pyAgrum] Several evidence/CPT are incompatible together (proba=0): some evidence entered into the Bayes net are incompatible (their joint proba = 0)",
     "output_type": "error",
     "traceback": [
      "\u001b[0;31m---------------------------------------------------------------------------\u001b[0m",
      "\u001b[0;31mException\u001b[0m                                 Traceback (most recent call last)",
      "\u001b[0;32m/tmp/ipykernel_10324/2043190972.py\u001b[0m in \u001b[0;36m?\u001b[0;34m()\u001b[0m\n\u001b[1;32m      1\u001b[0m \u001b[0mie\u001b[0m\u001b[0;34m.\u001b[0m\u001b[0mmakeInference\u001b[0m\u001b[0;34m(\u001b[0m\u001b[0;34m)\u001b[0m\u001b[0;34m\u001b[0m\u001b[0;34m\u001b[0m\u001b[0m\n\u001b[0;32m----> 2\u001b[0;31m \u001b[0mprint\u001b[0m \u001b[0;34m(\u001b[0m\u001b[0mie\u001b[0m\u001b[0;34m.\u001b[0m\u001b[0mposterior\u001b[0m\u001b[0;34m(\u001b[0m\u001b[0;34m\"o\"\u001b[0m\u001b[0;34m)\u001b[0m\u001b[0;34m)\u001b[0m\u001b[0;34m\u001b[0m\u001b[0;34m\u001b[0m\u001b[0m\n\u001b[0m",
      "\u001b[0;32m~/.local/lib/python3.12/site-packages/pyAgrum/pyAgrum.py\u001b[0m in \u001b[0;36m?\u001b[0;34m(self, *args)\u001b[0m\n\u001b[1;32m  15655\u001b[0m         \u001b[0mpyAgrum\u001b[0m\u001b[0;34m.\u001b[0m\u001b[0mUndefinedElement\u001b[0m\u001b[0;34m\u001b[0m\u001b[0;34m\u001b[0m\u001b[0m\n\u001b[1;32m  15656\u001b[0m           \u001b[0mIf\u001b[0m \u001b[0man\u001b[0m \u001b[0melement\u001b[0m \u001b[0mof\u001b[0m \u001b[0mnodes\u001b[0m \u001b[0;32mis\u001b[0m \u001b[0;32mnot\u001b[0m \u001b[0;32min\u001b[0m \u001b[0mtargets\u001b[0m\u001b[0;34m\u001b[0m\u001b[0;34m\u001b[0m\u001b[0m\n\u001b[1;32m  15657\u001b[0m \u001b[0;34m\u001b[0m\u001b[0m\n\u001b[1;32m  15658\u001b[0m         \"\"\"\n\u001b[0;32m> 15659\u001b[0;31m         \u001b[0;32mreturn\u001b[0m \u001b[0m_pyAgrum\u001b[0m\u001b[0;34m.\u001b[0m\u001b[0mLazyPropagation_posterior\u001b[0m\u001b[0;34m(\u001b[0m\u001b[0mself\u001b[0m\u001b[0;34m,\u001b[0m \u001b[0;34m*\u001b[0m\u001b[0margs\u001b[0m\u001b[0;34m)\u001b[0m\u001b[0;34m\u001b[0m\u001b[0;34m\u001b[0m\u001b[0m\n\u001b[0m",
      "\u001b[0;31mException\u001b[0m: [pyAgrum] Several evidence/CPT are incompatible together (proba=0): some evidence entered into the Bayes net are incompatible (their joint proba = 0)"
     ]
    }
   ],
   "source": [
    "ie.makeInference()\n",
    "print (ie.posterior(\"o\"))"
   ]
  },
  {
   "cell_type": "code",
   "execution_count": 40,
   "id": "9b71b4fb-59e7-40e4-a145-e22f13b39de2",
   "metadata": {},
   "outputs": [],
   "source": []
  },
  {
   "cell_type": "code",
   "execution_count": null,
   "id": "dff35ce3-b4ce-43e2-a621-717a24058586",
   "metadata": {},
   "outputs": [],
   "source": [
    "TESTING/////////////////////"
   ]
  },
  {
   "cell_type": "code",
   "execution_count": null,
   "id": "9dd4d982-472b-4662-9de7-f053788c226f",
   "metadata": {},
   "outputs": [],
   "source": []
  }
 ],
 "metadata": {
  "kernelspec": {
   "display_name": "Python 3 (ipykernel)",
   "language": "python",
   "name": "python3"
  },
  "language_info": {
   "codemirror_mode": {
    "name": "ipython",
    "version": 3
   },
   "file_extension": ".py",
   "mimetype": "text/x-python",
   "name": "python",
   "nbconvert_exporter": "python",
   "pygments_lexer": "ipython3",
   "version": "3.12.7"
  }
 },
 "nbformat": 4,
 "nbformat_minor": 5
}
