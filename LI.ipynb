{
 "cells": [
  {
   "cell_type": "raw",
   "id": "90494d22-16ca-4bbb-8a2d-d10b0386c8bb",
   "metadata": {
    "editable": true,
    "raw_mimetype": "",
    "slideshow": {
     "slide_type": ""
    },
    "tags": []
   },
   "source": [
    "PROYECTO DE LI EN REDES BAYESIANAS."
   ]
  },
  {
   "cell_type": "raw",
   "id": "d909074b-d68e-4b00-8226-8235fda4a751",
   "metadata": {},
   "source": [
    "Importamos la librería pyagrum"
   ]
  },
  {
   "cell_type": "code",
   "execution_count": 9,
   "id": "a90d2a99-b4fa-47e7-aada-a57feaca07ca",
   "metadata": {},
   "outputs": [],
   "source": [
    "import pyAgrum as gum"
   ]
  },
  {
   "cell_type": "code",
   "execution_count": null,
   "id": "4491eebc-2522-4893-b728-2396a7eed62c",
   "metadata": {},
   "outputs": [],
   "source": [
    "Creamos la red bayesiana"
   ]
  },
  {
   "cell_type": "code",
   "execution_count": 10,
   "id": "333ced83-84a8-46eb-ae09-392a788935d5",
   "metadata": {},
   "outputs": [],
   "source": [
    "bnLI=gum.BayesNet('Red Bayesiana LI Universo')"
   ]
  },
  {
   "cell_type": "code",
   "execution_count": null,
   "id": "6ed1d93a-73f1-46f2-97b2-5bdb0820b510",
   "metadata": {},
   "outputs": [],
   "source": [
    "Creamos los arcos."
   ]
  },
  {
   "cell_type": "code",
   "execution_count": 11,
   "id": "54145305-0455-49cf-a97d-f8851721bd36",
   "metadata": {},
   "outputs": [
    {
     "name": "stdout",
     "output_type": "stream",
     "text": [
      "0\n"
     ]
    }
   ],
   "source": [
    "id_clase=bnLI.add(gum.LabelizedVariable('c','c?',2))\n",
    "print(id_clase)"
   ]
  },
  {
   "cell_type": "code",
   "execution_count": 12,
   "id": "fc4c94d0-8244-4208-8146-491ddbbb59ee",
   "metadata": {},
   "outputs": [],
   "source": [
    "id_espiral, id_fractal, id_objetoEL, id_nucleo, id_objetoTU, id_advrecordNOS, id_advrecordYO, id_nada, id_vacio, id_recordELLA = [ bnLI.add(name, 2) for name in \"efontsyavr\" ]"
   ]
  },
  {
   "cell_type": "code",
   "execution_count": null,
   "id": "28cce13f-224f-4244-887f-a8e71bcebc98",
   "metadata": {},
   "outputs": [],
   "source": [
    "Mostramos los datos de las variables"
   ]
  },
  {
   "cell_type": "code",
   "execution_count": 13,
   "id": "5150dae8-3d4c-459e-b6b8-96e556722f73",
   "metadata": {},
   "outputs": [
    {
     "name": "stdout",
     "output_type": "stream",
     "text": [
      "BN{nodes: 11, arcs: 0, domainSize: 2048, dim: 11, mem: 176o}\n"
     ]
    }
   ],
   "source": [
    "print ( bnLI )"
   ]
  },
  {
   "cell_type": "code",
   "execution_count": null,
   "id": "4d7132d8-9e47-4729-a59c-020c9686bad7",
   "metadata": {},
   "outputs": [],
   "source": [
    "INSERTAMOS LOS ARCOS"
   ]
  },
  {
   "cell_type": "code",
   "execution_count": 14,
   "id": "edc172b8-c42f-41b1-84b0-74be4d422aa7",
   "metadata": {},
   "outputs": [
    {
     "name": "stdout",
     "output_type": "stream",
     "text": [
      "BN{nodes: 11, arcs: 3, domainSize: 2048, dim: 14, mem: 224o}\n"
     ]
    }
   ],
   "source": [
    "for link in [(id_clase,id_espiral), (id_clase,id_objetoEL), (id_clase,id_objetoTU)] : \n",
    "    bnLI.addArc(*link)\n",
    "print(bnLI)"
   ]
  },
  {
   "cell_type": "code",
   "execution_count": 15,
   "id": "cde074c5-2666-46e2-967b-f84568511cf2",
   "metadata": {},
   "outputs": [
    {
     "name": "stdout",
     "output_type": "stream",
     "text": [
      "BN{nodes: 11, arcs: 5, domainSize: 2048, dim: 16, mem: 256o}\n"
     ]
    }
   ],
   "source": [
    "for link in [(id_objetoEL,id_fractal), (id_objetoEL,id_advrecordNOS)] : \n",
    "    bnLI.addArc(*link)\n",
    "print(bnLI)"
   ]
  },
  {
   "cell_type": "code",
   "execution_count": 16,
   "id": "5c0a9784-23d0-4925-8461-7632c2387b0f",
   "metadata": {},
   "outputs": [
    {
     "name": "stdout",
     "output_type": "stream",
     "text": [
      "BN{nodes: 11, arcs: 7, domainSize: 2048, dim: 19, mem: 304o}\n"
     ]
    }
   ],
   "source": [
    "for link in [(id_fractal,id_espiral), (id_fractal,id_nucleo)] : \n",
    "    bnLI.addArc(*link)\n",
    "print(bnLI)"
   ]
  },
  {
   "cell_type": "code",
   "execution_count": 17,
   "id": "d7d863cf-7392-4ee9-b55a-3e9f75894e5c",
   "metadata": {},
   "outputs": [
    {
     "name": "stdout",
     "output_type": "stream",
     "text": [
      "BN{nodes: 11, arcs: 9, domainSize: 2048, dim: 22, mem: 352o}\n"
     ]
    }
   ],
   "source": [
    "for link in [(id_objetoTU,id_nucleo), (id_objetoTU,id_nada)] : \n",
    "    bnLI.addArc(*link)\n",
    "print(bnLI)"
   ]
  },
  {
   "cell_type": "code",
   "execution_count": 18,
   "id": "cbc3f112-3a54-44e3-a895-f4a59b9017df",
   "metadata": {},
   "outputs": [
    {
     "name": "stdout",
     "output_type": "stream",
     "text": [
      "BN{nodes: 11, arcs: 12, domainSize: 2048, dim: 28, mem: 448o}\n"
     ]
    }
   ],
   "source": [
    "for link in [(id_advrecordNOS,id_nucleo), (id_advrecordNOS,id_vacio), (id_advrecordNOS,id_recordELLA)] : \n",
    "    bnLI.addArc(*link)\n",
    "print(bnLI)"
   ]
  },
  {
   "cell_type": "code",
   "execution_count": 19,
   "id": "f033d2c9-123c-4a15-b624-6bfbb8bf1ee7",
   "metadata": {},
   "outputs": [
    {
     "name": "stdout",
     "output_type": "stream",
     "text": [
      "BN{nodes: 11, arcs: 13, domainSize: 2048, dim: 30, mem: 480o}\n"
     ]
    }
   ],
   "source": [
    "for link in [(id_nada,id_vacio)] : \n",
    "    bnLI.addArc(*link)\n",
    "print(bnLI)"
   ]
  },
  {
   "cell_type": "code",
   "execution_count": 20,
   "id": "df48d612-6015-4ada-891e-c3891c9a53d4",
   "metadata": {},
   "outputs": [
    {
     "name": "stdout",
     "output_type": "stream",
     "text": [
      "BN{nodes: 11, arcs: 15, domainSize: 2048, dim: 35, mem: 560o}\n"
     ]
    }
   ],
   "source": [
    "for link in [(id_recordELLA,id_vacio), (id_recordELLA,id_advrecordYO)] : \n",
    "    bnLI.addArc(*link)\n",
    "print(bnLI)"
   ]
  },
  {
   "cell_type": "code",
   "execution_count": 21,
   "id": "bd738600-14f8-4a2c-b8a8-0c524792fc35",
   "metadata": {},
   "outputs": [
    {
     "name": "stdout",
     "output_type": "stream",
     "text": [
      "BN{nodes: 11, arcs: 16, domainSize: 2048, dim: 37, mem: 592o}\n"
     ]
    }
   ],
   "source": [
    "for link in [(id_advrecordYO,id_nada)] : \n",
    "    bnLI.addArc(*link)\n",
    "print(bnLI)"
   ]
  },
  {
   "cell_type": "code",
   "execution_count": null,
   "id": "0cec6081-6eab-4801-b7ad-72c9aa492512",
   "metadata": {},
   "outputs": [],
   "source": [
    "GRAFICAMOS LA RED BAYESIANA"
   ]
  },
  {
   "cell_type": "code",
   "execution_count": null,
   "id": "a8d7c5e6-bc31-47b9-8147-f8ac0c03d6b0",
   "metadata": {},
   "outputs": [],
   "source": [
    "CARACTERIZADA POR :\n",
    "\"e\" (Espiral) => \"n\" (Nucleo) => \"v\" (Vacío)\n",
    "\n",
    "QUEREMOS AMPLIAR \"s\" (Nucleo Vacío sin Espiral)    11\n",
    "QUEREMOS AMPLIAR \"r\" (Entre s(11) e y (YO))        12\n",
    "\n",
    "Se deduce que     \"a\" (Vacío) es el 13 => Insertamos el esquema Universo. :\n",
    "    1->5 (1)\n",
    "    6->9 (2)\n",
    "    15   (3)\n",
    "    16   (4)\n",
    "    17   (5)\n",
    "    18   (6)\n",
    "    19   (7)\n",
    "    20   (8)\n",
    "    21   (9)   Enlazaría red bayesiana con otra.\n",
    "Tenemos 11 nodos: En la lista no está ni el primero ni el último. \"c\" (CLASE) ; \"v\" (Vacío). [Virtual]\n",
    "\n",
    "Se deduce que     \"v\" ; es 14 (Sitio) que deriva en significado de Vacío.\n"
   ]
  },
  {
   "cell_type": "code",
   "execution_count": 22,
   "id": "9925d637-a8fe-4c59-83b5-22a02c8e0c9d",
   "metadata": {},
   "outputs": [
    {
     "data": {
      "text/html": [
       "<svg xmlns=\"http://www.w3.org/2000/svg\" xmlns:xlink=\"http://www.w3.org/1999/xlink\" width=\"223pt\" height=\"360pt\" viewBox=\"0.00 0.00 222.50 360.00\">\n",
       "<g id=\"graph0\" class=\"graph\" transform=\"scale(0.756303 0.756303) rotate(0) translate(4 472)\">\n",
       "<title>G</title>\n",
       "<!-- e -->\n",
       "<g id=\"node1\" class=\"node\">\n",
       "<title>e</title>\n",
       "<g id=\"a_node1\"><a xlink:title=\"(1) e\">\n",
       "<ellipse fill=\"#404040\" stroke=\"#4a4a4a\" cx=\"27\" cy=\"-234\" rx=\"27\" ry=\"18\"/>\n",
       "<text text-anchor=\"middle\" x=\"27\" y=\"-229.32\" font-family=\"Times,serif\" font-size=\"14.00\" fill=\"white\">e</text>\n",
       "</a>\n",
       "</g>\n",
       "</g>\n",
       "<!-- n -->\n",
       "<g id=\"node2\" class=\"node\">\n",
       "<title>n</title>\n",
       "<g id=\"a_node2\"><a xlink:title=\"(4) n\">\n",
       "<ellipse fill=\"#404040\" stroke=\"#4a4a4a\" cx=\"99\" cy=\"-234\" rx=\"27\" ry=\"18\"/>\n",
       "<text text-anchor=\"middle\" x=\"99\" y=\"-229.32\" font-family=\"Times,serif\" font-size=\"14.00\" fill=\"white\">n</text>\n",
       "</a>\n",
       "</g>\n",
       "</g>\n",
       "<!-- y -->\n",
       "<g id=\"node3\" class=\"node\">\n",
       "<title>y</title>\n",
       "<g id=\"a_node3\"><a xlink:title=\"(7) y\">\n",
       "<ellipse fill=\"#404040\" stroke=\"#4a4a4a\" cx=\"247\" cy=\"-162\" rx=\"27\" ry=\"18\"/>\n",
       "<text text-anchor=\"middle\" x=\"247\" y=\"-157.32\" font-family=\"Times,serif\" font-size=\"14.00\" fill=\"white\">y</text>\n",
       "</a>\n",
       "</g>\n",
       "</g>\n",
       "<!-- a -->\n",
       "<g id=\"node5\" class=\"node\">\n",
       "<title>a</title>\n",
       "<g id=\"a_node5\"><a xlink:title=\"(8) a\">\n",
       "<ellipse fill=\"#404040\" stroke=\"#4a4a4a\" cx=\"247\" cy=\"-90\" rx=\"27\" ry=\"18\"/>\n",
       "<text text-anchor=\"middle\" x=\"247\" y=\"-85.33\" font-family=\"Times,serif\" font-size=\"14.00\" fill=\"white\">a</text>\n",
       "</a>\n",
       "</g>\n",
       "</g>\n",
       "<!-- y&#45;&gt;a -->\n",
       "<g id=\"edge16\" class=\"edge\">\n",
       "<title>y-&gt;a</title>\n",
       "<g id=\"a_edge16\"><a xlink:title=\"7 → 8\">\n",
       "<path fill=\"none\" stroke=\"#4a4a4a\" d=\"M247,-143.7C247,-136.41 247,-127.73 247,-119.54\"/>\n",
       "<polygon fill=\"#4a4a4a\" stroke=\"#4a4a4a\" points=\"250.5,-119.62 247,-109.62 243.5,-119.62 250.5,-119.62\"/>\n",
       "</a>\n",
       "</g>\n",
       "</g>\n",
       "<!-- t -->\n",
       "<g id=\"node4\" class=\"node\">\n",
       "<title>t</title>\n",
       "<g id=\"a_node4\"><a xlink:title=\"(5) t\">\n",
       "<ellipse fill=\"#404040\" stroke=\"#4a4a4a\" cx=\"226\" cy=\"-306\" rx=\"27\" ry=\"18\"/>\n",
       "<text text-anchor=\"middle\" x=\"226\" y=\"-301.32\" font-family=\"Times,serif\" font-size=\"14.00\" fill=\"white\">t</text>\n",
       "</a>\n",
       "</g>\n",
       "</g>\n",
       "<!-- t&#45;&gt;n -->\n",
       "<g id=\"edge5\" class=\"edge\">\n",
       "<title>t-&gt;n</title>\n",
       "<g id=\"a_edge5\"><a xlink:title=\"5 → 4\">\n",
       "<path fill=\"none\" stroke=\"#4a4a4a\" d=\"M205.6,-293.75C184.95,-282.37 152.8,-264.65 129.2,-251.65\"/>\n",
       "<polygon fill=\"#4a4a4a\" stroke=\"#4a4a4a\" points=\"131.13,-248.71 120.68,-246.95 127.75,-254.84 131.13,-248.71\"/>\n",
       "</a>\n",
       "</g>\n",
       "</g>\n",
       "<!-- t&#45;&gt;a -->\n",
       "<g id=\"edge4\" class=\"edge\">\n",
       "<title>t-&gt;a</title>\n",
       "<g id=\"a_edge4\"><a xlink:title=\"5 → 8\">\n",
       "<path fill=\"none\" stroke=\"#4a4a4a\" d=\"M236.14,-288.81C249.95,-265.71 273.99,-221.49 283,-180 286.4,-164.36 287.7,-159.29 283,-144 279.82,-133.65 273.85,-123.51 267.67,-114.91\"/>\n",
       "<polygon fill=\"#4a4a4a\" stroke=\"#4a4a4a\" points=\"270.55,-112.91 261.67,-107.13 265.01,-117.19 270.55,-112.91\"/>\n",
       "</a>\n",
       "</g>\n",
       "</g>\n",
       "<!-- v -->\n",
       "<g id=\"node8\" class=\"node\">\n",
       "<title>v</title>\n",
       "<g id=\"a_node8\"><a xlink:title=\"(9) v\">\n",
       "<ellipse fill=\"#404040\" stroke=\"#4a4a4a\" cx=\"192\" cy=\"-18\" rx=\"27\" ry=\"18\"/>\n",
       "<text text-anchor=\"middle\" x=\"192\" y=\"-13.32\" font-family=\"Times,serif\" font-size=\"14.00\" fill=\"white\">v</text>\n",
       "</a>\n",
       "</g>\n",
       "</g>\n",
       "<!-- a&#45;&gt;v -->\n",
       "<g id=\"edge9\" class=\"edge\">\n",
       "<title>a-&gt;v</title>\n",
       "<g id=\"a_edge9\"><a xlink:title=\"8 → 9\">\n",
       "<path fill=\"none\" stroke=\"#4a4a4a\" d=\"M234.79,-73.46C227.89,-64.67 219.09,-53.48 211.27,-43.53\"/>\n",
       "<polygon fill=\"#4a4a4a\" stroke=\"#4a4a4a\" points=\"214.04,-41.38 205.11,-35.68 208.53,-45.71 214.04,-41.38\"/>\n",
       "</a>\n",
       "</g>\n",
       "</g>\n",
       "<!-- c -->\n",
       "<g id=\"node6\" class=\"node\">\n",
       "<title>c</title>\n",
       "<g id=\"a_node6\"><a xlink:title=\"(0) c\">\n",
       "<ellipse fill=\"#404040\" stroke=\"#4a4a4a\" cx=\"118\" cy=\"-450\" rx=\"27\" ry=\"18\"/>\n",
       "<text text-anchor=\"middle\" x=\"118\" y=\"-445.32\" font-family=\"Times,serif\" font-size=\"14.00\" fill=\"white\">c</text>\n",
       "</a>\n",
       "</g>\n",
       "</g>\n",
       "<!-- c&#45;&gt;e -->\n",
       "<g id=\"edge1\" class=\"edge\">\n",
       "<title>c-&gt;e</title>\n",
       "<g id=\"a_edge1\"><a xlink:title=\"0 → 1\">\n",
       "<path fill=\"none\" stroke=\"#4a4a4a\" d=\"M106.73,-433.58C99.33,-423.19 89.65,-409.05 82,-396 63.91,-365.13 57.83,-357.76 46,-324 39.12,-304.37 34.3,-281.4 31.23,-263.71\"/>\n",
       "<polygon fill=\"#4a4a4a\" stroke=\"#4a4a4a\" points=\"34.69,-263.21 29.62,-253.91 27.78,-264.34 34.69,-263.21\"/>\n",
       "</a>\n",
       "</g>\n",
       "</g>\n",
       "<!-- c&#45;&gt;t -->\n",
       "<g id=\"edge11\" class=\"edge\">\n",
       "<title>c-&gt;t</title>\n",
       "<g id=\"a_edge11\"><a xlink:title=\"0 → 5\">\n",
       "<path fill=\"none\" stroke=\"#4a4a4a\" d=\"M129.76,-433.53C148.43,-408.99 184.99,-360.92 207.28,-331.61\"/>\n",
       "<polygon fill=\"#4a4a4a\" stroke=\"#4a4a4a\" points=\"210.07,-333.73 213.33,-323.65 204.5,-329.49 210.07,-333.73\"/>\n",
       "</a>\n",
       "</g>\n",
       "</g>\n",
       "<!-- o -->\n",
       "<g id=\"node10\" class=\"node\">\n",
       "<title>o</title>\n",
       "<g id=\"a_node10\"><a xlink:title=\"(3) o\">\n",
       "<ellipse fill=\"#404040\" stroke=\"#4a4a4a\" cx=\"118\" cy=\"-378\" rx=\"27\" ry=\"18\"/>\n",
       "<text text-anchor=\"middle\" x=\"118\" y=\"-373.32\" font-family=\"Times,serif\" font-size=\"14.00\" fill=\"white\">o</text>\n",
       "</a>\n",
       "</g>\n",
       "</g>\n",
       "<!-- c&#45;&gt;o -->\n",
       "<g id=\"edge6\" class=\"edge\">\n",
       "<title>c-&gt;o</title>\n",
       "<g id=\"a_edge6\"><a xlink:title=\"0 → 3\">\n",
       "<path fill=\"none\" stroke=\"#4a4a4a\" d=\"M118,-431.7C118,-424.41 118,-415.73 118,-407.54\"/>\n",
       "<polygon fill=\"#4a4a4a\" stroke=\"#4a4a4a\" points=\"121.5,-407.62 118,-397.62 114.5,-407.62 121.5,-407.62\"/>\n",
       "</a>\n",
       "</g>\n",
       "</g>\n",
       "<!-- s -->\n",
       "<g id=\"node7\" class=\"node\">\n",
       "<title>s</title>\n",
       "<g id=\"a_node7\"><a xlink:title=\"(6) s\">\n",
       "<ellipse fill=\"#404040\" stroke=\"#4a4a4a\" cx=\"154\" cy=\"-306\" rx=\"27\" ry=\"18\"/>\n",
       "<text text-anchor=\"middle\" x=\"154\" y=\"-301.32\" font-family=\"Times,serif\" font-size=\"14.00\" fill=\"white\">s</text>\n",
       "</a>\n",
       "</g>\n",
       "</g>\n",
       "<!-- s&#45;&gt;n -->\n",
       "<g id=\"edge8\" class=\"edge\">\n",
       "<title>s-&gt;n</title>\n",
       "<g id=\"a_edge8\"><a xlink:title=\"6 → 4\">\n",
       "<path fill=\"none\" stroke=\"#4a4a4a\" d=\"M141.79,-289.46C134.89,-280.67 126.09,-269.48 118.27,-259.53\"/>\n",
       "<polygon fill=\"#4a4a4a\" stroke=\"#4a4a4a\" points=\"121.04,-257.38 112.11,-251.68 115.53,-261.71 121.04,-257.38\"/>\n",
       "</a>\n",
       "</g>\n",
       "</g>\n",
       "<!-- s&#45;&gt;v -->\n",
       "<g id=\"edge15\" class=\"edge\">\n",
       "<title>s-&gt;v</title>\n",
       "<g id=\"a_edge15\"><a xlink:title=\"6 → 9\">\n",
       "<path fill=\"none\" stroke=\"#4a4a4a\" d=\"M156.26,-287.97C162.57,-240.49 180.4,-106.31 188.23,-47.36\"/>\n",
       "<polygon fill=\"#4a4a4a\" stroke=\"#4a4a4a\" points=\"191.65,-48.18 189.5,-37.81 184.71,-47.26 191.65,-48.18\"/>\n",
       "</a>\n",
       "</g>\n",
       "</g>\n",
       "<!-- r -->\n",
       "<g id=\"node11\" class=\"node\">\n",
       "<title>r</title>\n",
       "<g id=\"a_node11\"><a xlink:title=\"(10) r\">\n",
       "<ellipse fill=\"#404040\" stroke=\"#4a4a4a\" cx=\"209\" cy=\"-234\" rx=\"27\" ry=\"18\"/>\n",
       "<text text-anchor=\"middle\" x=\"209\" y=\"-229.32\" font-family=\"Times,serif\" font-size=\"14.00\" fill=\"white\">r</text>\n",
       "</a>\n",
       "</g>\n",
       "</g>\n",
       "<!-- s&#45;&gt;r -->\n",
       "<g id=\"edge10\" class=\"edge\">\n",
       "<title>s-&gt;r</title>\n",
       "<g id=\"a_edge10\"><a xlink:title=\"6 → 10\">\n",
       "<path fill=\"none\" stroke=\"#4a4a4a\" d=\"M166.21,-289.46C173.11,-280.67 181.91,-269.48 189.73,-259.53\"/>\n",
       "<polygon fill=\"#4a4a4a\" stroke=\"#4a4a4a\" points=\"192.47,-261.71 195.89,-251.68 186.96,-257.38 192.47,-261.71\"/>\n",
       "</a>\n",
       "</g>\n",
       "</g>\n",
       "<!-- f -->\n",
       "<g id=\"node9\" class=\"node\">\n",
       "<title>f</title>\n",
       "<g id=\"a_node9\"><a xlink:title=\"(2) f\">\n",
       "<ellipse fill=\"#404040\" stroke=\"#4a4a4a\" cx=\"82\" cy=\"-306\" rx=\"27\" ry=\"18\"/>\n",
       "<text text-anchor=\"middle\" x=\"82\" y=\"-301.32\" font-family=\"Times,serif\" font-size=\"14.00\" fill=\"white\">f</text>\n",
       "</a>\n",
       "</g>\n",
       "</g>\n",
       "<!-- f&#45;&gt;e -->\n",
       "<g id=\"edge3\" class=\"edge\">\n",
       "<title>f-&gt;e</title>\n",
       "<g id=\"a_edge3\"><a xlink:title=\"2 → 1\">\n",
       "<path fill=\"none\" stroke=\"#4a4a4a\" d=\"M69.79,-289.46C62.89,-280.67 54.09,-269.48 46.27,-259.53\"/>\n",
       "<polygon fill=\"#4a4a4a\" stroke=\"#4a4a4a\" points=\"49.04,-257.38 40.11,-251.68 43.53,-261.71 49.04,-257.38\"/>\n",
       "</a>\n",
       "</g>\n",
       "</g>\n",
       "<!-- f&#45;&gt;n -->\n",
       "<g id=\"edge2\" class=\"edge\">\n",
       "<title>f-&gt;n</title>\n",
       "<g id=\"a_edge2\"><a xlink:title=\"2 → 4\">\n",
       "<path fill=\"none\" stroke=\"#4a4a4a\" d=\"M86.12,-288.05C87.93,-280.6 90.1,-271.64 92.15,-263.22\"/>\n",
       "<polygon fill=\"#4a4a4a\" stroke=\"#4a4a4a\" points=\"95.49,-264.29 94.45,-253.75 88.69,-262.64 95.49,-264.29\"/>\n",
       "</a>\n",
       "</g>\n",
       "</g>\n",
       "<!-- o&#45;&gt;s -->\n",
       "<g id=\"edge12\" class=\"edge\">\n",
       "<title>o-&gt;s</title>\n",
       "<g id=\"a_edge12\"><a xlink:title=\"3 → 6\">\n",
       "<path fill=\"none\" stroke=\"#4a4a4a\" d=\"M126.35,-360.76C130.58,-352.55 135.81,-342.37 140.58,-333.09\"/>\n",
       "<polygon fill=\"#4a4a4a\" stroke=\"#4a4a4a\" points=\"143.54,-334.99 145,-324.49 137.32,-331.79 143.54,-334.99\"/>\n",
       "</a>\n",
       "</g>\n",
       "</g>\n",
       "<!-- o&#45;&gt;f -->\n",
       "<g id=\"edge14\" class=\"edge\">\n",
       "<title>o-&gt;f</title>\n",
       "<g id=\"a_edge14\"><a xlink:title=\"3 → 2\">\n",
       "<path fill=\"none\" stroke=\"#4a4a4a\" d=\"M109.65,-360.76C105.42,-352.55 100.19,-342.37 95.42,-333.09\"/>\n",
       "<polygon fill=\"#4a4a4a\" stroke=\"#4a4a4a\" points=\"98.68,-331.79 91,-324.49 92.46,-334.99 98.68,-331.79\"/>\n",
       "</a>\n",
       "</g>\n",
       "</g>\n",
       "<!-- r&#45;&gt;y -->\n",
       "<g id=\"edge7\" class=\"edge\">\n",
       "<title>r-&gt;y</title>\n",
       "<g id=\"a_edge7\"><a xlink:title=\"10 → 7\">\n",
       "<path fill=\"none\" stroke=\"#4a4a4a\" d=\"M217.81,-216.76C222.27,-208.55 227.8,-198.37 232.84,-189.09\"/>\n",
       "<polygon fill=\"#4a4a4a\" stroke=\"#4a4a4a\" points=\"235.82,-190.94 237.51,-180.48 229.67,-187.6 235.82,-190.94\"/>\n",
       "</a>\n",
       "</g>\n",
       "</g>\n",
       "<!-- r&#45;&gt;v -->\n",
       "<g id=\"edge13\" class=\"edge\">\n",
       "<title>r-&gt;v</title>\n",
       "<g id=\"a_edge13\"><a xlink:title=\"10 → 9\">\n",
       "<path fill=\"none\" stroke=\"#4a4a4a\" d=\"M207.64,-215.85C204.72,-179.14 197.85,-92.66 194.27,-47.53\"/>\n",
       "<polygon fill=\"#4a4a4a\" stroke=\"#4a4a4a\" points=\"197.77,-47.43 193.49,-37.74 190.79,-47.99 197.77,-47.43\"/>\n",
       "</a>\n",
       "</g>\n",
       "</g>\n",
       "</g>\n",
       "</svg>"
      ],
      "text/plain": [
       "(pyAgrum.BayesNet@0x5dcca57d4f30) BN{nodes: 11, arcs: 16, domainSize: 2048, dim: 37, mem: 592o}"
      ]
     },
     "execution_count": 22,
     "metadata": {},
     "output_type": "execute_result"
    }
   ],
   "source": [
    "import pyAgrum.lib.notebook as gnb\n",
    "bnLI"
   ]
  },
  {
   "cell_type": "code",
   "execution_count": null,
   "id": "833b90df-0691-4f84-a055-2181c9f1169e",
   "metadata": {},
   "outputs": [],
   "source": [
    "Incorporamos otro arco para \"Viajes Estelares\""
   ]
  },
  {
   "cell_type": "code",
   "execution_count": 23,
   "id": "1c55ce88-4e18-4403-b22d-9d95de090548",
   "metadata": {},
   "outputs": [],
   "source": [
    "bnLIViajes = bnLI"
   ]
  },
  {
   "cell_type": "code",
   "execution_count": 25,
   "id": "c8454639-f69b-4b08-a1b3-ce24d826c5c5",
   "metadata": {},
   "outputs": [
    {
     "name": "stdout",
     "output_type": "stream",
     "text": [
      "BN{nodes: 11, arcs: 18, domainSize: 2048, dim: 45, mem: 720o}\n"
     ]
    }
   ],
   "source": [
    "for link in [(id_nucleo,id_nada), (id_nucleo,id_espiral)] : \n",
    "    bnLIViajes.addArc(*link)\n",
    "print(bnLIViajes)"
   ]
  },
  {
   "cell_type": "code",
   "execution_count": 26,
   "id": "2f6ca60c-6ecd-4e19-90ca-869142892449",
   "metadata": {},
   "outputs": [
    {
     "data": {
      "text/html": [
       "<svg xmlns=\"http://www.w3.org/2000/svg\" xmlns:xlink=\"http://www.w3.org/1999/xlink\" width=\"206pt\" height=\"360pt\" viewBox=\"0.00 0.00 205.58 360.00\">\n",
       "<g id=\"graph0\" class=\"graph\" transform=\"scale(0.756303 0.756303) rotate(0) translate(4 472)\">\n",
       "<title>G</title>\n",
       "<!-- e -->\n",
       "<g id=\"node1\" class=\"node\">\n",
       "<title>e</title>\n",
       "<g id=\"a_node1\"><a xlink:title=\"(1) e\">\n",
       "<ellipse fill=\"#404040\" stroke=\"#4a4a4a\" cx=\"71.82\" cy=\"-162\" rx=\"27\" ry=\"18\"/>\n",
       "<text text-anchor=\"middle\" x=\"71.82\" y=\"-157.32\" font-family=\"Times,serif\" font-size=\"14.00\" fill=\"white\">e</text>\n",
       "</a>\n",
       "</g>\n",
       "</g>\n",
       "<!-- n -->\n",
       "<g id=\"node2\" class=\"node\">\n",
       "<title>n</title>\n",
       "<g id=\"a_node2\"><a xlink:title=\"(4) n\">\n",
       "<ellipse fill=\"#404040\" stroke=\"#4a4a4a\" cx=\"117.82\" cy=\"-234\" rx=\"27\" ry=\"18\"/>\n",
       "<text text-anchor=\"middle\" x=\"117.82\" y=\"-229.32\" font-family=\"Times,serif\" font-size=\"14.00\" fill=\"white\">n</text>\n",
       "</a>\n",
       "</g>\n",
       "</g>\n",
       "<!-- n&#45;&gt;e -->\n",
       "<g id=\"edge4\" class=\"edge\">\n",
       "<title>n-&gt;e</title>\n",
       "<g id=\"a_edge4\"><a xlink:title=\"4 → 1\">\n",
       "<path fill=\"none\" stroke=\"#4a4a4a\" d=\"M107.38,-217.12C101.79,-208.61 94.78,-197.94 88.46,-188.32\"/>\n",
       "<polygon fill=\"#4a4a4a\" stroke=\"#4a4a4a\" points=\"91.47,-186.52 83.05,-180.09 85.62,-190.37 91.47,-186.52\"/>\n",
       "</a>\n",
       "</g>\n",
       "</g>\n",
       "<!-- a -->\n",
       "<g id=\"node5\" class=\"node\">\n",
       "<title>a</title>\n",
       "<g id=\"a_node5\"><a xlink:title=\"(8) a\">\n",
       "<ellipse fill=\"#404040\" stroke=\"#4a4a4a\" cx=\"154.82\" cy=\"-90\" rx=\"27\" ry=\"18\"/>\n",
       "<text text-anchor=\"middle\" x=\"154.82\" y=\"-85.33\" font-family=\"Times,serif\" font-size=\"14.00\" fill=\"white\">a</text>\n",
       "</a>\n",
       "</g>\n",
       "</g>\n",
       "<!-- n&#45;&gt;a -->\n",
       "<g id=\"edge15\" class=\"edge\">\n",
       "<title>n-&gt;a</title>\n",
       "<g id=\"a_edge15\"><a xlink:title=\"4 → 8\">\n",
       "<path fill=\"none\" stroke=\"#4a4a4a\" d=\"M122.28,-215.87C128.53,-191.88 139.97,-147.99 147.48,-119.16\"/>\n",
       "<polygon fill=\"#4a4a4a\" stroke=\"#4a4a4a\" points=\"150.83,-120.21 149.96,-109.65 144.05,-118.45 150.83,-120.21\"/>\n",
       "</a>\n",
       "</g>\n",
       "</g>\n",
       "<!-- y -->\n",
       "<g id=\"node3\" class=\"node\">\n",
       "<title>y</title>\n",
       "<g id=\"a_node3\"><a xlink:title=\"(7) y\">\n",
       "<ellipse fill=\"#404040\" stroke=\"#4a4a4a\" cx=\"181.82\" cy=\"-162\" rx=\"27\" ry=\"18\"/>\n",
       "<text text-anchor=\"middle\" x=\"181.82\" y=\"-157.32\" font-family=\"Times,serif\" font-size=\"14.00\" fill=\"white\">y</text>\n",
       "</a>\n",
       "</g>\n",
       "</g>\n",
       "<!-- y&#45;&gt;a -->\n",
       "<g id=\"edge18\" class=\"edge\">\n",
       "<title>y-&gt;a</title>\n",
       "<g id=\"a_edge18\"><a xlink:title=\"7 → 8\">\n",
       "<path fill=\"none\" stroke=\"#4a4a4a\" d=\"M175.28,-144.05C172.3,-136.32 168.69,-126.96 165.34,-118.27\"/>\n",
       "<polygon fill=\"#4a4a4a\" stroke=\"#4a4a4a\" points=\"168.71,-117.27 161.84,-109.2 162.17,-119.79 168.71,-117.27\"/>\n",
       "</a>\n",
       "</g>\n",
       "</g>\n",
       "<!-- t -->\n",
       "<g id=\"node4\" class=\"node\">\n",
       "<title>t</title>\n",
       "<g id=\"a_node4\"><a xlink:title=\"(5) t\">\n",
       "<ellipse fill=\"#404040\" stroke=\"#4a4a4a\" cx=\"39.82\" cy=\"-306\" rx=\"27\" ry=\"18\"/>\n",
       "<text text-anchor=\"middle\" x=\"39.82\" y=\"-301.32\" font-family=\"Times,serif\" font-size=\"14.00\" fill=\"white\">t</text>\n",
       "</a>\n",
       "</g>\n",
       "</g>\n",
       "<!-- t&#45;&gt;n -->\n",
       "<g id=\"edge6\" class=\"edge\">\n",
       "<title>t-&gt;n</title>\n",
       "<g id=\"a_edge6\"><a xlink:title=\"5 → 4\">\n",
       "<path fill=\"none\" stroke=\"#4a4a4a\" d=\"M55.23,-291.17C66.27,-281.26 81.35,-267.73 93.94,-256.43\"/>\n",
       "<polygon fill=\"#4a4a4a\" stroke=\"#4a4a4a\" points=\"95.94,-259.34 101.05,-250.05 91.27,-254.13 95.94,-259.34\"/>\n",
       "</a>\n",
       "</g>\n",
       "</g>\n",
       "<!-- t&#45;&gt;a -->\n",
       "<g id=\"edge5\" class=\"edge\">\n",
       "<title>t-&gt;a</title>\n",
       "<g id=\"a_edge5\"><a xlink:title=\"5 → 8\">\n",
       "<path fill=\"none\" stroke=\"#4a4a4a\" d=\"M33.71,-288.29C23.45,-257.07 6.59,-189.02 35.82,-144 53.74,-116.41 89.71,-103.06 117.44,-96.68\"/>\n",
       "<polygon fill=\"#4a4a4a\" stroke=\"#4a4a4a\" points=\"117.8,-100.18 126.88,-94.72 116.38,-93.32 117.8,-100.18\"/>\n",
       "</a>\n",
       "</g>\n",
       "</g>\n",
       "<!-- v -->\n",
       "<g id=\"node8\" class=\"node\">\n",
       "<title>v</title>\n",
       "<g id=\"a_node8\"><a xlink:title=\"(9) v\">\n",
       "<ellipse fill=\"#404040\" stroke=\"#4a4a4a\" cx=\"236.82\" cy=\"-18\" rx=\"27\" ry=\"18\"/>\n",
       "<text text-anchor=\"middle\" x=\"236.82\" y=\"-13.32\" font-family=\"Times,serif\" font-size=\"14.00\" fill=\"white\">v</text>\n",
       "</a>\n",
       "</g>\n",
       "</g>\n",
       "<!-- a&#45;&gt;v -->\n",
       "<g id=\"edge10\" class=\"edge\">\n",
       "<title>a-&gt;v</title>\n",
       "<g id=\"a_edge10\"><a xlink:title=\"8 → 9\">\n",
       "<path fill=\"none\" stroke=\"#4a4a4a\" d=\"M171.02,-75.17C182.7,-65.2 198.68,-51.56 211.97,-40.21\"/>\n",
       "<polygon fill=\"#4a4a4a\" stroke=\"#4a4a4a\" points=\"214.17,-42.94 219.5,-33.78 209.62,-37.61 214.17,-42.94\"/>\n",
       "</a>\n",
       "</g>\n",
       "</g>\n",
       "<!-- c -->\n",
       "<g id=\"node6\" class=\"node\">\n",
       "<title>c</title>\n",
       "<g id=\"a_node6\"><a xlink:title=\"(0) c\">\n",
       "<ellipse fill=\"#404040\" stroke=\"#4a4a4a\" cx=\"39.82\" cy=\"-450\" rx=\"27\" ry=\"18\"/>\n",
       "<text text-anchor=\"middle\" x=\"39.82\" y=\"-445.32\" font-family=\"Times,serif\" font-size=\"14.00\" fill=\"white\">c</text>\n",
       "</a>\n",
       "</g>\n",
       "</g>\n",
       "<!-- c&#45;&gt;e -->\n",
       "<g id=\"edge1\" class=\"edge\">\n",
       "<title>c-&gt;e</title>\n",
       "<g id=\"a_edge1\"><a xlink:title=\"0 → 1\">\n",
       "<path fill=\"none\" stroke=\"#4a4a4a\" d=\"M31.2,-432.93C16.73,-403.88 -9.6,-340.74 3.82,-288 13.4,-250.33 36.89,-211.75 53.57,-187.61\"/>\n",
       "<polygon fill=\"#4a4a4a\" stroke=\"#4a4a4a\" points=\"56.23,-189.91 59.15,-179.73 50.52,-185.87 56.23,-189.91\"/>\n",
       "</a>\n",
       "</g>\n",
       "</g>\n",
       "<!-- c&#45;&gt;t -->\n",
       "<g id=\"edge12\" class=\"edge\">\n",
       "<title>c-&gt;t</title>\n",
       "<g id=\"a_edge12\"><a xlink:title=\"0 → 5\">\n",
       "<path fill=\"none\" stroke=\"#4a4a4a\" d=\"M39.82,-431.59C39.82,-407.61 39.82,-364.14 39.82,-335.42\"/>\n",
       "<polygon fill=\"#4a4a4a\" stroke=\"#4a4a4a\" points=\"43.32,-335.62 39.82,-325.62 36.32,-335.62 43.32,-335.62\"/>\n",
       "</a>\n",
       "</g>\n",
       "</g>\n",
       "<!-- o -->\n",
       "<g id=\"node10\" class=\"node\">\n",
       "<title>o</title>\n",
       "<g id=\"a_node10\"><a xlink:title=\"(3) o\">\n",
       "<ellipse fill=\"#404040\" stroke=\"#4a4a4a\" cx=\"114.82\" cy=\"-378\" rx=\"27\" ry=\"18\"/>\n",
       "<text text-anchor=\"middle\" x=\"114.82\" y=\"-373.32\" font-family=\"Times,serif\" font-size=\"14.00\" fill=\"white\">o</text>\n",
       "</a>\n",
       "</g>\n",
       "</g>\n",
       "<!-- c&#45;&gt;o -->\n",
       "<g id=\"edge7\" class=\"edge\">\n",
       "<title>c-&gt;o</title>\n",
       "<g id=\"a_edge7\"><a xlink:title=\"0 → 3\">\n",
       "<path fill=\"none\" stroke=\"#4a4a4a\" d=\"M55,-434.83C65.47,-425.06 79.59,-411.88 91.48,-400.78\"/>\n",
       "<polygon fill=\"#4a4a4a\" stroke=\"#4a4a4a\" points=\"93.64,-403.56 98.56,-394.18 88.86,-398.44 93.64,-403.56\"/>\n",
       "</a>\n",
       "</g>\n",
       "</g>\n",
       "<!-- s -->\n",
       "<g id=\"node7\" class=\"node\">\n",
       "<title>s</title>\n",
       "<g id=\"a_node7\"><a xlink:title=\"(6) s\">\n",
       "<ellipse fill=\"#404040\" stroke=\"#4a4a4a\" cx=\"187.82\" cy=\"-306\" rx=\"27\" ry=\"18\"/>\n",
       "<text text-anchor=\"middle\" x=\"187.82\" y=\"-301.32\" font-family=\"Times,serif\" font-size=\"14.00\" fill=\"white\">s</text>\n",
       "</a>\n",
       "</g>\n",
       "</g>\n",
       "<!-- s&#45;&gt;n -->\n",
       "<g id=\"edge9\" class=\"edge\">\n",
       "<title>s-&gt;n</title>\n",
       "<g id=\"a_edge9\"><a xlink:title=\"6 → 4\">\n",
       "<path fill=\"none\" stroke=\"#4a4a4a\" d=\"M173.32,-290.5C163.74,-280.92 151.01,-268.19 140.16,-257.34\"/>\n",
       "<polygon fill=\"#4a4a4a\" stroke=\"#4a4a4a\" points=\"142.92,-255.15 133.38,-250.56 137.97,-260.1 142.92,-255.15\"/>\n",
       "</a>\n",
       "</g>\n",
       "</g>\n",
       "<!-- s&#45;&gt;v -->\n",
       "<g id=\"edge17\" class=\"edge\">\n",
       "<title>s-&gt;v</title>\n",
       "<g id=\"a_edge17\"><a xlink:title=\"6 → 9\">\n",
       "<path fill=\"none\" stroke=\"#4a4a4a\" d=\"M201.21,-290.38C209.65,-280.33 220.01,-266.26 225.82,-252 256.22,-177.36 256.05,-152.17 247.82,-72 246.98,-63.83 245.44,-55.07 243.76,-47.07\"/>\n",
       "<polygon fill=\"#4a4a4a\" stroke=\"#4a4a4a\" points=\"247.22,-46.51 241.62,-37.52 240.39,-48.05 247.22,-46.51\"/>\n",
       "</a>\n",
       "</g>\n",
       "</g>\n",
       "<!-- r -->\n",
       "<g id=\"node11\" class=\"node\">\n",
       "<title>r</title>\n",
       "<g id=\"a_node11\"><a xlink:title=\"(10) r\">\n",
       "<ellipse fill=\"#404040\" stroke=\"#4a4a4a\" cx=\"189.82\" cy=\"-234\" rx=\"27\" ry=\"18\"/>\n",
       "<text text-anchor=\"middle\" x=\"189.82\" y=\"-229.32\" font-family=\"Times,serif\" font-size=\"14.00\" fill=\"white\">r</text>\n",
       "</a>\n",
       "</g>\n",
       "</g>\n",
       "<!-- s&#45;&gt;r -->\n",
       "<g id=\"edge11\" class=\"edge\">\n",
       "<title>s-&gt;r</title>\n",
       "<g id=\"a_edge11\"><a xlink:title=\"6 → 10\">\n",
       "<path fill=\"none\" stroke=\"#4a4a4a\" d=\"M188.31,-287.7C188.52,-280.41 188.77,-271.73 189.01,-263.54\"/>\n",
       "<polygon fill=\"#4a4a4a\" stroke=\"#4a4a4a\" points=\"192.5,-263.71 189.29,-253.62 185.5,-263.51 192.5,-263.71\"/>\n",
       "</a>\n",
       "</g>\n",
       "</g>\n",
       "<!-- f -->\n",
       "<g id=\"node9\" class=\"node\">\n",
       "<title>f</title>\n",
       "<g id=\"a_node9\"><a xlink:title=\"(2) f\">\n",
       "<ellipse fill=\"#404040\" stroke=\"#4a4a4a\" cx=\"114.82\" cy=\"-306\" rx=\"27\" ry=\"18\"/>\n",
       "<text text-anchor=\"middle\" x=\"114.82\" y=\"-301.32\" font-family=\"Times,serif\" font-size=\"14.00\" fill=\"white\">f</text>\n",
       "</a>\n",
       "</g>\n",
       "</g>\n",
       "<!-- f&#45;&gt;e -->\n",
       "<g id=\"edge3\" class=\"edge\">\n",
       "<title>f-&gt;e</title>\n",
       "<g id=\"a_edge3\"><a xlink:title=\"2 → 1\">\n",
       "<path fill=\"none\" stroke=\"#4a4a4a\" d=\"M102.73,-289.71C95.41,-279.6 86.59,-265.72 81.82,-252 75.06,-232.55 72.62,-209.4 71.84,-191.59\"/>\n",
       "<polygon fill=\"#4a4a4a\" stroke=\"#4a4a4a\" points=\"75.34,-191.64 71.57,-181.74 68.34,-191.83 75.34,-191.64\"/>\n",
       "</a>\n",
       "</g>\n",
       "</g>\n",
       "<!-- f&#45;&gt;n -->\n",
       "<g id=\"edge2\" class=\"edge\">\n",
       "<title>f-&gt;n</title>\n",
       "<g id=\"a_edge2\"><a xlink:title=\"2 → 4\">\n",
       "<path fill=\"none\" stroke=\"#4a4a4a\" d=\"M115.56,-287.7C115.87,-280.41 116.25,-271.73 116.6,-263.54\"/>\n",
       "<polygon fill=\"#4a4a4a\" stroke=\"#4a4a4a\" points=\"120.09,-263.76 117.02,-253.62 113.1,-263.46 120.09,-263.76\"/>\n",
       "</a>\n",
       "</g>\n",
       "</g>\n",
       "<!-- o&#45;&gt;s -->\n",
       "<g id=\"edge13\" class=\"edge\">\n",
       "<title>o-&gt;s</title>\n",
       "<g id=\"a_edge13\"><a xlink:title=\"3 → 6\">\n",
       "<path fill=\"none\" stroke=\"#4a4a4a\" d=\"M129.59,-362.83C139.62,-353.22 153.08,-340.31 164.54,-329.32\"/>\n",
       "<polygon fill=\"#4a4a4a\" stroke=\"#4a4a4a\" points=\"166.93,-331.88 171.73,-322.43 162.09,-326.83 166.93,-331.88\"/>\n",
       "</a>\n",
       "</g>\n",
       "</g>\n",
       "<!-- o&#45;&gt;f -->\n",
       "<g id=\"edge16\" class=\"edge\">\n",
       "<title>o-&gt;f</title>\n",
       "<g id=\"a_edge16\"><a xlink:title=\"3 → 2\">\n",
       "<path fill=\"none\" stroke=\"#4a4a4a\" d=\"M114.82,-359.7C114.82,-352.41 114.82,-343.73 114.82,-335.54\"/>\n",
       "<polygon fill=\"#4a4a4a\" stroke=\"#4a4a4a\" points=\"118.32,-335.62 114.82,-325.62 111.32,-335.62 118.32,-335.62\"/>\n",
       "</a>\n",
       "</g>\n",
       "</g>\n",
       "<!-- r&#45;&gt;y -->\n",
       "<g id=\"edge8\" class=\"edge\">\n",
       "<title>r-&gt;y</title>\n",
       "<g id=\"a_edge8\"><a xlink:title=\"10 → 7\">\n",
       "<path fill=\"none\" stroke=\"#4a4a4a\" d=\"M187.84,-215.7C187.01,-208.41 186.02,-199.73 185.08,-191.54\"/>\n",
       "<polygon fill=\"#4a4a4a\" stroke=\"#4a4a4a\" points=\"188.56,-191.15 183.95,-181.61 181.61,-191.94 188.56,-191.15\"/>\n",
       "</a>\n",
       "</g>\n",
       "</g>\n",
       "<!-- r&#45;&gt;v -->\n",
       "<g id=\"edge14\" class=\"edge\">\n",
       "<title>r-&gt;v</title>\n",
       "<g id=\"a_edge14\"><a xlink:title=\"10 → 9\">\n",
       "<path fill=\"none\" stroke=\"#4a4a4a\" d=\"M200.29,-216.97C206.42,-206.8 213.74,-193.12 217.82,-180 231.76,-135.2 235.6,-80.48 236.59,-47.75\"/>\n",
       "<polygon fill=\"#4a4a4a\" stroke=\"#4a4a4a\" points=\"240.08,-47.94 236.81,-37.86 233.09,-47.78 240.08,-47.94\"/>\n",
       "</a>\n",
       "</g>\n",
       "</g>\n",
       "</g>\n",
       "</svg>"
      ],
      "text/plain": [
       "(pyAgrum.BayesNet@0x5dcca57d4f30) BN{nodes: 11, arcs: 18, domainSize: 2048, dim: 45, mem: 720o}"
      ]
     },
     "execution_count": 26,
     "metadata": {},
     "output_type": "execute_result"
    }
   ],
   "source": [
    "bnLIViajes"
   ]
  },
  {
   "cell_type": "code",
   "execution_count": null,
   "id": "b34ca81e-3dc7-4bc3-af16-9c5861c2550d",
   "metadata": {},
   "outputs": [],
   "source": [
    "Observamos nro. de arcos a los nodos hoja :\n",
    "En bnLI ,       2 (e), 3 (n), 3 (v)\n",
    "En bnLIViajes,  3 (e), 3 (a), 3 (v) "
   ]
  },
  {
   "cell_type": "code",
   "execution_count": null,
   "id": "1e0de2f1-ecff-4b86-9942-278f05afd90b",
   "metadata": {},
   "outputs": [],
   "source": [
    "BUSCAMOS DESARROLLAR \"s\". VALORES TATTWAS \"YO SOY 1\". 5.5         55"
   ]
  },
  {
   "cell_type": "code",
   "execution_count": 29,
   "id": "057ff7ea-61f2-432e-9b20-967eaa8c4b2c",
   "metadata": {},
   "outputs": [
    {
     "data": {
      "text/html": [
       "<table style=\"border:1px solid black;border-collapse: collapse;\">\n",
       "<tr style='border:1px solid black;color:black;background-color:#808080'>\n",
       "      <th colspan='2'><center>c</center></th></tr>\n",
       "<tr><th style='border:1px solid black;border-bottom-style: double;color:black;background-color:#BBBBBB'>\n",
       "      <center>0</center></th><th style='border:1px solid black;border-bottom-style: double;color:black;background-color:#BBBBBB'>\n",
       "      <center>1</center></th></tr>\n",
       "<tr><td style='color:black;background-color:#bfbf64;text-align:right;padding: 3px;'>0.5000</td><td style='color:black;background-color:#bfbf64;text-align:right;padding: 3px;'>0.5000</td></tr>\n",
       "</table>"
      ],
      "text/plain": [
       "(pyAgrum.Potential@0x7579d40dc310) \n",
       "  c                |\n",
       "0        |1        |\n",
       "---------|---------|\n",
       " 0.5000  | 0.5000  |"
      ]
     },
     "execution_count": 29,
     "metadata": {},
     "output_type": "execute_result"
    }
   ],
   "source": [
    "bnLI.cpt(\"c\").fillWith([0.5,0.5])"
   ]
  },
  {
   "cell_type": "code",
   "execution_count": 30,
   "id": "953945f6-872c-422c-9692-9e3f55c7da56",
   "metadata": {},
   "outputs": [
    {
     "data": {
      "text/plain": [
       "('o', 'c')"
      ]
     },
     "execution_count": 30,
     "metadata": {},
     "output_type": "execute_result"
    }
   ],
   "source": [
    "bnLI.cpt(\"o\").names"
   ]
  },
  {
   "cell_type": "code",
   "execution_count": null,
   "id": "36fc473e-f966-47ee-832a-7273e4038ed6",
   "metadata": {},
   "outputs": [],
   "source": [
    "VALORES TATTWAS \"YO SOY 2\". 2,5 - 7.5 y \"YO SOY 3\". 4.5 - 5-5      27    45"
   ]
  },
  {
   "cell_type": "code",
   "execution_count": 32,
   "id": "d713c242-ad26-4878-92a7-70d8aeea7b7a",
   "metadata": {},
   "outputs": [],
   "source": [
    "bnLI.cpt(\"o\")[:]=[ [0.25,0.75],[0.45,0.55]]"
   ]
  },
  {
   "cell_type": "code",
   "execution_count": 33,
   "id": "3ad824f8-1a94-4782-97c0-3909bb8520e1",
   "metadata": {},
   "outputs": [
    {
     "data": {
      "text/plain": [
       "('s', 'o')"
      ]
     },
     "execution_count": 33,
     "metadata": {},
     "output_type": "execute_result"
    }
   ],
   "source": [
    "bnLI.cpt(\"s\").names"
   ]
  },
  {
   "cell_type": "code",
   "execution_count": null,
   "id": "25891420-42d8-47c1-a3d8-658ccca99815",
   "metadata": {},
   "outputs": [],
   "source": [
    "VALORES TATTWAS \"YO SOY 3\". 6.5 - 3.5    52"
   ]
  },
  {
   "cell_type": "code",
   "execution_count": 34,
   "id": "ccb1c087-280b-4fd4-a1bc-96740f261eca",
   "metadata": {},
   "outputs": [],
   "source": [
    "bnLI.cpt(\"s\")[:]=[ [0.45,0.55],[0.65,0.35]]"
   ]
  },
  {
   "cell_type": "code",
   "execution_count": 35,
   "id": "59188634-dad8-4cc2-a286-8c21bb7a757e",
   "metadata": {},
   "outputs": [
    {
     "data": {
      "text/html": [
       "<table style=\"border:1px solid black;border-collapse: collapse;\">\n",
       "<tr><th colspan='1'></th>\n",
       "      <th colspan='2' style='border:1px solid black;color:black;background-color:#808080;'><center>s</center>\n",
       "      </th></tr>\n",
       "<tr><th style='border:1px solid black;color:black;background-color:#808080'><center>o</center></th><th style='border:1px solid black;border-bottom-style: double;color:black;background-color:#BBBBBB'>\n",
       "      <center>0</center></th><th style='border:1px solid black;border-bottom-style: double;color:black;background-color:#BBBBBB'>\n",
       "      <center>1</center></th></tr>\n",
       "<tr><th style='border:1px solid black;color:black;background-color:#BBBBBB'><center>0</center></th><td style='color:black;background-color:#c5b864;text-align:right;padding: 3px;'>0.4500</td><td style='color:black;background-color:#b8c564;text-align:right;padding: 3px;'>0.5500</td></tr>\n",
       "<tr><th style='border:1px solid black;color:black;background-color:#BBBBBB'><center>1</center></th><td style='color:black;background-color:#abd264;text-align:right;padding: 3px;'>0.6500</td><td style='color:black;background-color:#d2ab64;text-align:right;padding: 3px;'>0.3500</td></tr>\n",
       "</table>"
      ],
      "text/plain": [
       "(pyAgrum.Potential@0x5dcca57d6c10) \n",
       "      ||  s                |\n",
       "o     ||0        |1        |\n",
       "------||---------|---------|\n",
       "0     || 0.4500  | 0.5500  |\n",
       "1     || 0.6500  | 0.3500  |"
      ]
     },
     "execution_count": 35,
     "metadata": {},
     "output_type": "execute_result"
    }
   ],
   "source": [
    "bnLI.cpt(\"s\")"
   ]
  },
  {
   "cell_type": "code",
   "execution_count": null,
   "id": "47cc57af-a64f-4fe8-b7bf-350831c07da7",
   "metadata": {},
   "outputs": [],
   "source": [
    "BUSCAMOS DESARROLLAR \"r\". VALORES TATTWAS \"YO PIENSO 1\" . 38  y 100-38 = 62"
   ]
  },
  {
   "cell_type": "code",
   "execution_count": 36,
   "id": "3d11cee7-2c99-48ef-81c4-4d1ef120a9e5",
   "metadata": {},
   "outputs": [
    {
     "data": {
      "text/plain": [
       "('r', 's')"
      ]
     },
     "execution_count": 36,
     "metadata": {},
     "output_type": "execute_result"
    }
   ],
   "source": [
    "bnLI.cpt(\"r\").names"
   ]
  },
  {
   "cell_type": "code",
   "execution_count": 37,
   "id": "b46672ea-8061-48c1-9cbb-e10c8184e559",
   "metadata": {},
   "outputs": [],
   "source": [
    "bnLI.cpt(\"s\")[:]=[ [0.65,0.35],[0.38,0.62]]"
   ]
  }
 ],
 "metadata": {
  "kernelspec": {
   "display_name": "Python 3 (ipykernel)",
   "language": "python",
   "name": "python3"
  },
  "language_info": {
   "codemirror_mode": {
    "name": "ipython",
    "version": 3
   },
   "file_extension": ".py",
   "mimetype": "text/x-python",
   "name": "python",
   "nbconvert_exporter": "python",
   "pygments_lexer": "ipython3",
   "version": "3.12.7"
  }
 },
 "nbformat": 4,
 "nbformat_minor": 5
}
