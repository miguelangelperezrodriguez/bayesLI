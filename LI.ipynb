{
 "cells": [
  {
   "cell_type": "raw",
   "id": "90494d22-16ca-4bbb-8a2d-d10b0386c8bb",
   "metadata": {
    "editable": true,
    "raw_mimetype": "",
    "slideshow": {
     "slide_type": ""
    },
    "tags": []
   },
   "source": [
    "PROYECTO DE LI EN REDES BAYESIANAS."
   ]
  },
  {
   "cell_type": "raw",
   "id": "d909074b-d68e-4b00-8226-8235fda4a751",
   "metadata": {},
   "source": [
    "Importamos la librería pyagrum"
   ]
  },
  {
   "cell_type": "code",
   "execution_count": 6,
   "id": "a90d2a99-b4fa-47e7-aada-a57feaca07ca",
   "metadata": {},
   "outputs": [],
   "source": [
    "import pyAgrum as gum"
   ]
  },
  {
   "cell_type": "code",
   "execution_count": null,
   "id": "4491eebc-2522-4893-b728-2396a7eed62c",
   "metadata": {},
   "outputs": [],
   "source": [
    "Creamos la red bayesiana"
   ]
  },
  {
   "cell_type": "code",
   "execution_count": 7,
   "id": "333ced83-84a8-46eb-ae09-392a788935d5",
   "metadata": {},
   "outputs": [],
   "source": [
    "bnLI=gum.BayesNet('Red Bayesiana LI Universo')"
   ]
  },
  {
   "cell_type": "code",
   "execution_count": null,
   "id": "6ed1d93a-73f1-46f2-97b2-5bdb0820b510",
   "metadata": {},
   "outputs": [],
   "source": [
    "Creamos los arcos."
   ]
  },
  {
   "cell_type": "code",
   "execution_count": 8,
   "id": "54145305-0455-49cf-a97d-f8851721bd36",
   "metadata": {},
   "outputs": [
    {
     "name": "stdout",
     "output_type": "stream",
     "text": [
      "0\n"
     ]
    }
   ],
   "source": [
    "id_clase=bnLI.add(gum.LabelizedVariable('c','c?',2))\n",
    "print(id_clase)"
   ]
  },
  {
   "cell_type": "code",
   "execution_count": 9,
   "id": "fc4c94d0-8244-4208-8146-491ddbbb59ee",
   "metadata": {},
   "outputs": [],
   "source": [
    "id_espiral, id_fractal, id_objetoEL, id_nucleo, id_objetoTU, id_advrecordNOS, id_advrecordYO, id_nada, id_vacio, id_recordELLA = [ bnLI.add(name, 2) for name in \"efontsyavr\" ]"
   ]
  },
  {
   "cell_type": "code",
   "execution_count": null,
   "id": "28cce13f-224f-4244-887f-a8e71bcebc98",
   "metadata": {},
   "outputs": [],
   "source": [
    "Mostramos los datos de las variables"
   ]
  },
  {
   "cell_type": "code",
   "execution_count": 10,
   "id": "5150dae8-3d4c-459e-b6b8-96e556722f73",
   "metadata": {},
   "outputs": [
    {
     "name": "stdout",
     "output_type": "stream",
     "text": [
      "BN{nodes: 11, arcs: 0, domainSize: 2048, dim: 11, mem: 176o}\n"
     ]
    }
   ],
   "source": [
    "print ( bnLI )"
   ]
  },
  {
   "cell_type": "code",
   "execution_count": null,
   "id": "4d7132d8-9e47-4729-a59c-020c9686bad7",
   "metadata": {},
   "outputs": [],
   "source": [
    "INSERTAMOS LOS ARCOS"
   ]
  },
  {
   "cell_type": "code",
   "execution_count": 11,
   "id": "edc172b8-c42f-41b1-84b0-74be4d422aa7",
   "metadata": {},
   "outputs": [
    {
     "name": "stdout",
     "output_type": "stream",
     "text": [
      "BN{nodes: 11, arcs: 3, domainSize: 2048, dim: 14, mem: 224o}\n"
     ]
    }
   ],
   "source": [
    "for link in [(id_clase,id_espiral), (id_clase,id_objetoEL), (id_clase,id_objetoTU)] : \n",
    "    bnLI.addArc(*link)\n",
    "print(bnLI)"
   ]
  },
  {
   "cell_type": "code",
   "execution_count": 12,
   "id": "cde074c5-2666-46e2-967b-f84568511cf2",
   "metadata": {},
   "outputs": [
    {
     "name": "stdout",
     "output_type": "stream",
     "text": [
      "BN{nodes: 11, arcs: 5, domainSize: 2048, dim: 16, mem: 256o}\n"
     ]
    }
   ],
   "source": [
    "for link in [(id_objetoEL,id_fractal), (id_objetoEL,id_advrecordNOS)] : \n",
    "    bnLI.addArc(*link)\n",
    "print(bnLI)"
   ]
  },
  {
   "cell_type": "code",
   "execution_count": 13,
   "id": "5c0a9784-23d0-4925-8461-7632c2387b0f",
   "metadata": {},
   "outputs": [
    {
     "name": "stdout",
     "output_type": "stream",
     "text": [
      "BN{nodes: 11, arcs: 7, domainSize: 2048, dim: 19, mem: 304o}\n"
     ]
    }
   ],
   "source": [
    "for link in [(id_fractal,id_espiral), (id_fractal,id_nucleo)] : \n",
    "    bnLI.addArc(*link)\n",
    "print(bnLI)"
   ]
  },
  {
   "cell_type": "code",
   "execution_count": 14,
   "id": "d7d863cf-7392-4ee9-b55a-3e9f75894e5c",
   "metadata": {},
   "outputs": [
    {
     "name": "stdout",
     "output_type": "stream",
     "text": [
      "BN{nodes: 11, arcs: 9, domainSize: 2048, dim: 22, mem: 352o}\n"
     ]
    }
   ],
   "source": [
    "for link in [(id_objetoTU,id_nucleo), (id_objetoTU,id_nada)] : \n",
    "    bnLI.addArc(*link)\n",
    "print(bnLI)"
   ]
  },
  {
   "cell_type": "code",
   "execution_count": 15,
   "id": "cbc3f112-3a54-44e3-a895-f4a59b9017df",
   "metadata": {},
   "outputs": [
    {
     "name": "stdout",
     "output_type": "stream",
     "text": [
      "BN{nodes: 11, arcs: 12, domainSize: 2048, dim: 28, mem: 448o}\n"
     ]
    }
   ],
   "source": [
    "for link in [(id_advrecordNOS,id_nucleo), (id_advrecordNOS,id_vacio), (id_advrecordNOS,id_recordELLA)] : \n",
    "    bnLI.addArc(*link)\n",
    "print(bnLI)"
   ]
  },
  {
   "cell_type": "code",
   "execution_count": 16,
   "id": "f033d2c9-123c-4a15-b624-6bfbb8bf1ee7",
   "metadata": {},
   "outputs": [
    {
     "name": "stdout",
     "output_type": "stream",
     "text": [
      "BN{nodes: 11, arcs: 13, domainSize: 2048, dim: 30, mem: 480o}\n"
     ]
    }
   ],
   "source": [
    "for link in [(id_nada,id_vacio)] : \n",
    "    bnLI.addArc(*link)\n",
    "print(bnLI)"
   ]
  },
  {
   "cell_type": "code",
   "execution_count": 17,
   "id": "df48d612-6015-4ada-891e-c3891c9a53d4",
   "metadata": {},
   "outputs": [
    {
     "name": "stdout",
     "output_type": "stream",
     "text": [
      "BN{nodes: 11, arcs: 15, domainSize: 2048, dim: 35, mem: 560o}\n"
     ]
    }
   ],
   "source": [
    "for link in [(id_recordELLA,id_vacio), (id_recordELLA,id_advrecordYO)] : \n",
    "    bnLI.addArc(*link)\n",
    "print(bnLI)"
   ]
  },
  {
   "cell_type": "code",
   "execution_count": 18,
   "id": "bd738600-14f8-4a2c-b8a8-0c524792fc35",
   "metadata": {},
   "outputs": [
    {
     "name": "stdout",
     "output_type": "stream",
     "text": [
      "BN{nodes: 11, arcs: 16, domainSize: 2048, dim: 37, mem: 592o}\n"
     ]
    }
   ],
   "source": [
    "for link in [(id_advrecordYO,id_nada)] : \n",
    "    bnLI.addArc(*link)\n",
    "print(bnLI)"
   ]
  },
  {
   "cell_type": "code",
   "execution_count": null,
   "id": "0cec6081-6eab-4801-b7ad-72c9aa492512",
   "metadata": {},
   "outputs": [],
   "source": [
    "GRAFICAMOS LA RED BAYESIANA"
   ]
  },
  {
   "cell_type": "code",
   "execution_count": null,
   "id": "a8d7c5e6-bc31-47b9-8147-f8ac0c03d6b0",
   "metadata": {},
   "outputs": [],
   "source": [
    "CARACTERIZADA POR :\n",
    "\"e\" (Espiral) => \"n\" (Nucleo) => \"v\" (Vacío)\n",
    "\n",
    "QUEREMOS AMPLIAR \"s\" (Nucleo Vacío sin Espiral)    11\n",
    "QUEREMOS AMPLIAR \"r\" (Entre s(11) e y (YO))        12\n",
    "\n",
    "Se deduce que     \"a\" (Vacío) es el 13 => Insertamos el esquema Universo. :\n",
    "    1->5 (1)\n",
    "    6->9 (2)\n",
    "    15   (3)\n",
    "    16   (4)\n",
    "    17   (5)\n",
    "    18   (6)\n",
    "    19   (7)\n",
    "    20   (8)\n",
    "    21   (9)   Enlazaría red bayesiana con otra.\n",
    "Tenemos 11 nodos: En la lista no está ni el primero ni el último. \"c\" (CLASE) ; \"v\" (Vacío). [Virtual]\n",
    "\n",
    "Se deduce que     \"v\" ; es 14 (Sitio) que deriva en significado de Vacío.\n"
   ]
  },
  {
   "cell_type": "code",
   "execution_count": 22,
   "id": "9925d637-a8fe-4c59-83b5-22a02c8e0c9d",
   "metadata": {},
   "outputs": [
    {
     "data": {
      "text/html": [
       "<svg xmlns=\"http://www.w3.org/2000/svg\" xmlns:xlink=\"http://www.w3.org/1999/xlink\" width=\"226pt\" height=\"360pt\" viewBox=\"0.00 0.00 226.13 360.00\">\n",
       "<g id=\"graph0\" class=\"graph\" transform=\"scale(0.756303 0.756303) rotate(0) translate(4 472)\">\n",
       "<title>G</title>\n",
       "<!-- s -->\n",
       "<g id=\"node1\" class=\"node\">\n",
       "<title>s</title>\n",
       "<g id=\"a_node1\"><a xlink:title=\"(6) s\">\n",
       "<ellipse fill=\"#404040\" stroke=\"#4a4a4a\" cx=\"65\" cy=\"-306\" rx=\"27\" ry=\"18\"/>\n",
       "<text text-anchor=\"middle\" x=\"65\" y=\"-301.32\" font-family=\"Times,serif\" font-size=\"14.00\" fill=\"white\">s</text>\n",
       "</a>\n",
       "</g>\n",
       "</g>\n",
       "<!-- r -->\n",
       "<g id=\"node3\" class=\"node\">\n",
       "<title>r</title>\n",
       "<g id=\"a_node3\"><a xlink:title=\"(10) r\">\n",
       "<ellipse fill=\"#404040\" stroke=\"#4a4a4a\" cx=\"65\" cy=\"-234\" rx=\"27\" ry=\"18\"/>\n",
       "<text text-anchor=\"middle\" x=\"65\" y=\"-229.32\" font-family=\"Times,serif\" font-size=\"14.00\" fill=\"white\">r</text>\n",
       "</a>\n",
       "</g>\n",
       "</g>\n",
       "<!-- s&#45;&gt;r -->\n",
       "<g id=\"edge10\" class=\"edge\">\n",
       "<title>s-&gt;r</title>\n",
       "<g id=\"a_edge10\"><a xlink:title=\"6 → 10\">\n",
       "<path fill=\"none\" stroke=\"#4a4a4a\" d=\"M65,-287.7C65,-280.41 65,-271.73 65,-263.54\"/>\n",
       "<polygon fill=\"#4a4a4a\" stroke=\"#4a4a4a\" points=\"68.5,-263.62 65,-253.62 61.5,-263.62 68.5,-263.62\"/>\n",
       "</a>\n",
       "</g>\n",
       "</g>\n",
       "<!-- v -->\n",
       "<g id=\"node7\" class=\"node\">\n",
       "<title>v</title>\n",
       "<g id=\"a_node7\"><a xlink:title=\"(9) v\">\n",
       "<ellipse fill=\"#404040\" stroke=\"#4a4a4a\" cx=\"27\" cy=\"-18\" rx=\"27\" ry=\"18\"/>\n",
       "<text text-anchor=\"middle\" x=\"27\" y=\"-13.32\" font-family=\"Times,serif\" font-size=\"14.00\" fill=\"white\">v</text>\n",
       "</a>\n",
       "</g>\n",
       "</g>\n",
       "<!-- s&#45;&gt;v -->\n",
       "<g id=\"edge15\" class=\"edge\">\n",
       "<title>s-&gt;v</title>\n",
       "<g id=\"a_edge15\"><a xlink:title=\"6 → 9\">\n",
       "<path fill=\"none\" stroke=\"#4a4a4a\" d=\"M51.35,-290.04C43.18,-280.06 33.53,-266.2 29,-252 6.42,-181.22 15.21,-92.07 21.98,-47.34\"/>\n",
       "<polygon fill=\"#4a4a4a\" stroke=\"#4a4a4a\" points=\"25.4,-48.13 23.53,-37.7 18.49,-47.02 25.4,-48.13\"/>\n",
       "</a>\n",
       "</g>\n",
       "</g>\n",
       "<!-- n -->\n",
       "<g id=\"node9\" class=\"node\">\n",
       "<title>n</title>\n",
       "<g id=\"a_node9\"><a xlink:title=\"(4) n\">\n",
       "<ellipse fill=\"#404040\" stroke=\"#4a4a4a\" cx=\"192\" cy=\"-234\" rx=\"27\" ry=\"18\"/>\n",
       "<text text-anchor=\"middle\" x=\"192\" y=\"-229.32\" font-family=\"Times,serif\" font-size=\"14.00\" fill=\"white\">n</text>\n",
       "</a>\n",
       "</g>\n",
       "</g>\n",
       "<!-- s&#45;&gt;n -->\n",
       "<g id=\"edge8\" class=\"edge\">\n",
       "<title>s-&gt;n</title>\n",
       "<g id=\"a_edge8\"><a xlink:title=\"6 → 4\">\n",
       "<path fill=\"none\" stroke=\"#4a4a4a\" d=\"M85.4,-293.75C106.05,-282.37 138.2,-264.65 161.8,-251.65\"/>\n",
       "<polygon fill=\"#4a4a4a\" stroke=\"#4a4a4a\" points=\"163.25,-254.84 170.32,-246.95 159.87,-248.71 163.25,-254.84\"/>\n",
       "</a>\n",
       "</g>\n",
       "</g>\n",
       "<!-- a -->\n",
       "<g id=\"node2\" class=\"node\">\n",
       "<title>a</title>\n",
       "<g id=\"a_node2\"><a xlink:title=\"(8) a\">\n",
       "<ellipse fill=\"#404040\" stroke=\"#4a4a4a\" cx=\"82\" cy=\"-90\" rx=\"27\" ry=\"18\"/>\n",
       "<text text-anchor=\"middle\" x=\"82\" y=\"-85.33\" font-family=\"Times,serif\" font-size=\"14.00\" fill=\"white\">a</text>\n",
       "</a>\n",
       "</g>\n",
       "</g>\n",
       "<!-- a&#45;&gt;v -->\n",
       "<g id=\"edge9\" class=\"edge\">\n",
       "<title>a-&gt;v</title>\n",
       "<g id=\"a_edge9\"><a xlink:title=\"8 → 9\">\n",
       "<path fill=\"none\" stroke=\"#4a4a4a\" d=\"M69.79,-73.46C62.89,-64.67 54.09,-53.48 46.27,-43.53\"/>\n",
       "<polygon fill=\"#4a4a4a\" stroke=\"#4a4a4a\" points=\"49.04,-41.38 40.11,-35.68 43.53,-45.71 49.04,-41.38\"/>\n",
       "</a>\n",
       "</g>\n",
       "</g>\n",
       "<!-- y -->\n",
       "<g id=\"node4\" class=\"node\">\n",
       "<title>y</title>\n",
       "<g id=\"a_node4\"><a xlink:title=\"(7) y\">\n",
       "<ellipse fill=\"#404040\" stroke=\"#4a4a4a\" cx=\"82\" cy=\"-162\" rx=\"27\" ry=\"18\"/>\n",
       "<text text-anchor=\"middle\" x=\"82\" y=\"-157.32\" font-family=\"Times,serif\" font-size=\"14.00\" fill=\"white\">y</text>\n",
       "</a>\n",
       "</g>\n",
       "</g>\n",
       "<!-- r&#45;&gt;y -->\n",
       "<g id=\"edge7\" class=\"edge\">\n",
       "<title>r-&gt;y</title>\n",
       "<g id=\"a_edge7\"><a xlink:title=\"10 → 7\">\n",
       "<path fill=\"none\" stroke=\"#4a4a4a\" d=\"M69.12,-216.05C70.93,-208.6 73.1,-199.64 75.15,-191.22\"/>\n",
       "<polygon fill=\"#4a4a4a\" stroke=\"#4a4a4a\" points=\"78.49,-192.29 77.45,-181.75 71.69,-190.64 78.49,-192.29\"/>\n",
       "</a>\n",
       "</g>\n",
       "</g>\n",
       "<!-- r&#45;&gt;v -->\n",
       "<g id=\"edge13\" class=\"edge\">\n",
       "<title>r-&gt;v</title>\n",
       "<g id=\"a_edge13\"><a xlink:title=\"10 → 9\">\n",
       "<path fill=\"none\" stroke=\"#4a4a4a\" d=\"M58.02,-216.58C53.91,-206.26 48.95,-192.56 46,-180 35.26,-134.33 30.45,-79.87 28.4,-47.43\"/>\n",
       "<polygon fill=\"#4a4a4a\" stroke=\"#4a4a4a\" points=\"31.91,-47.43 27.83,-37.65 24.92,-47.84 31.91,-47.43\"/>\n",
       "</a>\n",
       "</g>\n",
       "</g>\n",
       "<!-- y&#45;&gt;a -->\n",
       "<g id=\"edge16\" class=\"edge\">\n",
       "<title>y-&gt;a</title>\n",
       "<g id=\"a_edge16\"><a xlink:title=\"7 → 8\">\n",
       "<path fill=\"none\" stroke=\"#4a4a4a\" d=\"M82,-143.7C82,-136.41 82,-127.73 82,-119.54\"/>\n",
       "<polygon fill=\"#4a4a4a\" stroke=\"#4a4a4a\" points=\"85.5,-119.62 82,-109.62 78.5,-119.62 85.5,-119.62\"/>\n",
       "</a>\n",
       "</g>\n",
       "</g>\n",
       "<!-- f -->\n",
       "<g id=\"node5\" class=\"node\">\n",
       "<title>f</title>\n",
       "<g id=\"a_node5\"><a xlink:title=\"(2) f\">\n",
       "<ellipse fill=\"#404040\" stroke=\"#4a4a4a\" cx=\"209\" cy=\"-306\" rx=\"27\" ry=\"18\"/>\n",
       "<text text-anchor=\"middle\" x=\"209\" y=\"-301.32\" font-family=\"Times,serif\" font-size=\"14.00\" fill=\"white\">f</text>\n",
       "</a>\n",
       "</g>\n",
       "</g>\n",
       "<!-- e -->\n",
       "<g id=\"node6\" class=\"node\">\n",
       "<title>e</title>\n",
       "<g id=\"a_node6\"><a xlink:title=\"(1) e\">\n",
       "<ellipse fill=\"#404040\" stroke=\"#4a4a4a\" cx=\"264\" cy=\"-234\" rx=\"27\" ry=\"18\"/>\n",
       "<text text-anchor=\"middle\" x=\"264\" y=\"-229.32\" font-family=\"Times,serif\" font-size=\"14.00\" fill=\"white\">e</text>\n",
       "</a>\n",
       "</g>\n",
       "</g>\n",
       "<!-- f&#45;&gt;e -->\n",
       "<g id=\"edge3\" class=\"edge\">\n",
       "<title>f-&gt;e</title>\n",
       "<g id=\"a_edge3\"><a xlink:title=\"2 → 1\">\n",
       "<path fill=\"none\" stroke=\"#4a4a4a\" d=\"M221.21,-289.46C228.11,-280.67 236.91,-269.48 244.73,-259.53\"/>\n",
       "<polygon fill=\"#4a4a4a\" stroke=\"#4a4a4a\" points=\"247.47,-261.71 250.89,-251.68 241.96,-257.38 247.47,-261.71\"/>\n",
       "</a>\n",
       "</g>\n",
       "</g>\n",
       "<!-- f&#45;&gt;n -->\n",
       "<g id=\"edge2\" class=\"edge\">\n",
       "<title>f-&gt;n</title>\n",
       "<g id=\"a_edge2\"><a xlink:title=\"2 → 4\">\n",
       "<path fill=\"none\" stroke=\"#4a4a4a\" d=\"M204.88,-288.05C203.07,-280.6 200.9,-271.64 198.85,-263.22\"/>\n",
       "<polygon fill=\"#4a4a4a\" stroke=\"#4a4a4a\" points=\"202.31,-262.64 196.55,-253.75 195.51,-264.29 202.31,-262.64\"/>\n",
       "</a>\n",
       "</g>\n",
       "</g>\n",
       "<!-- c -->\n",
       "<g id=\"node8\" class=\"node\">\n",
       "<title>c</title>\n",
       "<g id=\"a_node8\"><a xlink:title=\"(0) c\">\n",
       "<ellipse fill=\"#404040\" stroke=\"#4a4a4a\" cx=\"205\" cy=\"-450\" rx=\"27\" ry=\"18\"/>\n",
       "<text text-anchor=\"middle\" x=\"205\" y=\"-445.32\" font-family=\"Times,serif\" font-size=\"14.00\" fill=\"white\">c</text>\n",
       "</a>\n",
       "</g>\n",
       "</g>\n",
       "<!-- c&#45;&gt;e -->\n",
       "<g id=\"edge1\" class=\"edge\">\n",
       "<title>c-&gt;e</title>\n",
       "<g id=\"a_edge1\"><a xlink:title=\"0 → 1\">\n",
       "<path fill=\"none\" stroke=\"#4a4a4a\" d=\"M218.07,-433.83C226.01,-423.77 235.62,-409.9 241,-396 258.08,-351.87 262.65,-296.52 263.78,-263.55\"/>\n",
       "<polygon fill=\"#4a4a4a\" stroke=\"#4a4a4a\" points=\"267.27,-263.68 264.02,-253.6 260.28,-263.51 267.27,-263.68\"/>\n",
       "</a>\n",
       "</g>\n",
       "</g>\n",
       "<!-- t -->\n",
       "<g id=\"node10\" class=\"node\">\n",
       "<title>t</title>\n",
       "<g id=\"a_node10\"><a xlink:title=\"(5) t\">\n",
       "<ellipse fill=\"#404040\" stroke=\"#4a4a4a\" cx=\"137\" cy=\"-306\" rx=\"27\" ry=\"18\"/>\n",
       "<text text-anchor=\"middle\" x=\"137\" y=\"-301.32\" font-family=\"Times,serif\" font-size=\"14.00\" fill=\"white\">t</text>\n",
       "</a>\n",
       "</g>\n",
       "</g>\n",
       "<!-- c&#45;&gt;t -->\n",
       "<g id=\"edge11\" class=\"edge\">\n",
       "<title>c-&gt;t</title>\n",
       "<g id=\"a_edge11\"><a xlink:title=\"0 → 5\">\n",
       "<path fill=\"none\" stroke=\"#4a4a4a\" d=\"M192.87,-433.41C185.31,-423.18 175.76,-409.28 169,-396 158.98,-376.31 150.65,-352.74 145.01,-334.8\"/>\n",
       "<polygon fill=\"#4a4a4a\" stroke=\"#4a4a4a\" points=\"148.4,-333.92 142.14,-325.37 141.7,-335.96 148.4,-333.92\"/>\n",
       "</a>\n",
       "</g>\n",
       "</g>\n",
       "<!-- o -->\n",
       "<g id=\"node11\" class=\"node\">\n",
       "<title>o</title>\n",
       "<g id=\"a_node11\"><a xlink:title=\"(3) o\">\n",
       "<ellipse fill=\"#404040\" stroke=\"#4a4a4a\" cx=\"205\" cy=\"-378\" rx=\"27\" ry=\"18\"/>\n",
       "<text text-anchor=\"middle\" x=\"205\" y=\"-373.32\" font-family=\"Times,serif\" font-size=\"14.00\" fill=\"white\">o</text>\n",
       "</a>\n",
       "</g>\n",
       "</g>\n",
       "<!-- c&#45;&gt;o -->\n",
       "<g id=\"edge6\" class=\"edge\">\n",
       "<title>c-&gt;o</title>\n",
       "<g id=\"a_edge6\"><a xlink:title=\"0 → 3\">\n",
       "<path fill=\"none\" stroke=\"#4a4a4a\" d=\"M205,-431.7C205,-424.41 205,-415.73 205,-407.54\"/>\n",
       "<polygon fill=\"#4a4a4a\" stroke=\"#4a4a4a\" points=\"208.5,-407.62 205,-397.62 201.5,-407.62 208.5,-407.62\"/>\n",
       "</a>\n",
       "</g>\n",
       "</g>\n",
       "<!-- t&#45;&gt;a -->\n",
       "<g id=\"edge4\" class=\"edge\">\n",
       "<title>t-&gt;a</title>\n",
       "<g id=\"a_edge4\"><a xlink:title=\"5 → 8\">\n",
       "<path fill=\"none\" stroke=\"#4a4a4a\" d=\"M137.6,-287.93C138.09,-257.84 136.59,-193.84 118,-144 114.21,-133.85 108.1,-123.76 101.98,-115.14\"/>\n",
       "<polygon fill=\"#4a4a4a\" stroke=\"#4a4a4a\" points=\"104.91,-113.22 96.1,-107.33 99.32,-117.43 104.91,-113.22\"/>\n",
       "</a>\n",
       "</g>\n",
       "</g>\n",
       "<!-- t&#45;&gt;n -->\n",
       "<g id=\"edge5\" class=\"edge\">\n",
       "<title>t-&gt;n</title>\n",
       "<g id=\"a_edge5\"><a xlink:title=\"5 → 4\">\n",
       "<path fill=\"none\" stroke=\"#4a4a4a\" d=\"M149.21,-289.46C156.11,-280.67 164.91,-269.48 172.73,-259.53\"/>\n",
       "<polygon fill=\"#4a4a4a\" stroke=\"#4a4a4a\" points=\"175.47,-261.71 178.89,-251.68 169.96,-257.38 175.47,-261.71\"/>\n",
       "</a>\n",
       "</g>\n",
       "</g>\n",
       "<!-- o&#45;&gt;s -->\n",
       "<g id=\"edge12\" class=\"edge\">\n",
       "<title>o-&gt;s</title>\n",
       "<g id=\"a_edge12\"><a xlink:title=\"3 → 6\">\n",
       "<path fill=\"none\" stroke=\"#4a4a4a\" d=\"M183.74,-366.37C160.37,-354.69 122.62,-335.81 95.97,-322.49\"/>\n",
       "<polygon fill=\"#4a4a4a\" stroke=\"#4a4a4a\" points=\"97.87,-319.52 87.36,-318.18 94.74,-325.78 97.87,-319.52\"/>\n",
       "</a>\n",
       "</g>\n",
       "</g>\n",
       "<!-- o&#45;&gt;f -->\n",
       "<g id=\"edge14\" class=\"edge\">\n",
       "<title>o-&gt;f</title>\n",
       "<g id=\"a_edge14\"><a xlink:title=\"3 → 2\">\n",
       "<path fill=\"none\" stroke=\"#4a4a4a\" d=\"M205.99,-359.7C206.41,-352.41 206.9,-343.73 207.37,-335.54\"/>\n",
       "<polygon fill=\"#4a4a4a\" stroke=\"#4a4a4a\" points=\"210.86,-335.8 207.94,-325.62 203.87,-335.4 210.86,-335.8\"/>\n",
       "</a>\n",
       "</g>\n",
       "</g>\n",
       "</g>\n",
       "</svg>"
      ],
      "text/plain": [
       "(pyAgrum.BayesNet@0x5c2a380344d0) BN{nodes: 11, arcs: 16, domainSize: 2048, dim: 37, mem: 592o}"
      ]
     },
     "execution_count": 22,
     "metadata": {},
     "output_type": "execute_result"
    }
   ],
   "source": [
    "import pyAgrum.lib.notebook as gnb\n",
    "bnLI"
   ]
  },
  {
   "cell_type": "code",
   "execution_count": null,
   "id": "833b90df-0691-4f84-a055-2181c9f1169e",
   "metadata": {},
   "outputs": [],
   "source": [
    "Incorporamos otro arco para \"Viajes Estelares\""
   ]
  },
  {
   "cell_type": "code",
   "execution_count": 20,
   "id": "1c55ce88-4e18-4403-b22d-9d95de090548",
   "metadata": {},
   "outputs": [],
   "source": [
    "bnLIViajes = bnLI"
   ]
  },
  {
   "cell_type": "code",
   "execution_count": 25,
   "id": "c8454639-f69b-4b08-a1b3-ce24d826c5c5",
   "metadata": {},
   "outputs": [
    {
     "name": "stdout",
     "output_type": "stream",
     "text": [
      "BN{nodes: 11, arcs: 18, domainSize: 2048, dim: 45, mem: 720o}\n"
     ]
    }
   ],
   "source": [
    "for link in [(id_nucleo,id_nada), (id_nucleo,id_espiral)] : \n",
    "    bnLIViajes.addArc(*link)\n",
    "print(bnLIViajes)"
   ]
  },
  {
   "cell_type": "code",
   "execution_count": 21,
   "id": "2f6ca60c-6ecd-4e19-90ca-869142892449",
   "metadata": {},
   "outputs": [
    {
     "data": {
      "text/html": [
       "<svg xmlns=\"http://www.w3.org/2000/svg\" xmlns:xlink=\"http://www.w3.org/1999/xlink\" width=\"226pt\" height=\"360pt\" viewBox=\"0.00 0.00 226.13 360.00\">\n",
       "<g id=\"graph0\" class=\"graph\" transform=\"scale(0.756303 0.756303) rotate(0) translate(4 472)\">\n",
       "<title>G</title>\n",
       "<!-- s -->\n",
       "<g id=\"node1\" class=\"node\">\n",
       "<title>s</title>\n",
       "<g id=\"a_node1\"><a xlink:title=\"(6) s\">\n",
       "<ellipse fill=\"#404040\" stroke=\"#4a4a4a\" cx=\"65\" cy=\"-306\" rx=\"27\" ry=\"18\"/>\n",
       "<text text-anchor=\"middle\" x=\"65\" y=\"-301.32\" font-family=\"Times,serif\" font-size=\"14.00\" fill=\"white\">s</text>\n",
       "</a>\n",
       "</g>\n",
       "</g>\n",
       "<!-- r -->\n",
       "<g id=\"node3\" class=\"node\">\n",
       "<title>r</title>\n",
       "<g id=\"a_node3\"><a xlink:title=\"(10) r\">\n",
       "<ellipse fill=\"#404040\" stroke=\"#4a4a4a\" cx=\"65\" cy=\"-234\" rx=\"27\" ry=\"18\"/>\n",
       "<text text-anchor=\"middle\" x=\"65\" y=\"-229.32\" font-family=\"Times,serif\" font-size=\"14.00\" fill=\"white\">r</text>\n",
       "</a>\n",
       "</g>\n",
       "</g>\n",
       "<!-- s&#45;&gt;r -->\n",
       "<g id=\"edge10\" class=\"edge\">\n",
       "<title>s-&gt;r</title>\n",
       "<g id=\"a_edge10\"><a xlink:title=\"6 → 10\">\n",
       "<path fill=\"none\" stroke=\"#4a4a4a\" d=\"M65,-287.7C65,-280.41 65,-271.73 65,-263.54\"/>\n",
       "<polygon fill=\"#4a4a4a\" stroke=\"#4a4a4a\" points=\"68.5,-263.62 65,-253.62 61.5,-263.62 68.5,-263.62\"/>\n",
       "</a>\n",
       "</g>\n",
       "</g>\n",
       "<!-- v -->\n",
       "<g id=\"node7\" class=\"node\">\n",
       "<title>v</title>\n",
       "<g id=\"a_node7\"><a xlink:title=\"(9) v\">\n",
       "<ellipse fill=\"#404040\" stroke=\"#4a4a4a\" cx=\"27\" cy=\"-18\" rx=\"27\" ry=\"18\"/>\n",
       "<text text-anchor=\"middle\" x=\"27\" y=\"-13.32\" font-family=\"Times,serif\" font-size=\"14.00\" fill=\"white\">v</text>\n",
       "</a>\n",
       "</g>\n",
       "</g>\n",
       "<!-- s&#45;&gt;v -->\n",
       "<g id=\"edge15\" class=\"edge\">\n",
       "<title>s-&gt;v</title>\n",
       "<g id=\"a_edge15\"><a xlink:title=\"6 → 9\">\n",
       "<path fill=\"none\" stroke=\"#4a4a4a\" d=\"M51.35,-290.04C43.18,-280.06 33.53,-266.2 29,-252 6.42,-181.22 15.21,-92.07 21.98,-47.34\"/>\n",
       "<polygon fill=\"#4a4a4a\" stroke=\"#4a4a4a\" points=\"25.4,-48.13 23.53,-37.7 18.49,-47.02 25.4,-48.13\"/>\n",
       "</a>\n",
       "</g>\n",
       "</g>\n",
       "<!-- n -->\n",
       "<g id=\"node9\" class=\"node\">\n",
       "<title>n</title>\n",
       "<g id=\"a_node9\"><a xlink:title=\"(4) n\">\n",
       "<ellipse fill=\"#404040\" stroke=\"#4a4a4a\" cx=\"192\" cy=\"-234\" rx=\"27\" ry=\"18\"/>\n",
       "<text text-anchor=\"middle\" x=\"192\" y=\"-229.32\" font-family=\"Times,serif\" font-size=\"14.00\" fill=\"white\">n</text>\n",
       "</a>\n",
       "</g>\n",
       "</g>\n",
       "<!-- s&#45;&gt;n -->\n",
       "<g id=\"edge8\" class=\"edge\">\n",
       "<title>s-&gt;n</title>\n",
       "<g id=\"a_edge8\"><a xlink:title=\"6 → 4\">\n",
       "<path fill=\"none\" stroke=\"#4a4a4a\" d=\"M85.4,-293.75C106.05,-282.37 138.2,-264.65 161.8,-251.65\"/>\n",
       "<polygon fill=\"#4a4a4a\" stroke=\"#4a4a4a\" points=\"163.25,-254.84 170.32,-246.95 159.87,-248.71 163.25,-254.84\"/>\n",
       "</a>\n",
       "</g>\n",
       "</g>\n",
       "<!-- a -->\n",
       "<g id=\"node2\" class=\"node\">\n",
       "<title>a</title>\n",
       "<g id=\"a_node2\"><a xlink:title=\"(8) a\">\n",
       "<ellipse fill=\"#404040\" stroke=\"#4a4a4a\" cx=\"82\" cy=\"-90\" rx=\"27\" ry=\"18\"/>\n",
       "<text text-anchor=\"middle\" x=\"82\" y=\"-85.33\" font-family=\"Times,serif\" font-size=\"14.00\" fill=\"white\">a</text>\n",
       "</a>\n",
       "</g>\n",
       "</g>\n",
       "<!-- a&#45;&gt;v -->\n",
       "<g id=\"edge9\" class=\"edge\">\n",
       "<title>a-&gt;v</title>\n",
       "<g id=\"a_edge9\"><a xlink:title=\"8 → 9\">\n",
       "<path fill=\"none\" stroke=\"#4a4a4a\" d=\"M69.79,-73.46C62.89,-64.67 54.09,-53.48 46.27,-43.53\"/>\n",
       "<polygon fill=\"#4a4a4a\" stroke=\"#4a4a4a\" points=\"49.04,-41.38 40.11,-35.68 43.53,-45.71 49.04,-41.38\"/>\n",
       "</a>\n",
       "</g>\n",
       "</g>\n",
       "<!-- y -->\n",
       "<g id=\"node4\" class=\"node\">\n",
       "<title>y</title>\n",
       "<g id=\"a_node4\"><a xlink:title=\"(7) y\">\n",
       "<ellipse fill=\"#404040\" stroke=\"#4a4a4a\" cx=\"82\" cy=\"-162\" rx=\"27\" ry=\"18\"/>\n",
       "<text text-anchor=\"middle\" x=\"82\" y=\"-157.32\" font-family=\"Times,serif\" font-size=\"14.00\" fill=\"white\">y</text>\n",
       "</a>\n",
       "</g>\n",
       "</g>\n",
       "<!-- r&#45;&gt;y -->\n",
       "<g id=\"edge7\" class=\"edge\">\n",
       "<title>r-&gt;y</title>\n",
       "<g id=\"a_edge7\"><a xlink:title=\"10 → 7\">\n",
       "<path fill=\"none\" stroke=\"#4a4a4a\" d=\"M69.12,-216.05C70.93,-208.6 73.1,-199.64 75.15,-191.22\"/>\n",
       "<polygon fill=\"#4a4a4a\" stroke=\"#4a4a4a\" points=\"78.49,-192.29 77.45,-181.75 71.69,-190.64 78.49,-192.29\"/>\n",
       "</a>\n",
       "</g>\n",
       "</g>\n",
       "<!-- r&#45;&gt;v -->\n",
       "<g id=\"edge13\" class=\"edge\">\n",
       "<title>r-&gt;v</title>\n",
       "<g id=\"a_edge13\"><a xlink:title=\"10 → 9\">\n",
       "<path fill=\"none\" stroke=\"#4a4a4a\" d=\"M58.02,-216.58C53.91,-206.26 48.95,-192.56 46,-180 35.26,-134.33 30.45,-79.87 28.4,-47.43\"/>\n",
       "<polygon fill=\"#4a4a4a\" stroke=\"#4a4a4a\" points=\"31.91,-47.43 27.83,-37.65 24.92,-47.84 31.91,-47.43\"/>\n",
       "</a>\n",
       "</g>\n",
       "</g>\n",
       "<!-- y&#45;&gt;a -->\n",
       "<g id=\"edge16\" class=\"edge\">\n",
       "<title>y-&gt;a</title>\n",
       "<g id=\"a_edge16\"><a xlink:title=\"7 → 8\">\n",
       "<path fill=\"none\" stroke=\"#4a4a4a\" d=\"M82,-143.7C82,-136.41 82,-127.73 82,-119.54\"/>\n",
       "<polygon fill=\"#4a4a4a\" stroke=\"#4a4a4a\" points=\"85.5,-119.62 82,-109.62 78.5,-119.62 85.5,-119.62\"/>\n",
       "</a>\n",
       "</g>\n",
       "</g>\n",
       "<!-- f -->\n",
       "<g id=\"node5\" class=\"node\">\n",
       "<title>f</title>\n",
       "<g id=\"a_node5\"><a xlink:title=\"(2) f\">\n",
       "<ellipse fill=\"#404040\" stroke=\"#4a4a4a\" cx=\"209\" cy=\"-306\" rx=\"27\" ry=\"18\"/>\n",
       "<text text-anchor=\"middle\" x=\"209\" y=\"-301.32\" font-family=\"Times,serif\" font-size=\"14.00\" fill=\"white\">f</text>\n",
       "</a>\n",
       "</g>\n",
       "</g>\n",
       "<!-- e -->\n",
       "<g id=\"node6\" class=\"node\">\n",
       "<title>e</title>\n",
       "<g id=\"a_node6\"><a xlink:title=\"(1) e\">\n",
       "<ellipse fill=\"#404040\" stroke=\"#4a4a4a\" cx=\"264\" cy=\"-234\" rx=\"27\" ry=\"18\"/>\n",
       "<text text-anchor=\"middle\" x=\"264\" y=\"-229.32\" font-family=\"Times,serif\" font-size=\"14.00\" fill=\"white\">e</text>\n",
       "</a>\n",
       "</g>\n",
       "</g>\n",
       "<!-- f&#45;&gt;e -->\n",
       "<g id=\"edge3\" class=\"edge\">\n",
       "<title>f-&gt;e</title>\n",
       "<g id=\"a_edge3\"><a xlink:title=\"2 → 1\">\n",
       "<path fill=\"none\" stroke=\"#4a4a4a\" d=\"M221.21,-289.46C228.11,-280.67 236.91,-269.48 244.73,-259.53\"/>\n",
       "<polygon fill=\"#4a4a4a\" stroke=\"#4a4a4a\" points=\"247.47,-261.71 250.89,-251.68 241.96,-257.38 247.47,-261.71\"/>\n",
       "</a>\n",
       "</g>\n",
       "</g>\n",
       "<!-- f&#45;&gt;n -->\n",
       "<g id=\"edge2\" class=\"edge\">\n",
       "<title>f-&gt;n</title>\n",
       "<g id=\"a_edge2\"><a xlink:title=\"2 → 4\">\n",
       "<path fill=\"none\" stroke=\"#4a4a4a\" d=\"M204.88,-288.05C203.07,-280.6 200.9,-271.64 198.85,-263.22\"/>\n",
       "<polygon fill=\"#4a4a4a\" stroke=\"#4a4a4a\" points=\"202.31,-262.64 196.55,-253.75 195.51,-264.29 202.31,-262.64\"/>\n",
       "</a>\n",
       "</g>\n",
       "</g>\n",
       "<!-- c -->\n",
       "<g id=\"node8\" class=\"node\">\n",
       "<title>c</title>\n",
       "<g id=\"a_node8\"><a xlink:title=\"(0) c\">\n",
       "<ellipse fill=\"#404040\" stroke=\"#4a4a4a\" cx=\"205\" cy=\"-450\" rx=\"27\" ry=\"18\"/>\n",
       "<text text-anchor=\"middle\" x=\"205\" y=\"-445.32\" font-family=\"Times,serif\" font-size=\"14.00\" fill=\"white\">c</text>\n",
       "</a>\n",
       "</g>\n",
       "</g>\n",
       "<!-- c&#45;&gt;e -->\n",
       "<g id=\"edge1\" class=\"edge\">\n",
       "<title>c-&gt;e</title>\n",
       "<g id=\"a_edge1\"><a xlink:title=\"0 → 1\">\n",
       "<path fill=\"none\" stroke=\"#4a4a4a\" d=\"M218.07,-433.83C226.01,-423.77 235.62,-409.9 241,-396 258.08,-351.87 262.65,-296.52 263.78,-263.55\"/>\n",
       "<polygon fill=\"#4a4a4a\" stroke=\"#4a4a4a\" points=\"267.27,-263.68 264.02,-253.6 260.28,-263.51 267.27,-263.68\"/>\n",
       "</a>\n",
       "</g>\n",
       "</g>\n",
       "<!-- t -->\n",
       "<g id=\"node10\" class=\"node\">\n",
       "<title>t</title>\n",
       "<g id=\"a_node10\"><a xlink:title=\"(5) t\">\n",
       "<ellipse fill=\"#404040\" stroke=\"#4a4a4a\" cx=\"137\" cy=\"-306\" rx=\"27\" ry=\"18\"/>\n",
       "<text text-anchor=\"middle\" x=\"137\" y=\"-301.32\" font-family=\"Times,serif\" font-size=\"14.00\" fill=\"white\">t</text>\n",
       "</a>\n",
       "</g>\n",
       "</g>\n",
       "<!-- c&#45;&gt;t -->\n",
       "<g id=\"edge11\" class=\"edge\">\n",
       "<title>c-&gt;t</title>\n",
       "<g id=\"a_edge11\"><a xlink:title=\"0 → 5\">\n",
       "<path fill=\"none\" stroke=\"#4a4a4a\" d=\"M192.87,-433.41C185.31,-423.18 175.76,-409.28 169,-396 158.98,-376.31 150.65,-352.74 145.01,-334.8\"/>\n",
       "<polygon fill=\"#4a4a4a\" stroke=\"#4a4a4a\" points=\"148.4,-333.92 142.14,-325.37 141.7,-335.96 148.4,-333.92\"/>\n",
       "</a>\n",
       "</g>\n",
       "</g>\n",
       "<!-- o -->\n",
       "<g id=\"node11\" class=\"node\">\n",
       "<title>o</title>\n",
       "<g id=\"a_node11\"><a xlink:title=\"(3) o\">\n",
       "<ellipse fill=\"#404040\" stroke=\"#4a4a4a\" cx=\"205\" cy=\"-378\" rx=\"27\" ry=\"18\"/>\n",
       "<text text-anchor=\"middle\" x=\"205\" y=\"-373.32\" font-family=\"Times,serif\" font-size=\"14.00\" fill=\"white\">o</text>\n",
       "</a>\n",
       "</g>\n",
       "</g>\n",
       "<!-- c&#45;&gt;o -->\n",
       "<g id=\"edge6\" class=\"edge\">\n",
       "<title>c-&gt;o</title>\n",
       "<g id=\"a_edge6\"><a xlink:title=\"0 → 3\">\n",
       "<path fill=\"none\" stroke=\"#4a4a4a\" d=\"M205,-431.7C205,-424.41 205,-415.73 205,-407.54\"/>\n",
       "<polygon fill=\"#4a4a4a\" stroke=\"#4a4a4a\" points=\"208.5,-407.62 205,-397.62 201.5,-407.62 208.5,-407.62\"/>\n",
       "</a>\n",
       "</g>\n",
       "</g>\n",
       "<!-- t&#45;&gt;a -->\n",
       "<g id=\"edge4\" class=\"edge\">\n",
       "<title>t-&gt;a</title>\n",
       "<g id=\"a_edge4\"><a xlink:title=\"5 → 8\">\n",
       "<path fill=\"none\" stroke=\"#4a4a4a\" d=\"M137.6,-287.93C138.09,-257.84 136.59,-193.84 118,-144 114.21,-133.85 108.1,-123.76 101.98,-115.14\"/>\n",
       "<polygon fill=\"#4a4a4a\" stroke=\"#4a4a4a\" points=\"104.91,-113.22 96.1,-107.33 99.32,-117.43 104.91,-113.22\"/>\n",
       "</a>\n",
       "</g>\n",
       "</g>\n",
       "<!-- t&#45;&gt;n -->\n",
       "<g id=\"edge5\" class=\"edge\">\n",
       "<title>t-&gt;n</title>\n",
       "<g id=\"a_edge5\"><a xlink:title=\"5 → 4\">\n",
       "<path fill=\"none\" stroke=\"#4a4a4a\" d=\"M149.21,-289.46C156.11,-280.67 164.91,-269.48 172.73,-259.53\"/>\n",
       "<polygon fill=\"#4a4a4a\" stroke=\"#4a4a4a\" points=\"175.47,-261.71 178.89,-251.68 169.96,-257.38 175.47,-261.71\"/>\n",
       "</a>\n",
       "</g>\n",
       "</g>\n",
       "<!-- o&#45;&gt;s -->\n",
       "<g id=\"edge12\" class=\"edge\">\n",
       "<title>o-&gt;s</title>\n",
       "<g id=\"a_edge12\"><a xlink:title=\"3 → 6\">\n",
       "<path fill=\"none\" stroke=\"#4a4a4a\" d=\"M183.74,-366.37C160.37,-354.69 122.62,-335.81 95.97,-322.49\"/>\n",
       "<polygon fill=\"#4a4a4a\" stroke=\"#4a4a4a\" points=\"97.87,-319.52 87.36,-318.18 94.74,-325.78 97.87,-319.52\"/>\n",
       "</a>\n",
       "</g>\n",
       "</g>\n",
       "<!-- o&#45;&gt;f -->\n",
       "<g id=\"edge14\" class=\"edge\">\n",
       "<title>o-&gt;f</title>\n",
       "<g id=\"a_edge14\"><a xlink:title=\"3 → 2\">\n",
       "<path fill=\"none\" stroke=\"#4a4a4a\" d=\"M205.99,-359.7C206.41,-352.41 206.9,-343.73 207.37,-335.54\"/>\n",
       "<polygon fill=\"#4a4a4a\" stroke=\"#4a4a4a\" points=\"210.86,-335.8 207.94,-325.62 203.87,-335.4 210.86,-335.8\"/>\n",
       "</a>\n",
       "</g>\n",
       "</g>\n",
       "</g>\n",
       "</svg>"
      ],
      "text/plain": [
       "(pyAgrum.BayesNet@0x5c2a380344d0) BN{nodes: 11, arcs: 16, domainSize: 2048, dim: 37, mem: 592o}"
      ]
     },
     "execution_count": 21,
     "metadata": {},
     "output_type": "execute_result"
    }
   ],
   "source": [
    "bnLIViajes"
   ]
  },
  {
   "cell_type": "code",
   "execution_count": null,
   "id": "b34ca81e-3dc7-4bc3-af16-9c5861c2550d",
   "metadata": {},
   "outputs": [],
   "source": [
    "Observamos nro. de arcos a los nodos hoja :\n",
    "En bnLI ,       2 (e), 3 (n), 3 (v)\n",
    "En bnLIViajes,  3 (e), 3 (a), 3 (v) "
   ]
  },
  {
   "cell_type": "code",
   "execution_count": null,
   "id": "1e0de2f1-ecff-4b86-9942-278f05afd90b",
   "metadata": {},
   "outputs": [],
   "source": [
    "BUSCAMOS DESARROLLAR \"s\".    "
   ]
  },
  {
   "cell_type": "code",
   "execution_count": 23,
   "id": "057ff7ea-61f2-432e-9b20-967eaa8c4b2c",
   "metadata": {},
   "outputs": [
    {
     "data": {
      "text/html": [
       "<table style=\"border:1px solid black;border-collapse: collapse;\">\n",
       "<tr style='border:1px solid black;color:black;background-color:#808080'>\n",
       "      <th colspan='2'><center>c</center></th></tr>\n",
       "<tr><th style='border:1px solid black;border-bottom-style: double;color:black;background-color:#BBBBBB'>\n",
       "      <center>0</center></th><th style='border:1px solid black;border-bottom-style: double;color:black;background-color:#BBBBBB'>\n",
       "      <center>1</center></th></tr>\n",
       "<tr><td style='color:black;background-color:#bfbf64;text-align:right;padding: 3px;'>0.5000</td><td style='color:black;background-color:#bfbf64;text-align:right;padding: 3px;'>0.5000</td></tr>\n",
       "</table>"
      ],
      "text/plain": [
       "(pyAgrum.Potential@0x5c2a379d1540) \n",
       "  c                |\n",
       "0        |1        |\n",
       "---------|---------|\n",
       " 0.5000  | 0.5000  |"
      ]
     },
     "execution_count": 23,
     "metadata": {},
     "output_type": "execute_result"
    }
   ],
   "source": [
    "bnLI.cpt(\"c\").fillWith([0.5,0.5])"
   ]
  },
  {
   "cell_type": "code",
   "execution_count": 24,
   "id": "953945f6-872c-422c-9692-9e3f55c7da56",
   "metadata": {},
   "outputs": [
    {
     "data": {
      "text/plain": [
       "('o', 'c')"
      ]
     },
     "execution_count": 24,
     "metadata": {},
     "output_type": "execute_result"
    }
   ],
   "source": [
    "bnLI.cpt(\"o\").names"
   ]
  },
  {
   "cell_type": "code",
   "execution_count": null,
   "id": "36fc473e-f966-47ee-832a-7273e4038ed6",
   "metadata": {},
   "outputs": [],
   "source": [
    "VALORES TATTWAS \"YO SOY 1\". y \"YO SOY 2\".      55        27"
   ]
  },
  {
   "cell_type": "code",
   "execution_count": 25,
   "id": "d713c242-ad26-4878-92a7-70d8aeea7b7a",
   "metadata": {},
   "outputs": [],
   "source": [
    "bnLI.cpt(\"o\")[:]=[ [0.55,0.45],[0.27,0.73]]"
   ]
  },
  {
   "cell_type": "code",
   "execution_count": 26,
   "id": "3ad824f8-1a94-4782-97c0-3909bb8520e1",
   "metadata": {},
   "outputs": [
    {
     "data": {
      "text/plain": [
       "('s', 'o')"
      ]
     },
     "execution_count": 26,
     "metadata": {},
     "output_type": "execute_result"
    }
   ],
   "source": [
    "bnLI.cpt(\"s\").names"
   ]
  },
  {
   "cell_type": "code",
   "execution_count": null,
   "id": "25891420-42d8-47c1-a3d8-658ccca99815",
   "metadata": {},
   "outputs": [],
   "source": [
    "VALORES TATTWAS \"YO SOY 2\" y \"YO SOY 3\".        27        45"
   ]
  },
  {
   "cell_type": "code",
   "execution_count": 27,
   "id": "ccb1c087-280b-4fd4-a1bc-96740f261eca",
   "metadata": {},
   "outputs": [],
   "source": [
    "bnLI.cpt(\"s\")[:]=[ [0.27,0.73],[0.45,0.55]]"
   ]
  },
  {
   "cell_type": "code",
   "execution_count": 28,
   "id": "59188634-dad8-4cc2-a286-8c21bb7a757e",
   "metadata": {},
   "outputs": [
    {
     "data": {
      "text/html": [
       "<table style=\"border:1px solid black;border-collapse: collapse;\">\n",
       "<tr><th colspan='1'></th>\n",
       "      <th colspan='2' style='border:1px solid black;color:black;background-color:#808080;'><center>s</center>\n",
       "      </th></tr>\n",
       "<tr><th style='border:1px solid black;color:black;background-color:#808080'><center>o</center></th><th style='border:1px solid black;border-bottom-style: double;color:black;background-color:#BBBBBB'>\n",
       "      <center>0</center></th><th style='border:1px solid black;border-bottom-style: double;color:black;background-color:#BBBBBB'>\n",
       "      <center>1</center></th></tr>\n",
       "<tr><th style='border:1px solid black;color:black;background-color:#BBBBBB'><center>0</center></th><td style='color:black;background-color:#dca164;text-align:right;padding: 3px;'>0.2700</td><td style='color:black;background-color:#a1dc64;text-align:right;padding: 3px;'>0.7300</td></tr>\n",
       "<tr><th style='border:1px solid black;color:black;background-color:#BBBBBB'><center>1</center></th><td style='color:black;background-color:#c5b864;text-align:right;padding: 3px;'>0.4500</td><td style='color:black;background-color:#b8c564;text-align:right;padding: 3px;'>0.5500</td></tr>\n",
       "</table>"
      ],
      "text/plain": [
       "(pyAgrum.Potential@0x5c2a3815e160) \n",
       "      ||  s                |\n",
       "o     ||0        |1        |\n",
       "------||---------|---------|\n",
       "0     || 0.2700  | 0.7300  |\n",
       "1     || 0.4500  | 0.5500  |"
      ]
     },
     "execution_count": 28,
     "metadata": {},
     "output_type": "execute_result"
    }
   ],
   "source": [
    "bnLI.cpt(\"s\")"
   ]
  },
  {
   "cell_type": "code",
   "execution_count": null,
   "id": "47cc57af-a64f-4fe8-b7bf-350831c07da7",
   "metadata": {},
   "outputs": [],
   "source": [
    "BUSCAMOS DESARROLLAR \"r\". VALORES TATTWAS \"YO SOY 4\". \"YO SOY 2\".  52 y 27"
   ]
  },
  {
   "cell_type": "code",
   "execution_count": 29,
   "id": "3d11cee7-2c99-48ef-81c4-4d1ef120a9e5",
   "metadata": {},
   "outputs": [
    {
     "data": {
      "text/plain": [
       "('r', 's')"
      ]
     },
     "execution_count": 29,
     "metadata": {},
     "output_type": "execute_result"
    }
   ],
   "source": [
    "bnLI.cpt(\"r\").names"
   ]
  },
  {
   "cell_type": "code",
   "execution_count": 30,
   "id": "b46672ea-8061-48c1-9cbb-e10c8184e559",
   "metadata": {},
   "outputs": [],
   "source": [
    "bnLI.cpt(\"r\")[:]=[ [0.52,0.48],[0.27,0.73]]"
   ]
  },
  {
   "cell_type": "code",
   "execution_count": 31,
   "id": "eba37121-ebc0-4097-8908-d0dccd33ec34",
   "metadata": {},
   "outputs": [
    {
     "data": {
      "text/html": [
       "<table style=\"border:1px solid black;border-collapse: collapse;\">\n",
       "<tr><th colspan='1'></th>\n",
       "      <th colspan='2' style='border:1px solid black;color:black;background-color:#808080;'><center>r</center>\n",
       "      </th></tr>\n",
       "<tr><th style='border:1px solid black;color:black;background-color:#808080'><center>s</center></th><th style='border:1px solid black;border-bottom-style: double;color:black;background-color:#BBBBBB'>\n",
       "      <center>0</center></th><th style='border:1px solid black;border-bottom-style: double;color:black;background-color:#BBBBBB'>\n",
       "      <center>1</center></th></tr>\n",
       "<tr><th style='border:1px solid black;color:black;background-color:#BBBBBB'><center>0</center></th><td style='color:black;background-color:#bcc164;text-align:right;padding: 3px;'>0.5200</td><td style='color:black;background-color:#c1bc64;text-align:right;padding: 3px;'>0.4800</td></tr>\n",
       "<tr><th style='border:1px solid black;color:black;background-color:#BBBBBB'><center>1</center></th><td style='color:black;background-color:#dca164;text-align:right;padding: 3px;'>0.2700</td><td style='color:black;background-color:#a1dc64;text-align:right;padding: 3px;'>0.7300</td></tr>\n",
       "</table>"
      ],
      "text/plain": [
       "(pyAgrum.Potential@0x5c2a38031fc0) \n",
       "      ||  r                |\n",
       "s     ||0        |1        |\n",
       "------||---------|---------|\n",
       "0     || 0.5200  | 0.4800  |\n",
       "1     || 0.2700  | 0.7300  |"
      ]
     },
     "execution_count": 31,
     "metadata": {},
     "output_type": "execute_result"
    }
   ],
   "source": [
    "bnLI.cpt(\"r\")"
   ]
  },
  {
   "cell_type": "code",
   "execution_count": null,
   "id": "4f049dcd-2930-4e7b-939f-b4e29eb540c9",
   "metadata": {},
   "outputs": [],
   "source": [
    "38-39   39-67   38-67   YO PIENSO."
   ]
  }
 ],
 "metadata": {
  "kernelspec": {
   "display_name": "Python 3 (ipykernel)",
   "language": "python",
   "name": "python3"
  },
  "language_info": {
   "codemirror_mode": {
    "name": "ipython",
    "version": 3
   },
   "file_extension": ".py",
   "mimetype": "text/x-python",
   "name": "python",
   "nbconvert_exporter": "python",
   "pygments_lexer": "ipython3",
   "version": "3.12.7"
  }
 },
 "nbformat": 4,
 "nbformat_minor": 5
}
